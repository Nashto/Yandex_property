{
 "cells": [
  {
   "cell_type": "markdown",
   "metadata": {
    "toc": true
   },
   "source": [
    "<h1>Содержание<span class=\"tocSkip\"></span></h1>\n",
    "<div class=\"toc\"><ul class=\"toc-item\"><li><span><a href=\"#Изучение-данных-из-файла\" data-toc-modified-id=\"Изучение-данных-из-файла-1\"><span class=\"toc-item-num\">1&nbsp;&nbsp;</span>Изучение данных из файла</a></span><ul class=\"toc-item\"><li><span><a href=\"#Вывод\" data-toc-modified-id=\"Вывод-1.1\"><span class=\"toc-item-num\">1.1&nbsp;&nbsp;</span>Вывод</a></span></li></ul></li><li><span><a href=\"#Предобработка-данных\" data-toc-modified-id=\"Предобработка-данных-2\"><span class=\"toc-item-num\">2&nbsp;&nbsp;</span>Предобработка данных</a></span><ul class=\"toc-item\"><li><span><a href=\"#Обработка-пропусков\" data-toc-modified-id=\"Обработка-пропусков-2.1\"><span class=\"toc-item-num\">2.1&nbsp;&nbsp;</span>Обработка пропусков</a></span><ul class=\"toc-item\"><li><span><a href=\"#Выводы\" data-toc-modified-id=\"Выводы-2.1.1\"><span class=\"toc-item-num\">2.1.1&nbsp;&nbsp;</span>Выводы</a></span></li></ul></li><li><span><a href=\"#Приведение-данных-к-единому-типу-и-виду\" data-toc-modified-id=\"Приведение-данных-к-единому-типу-и-виду-2.2\"><span class=\"toc-item-num\">2.2&nbsp;&nbsp;</span>Приведение данных к единому типу и виду</a></span><ul class=\"toc-item\"><li><span><a href=\"#Выводы\" data-toc-modified-id=\"Выводы-2.2.1\"><span class=\"toc-item-num\">2.2.1&nbsp;&nbsp;</span>Выводы</a></span></li></ul></li><li><span><a href=\"#Поиск-дубликатов\" data-toc-modified-id=\"Поиск-дубликатов-2.3\"><span class=\"toc-item-num\">2.3&nbsp;&nbsp;</span>Поиск дубликатов</a></span><ul class=\"toc-item\"><li><span><a href=\"#Выводы\" data-toc-modified-id=\"Выводы-2.3.1\"><span class=\"toc-item-num\">2.3.1&nbsp;&nbsp;</span>Выводы</a></span></li></ul></li></ul></li><li><span><a href=\"#Расчёты-и-добавление-результатов-в-таблицу\" data-toc-modified-id=\"Расчёты-и-добавление-результатов-в-таблицу-3\"><span class=\"toc-item-num\">3&nbsp;&nbsp;</span>Расчёты и добавление результатов в таблицу</a></span></li><li><span><a href=\"#Исследовательский-анализ-данных\" data-toc-modified-id=\"Исследовательский-анализ-данных-4\"><span class=\"toc-item-num\">4&nbsp;&nbsp;</span>Исследовательский анализ данных</a></span></li><li><span><a href=\"#Общий-вывод\" data-toc-modified-id=\"Общий-вывод-5\"><span class=\"toc-item-num\">5&nbsp;&nbsp;</span>Общий вывод</a></span><ul class=\"toc-item\"><li><span><a href=\"#Общие-выводы-по-всем-населенным-пунктам\" data-toc-modified-id=\"Общие-выводы-по-всем-населенным-пунктам-5.1\"><span class=\"toc-item-num\">5.1&nbsp;&nbsp;</span>Общие выводы по всем населенным пунктам</a></span></li><li><span><a href=\"#Выводы-по-населенным-пунктам-центрального-района\" data-toc-modified-id=\"Выводы-по-населенным-пунктам-центрального-района-5.2\"><span class=\"toc-item-num\">5.2&nbsp;&nbsp;</span>Выводы по населенным пунктам центрального района</a></span></li><li><span><a href=\"#Сходства-и-различия-между-центральными-и-всеми-приведенными-населенными-пунками\" data-toc-modified-id=\"Сходства-и-различия-между-центральными-и-всеми-приведенными-населенными-пунками-5.3\"><span class=\"toc-item-num\">5.3&nbsp;&nbsp;</span>Сходства и различия между центральными и всеми приведенными населенными пунками</a></span></li><li><span><a href=\"#Ключевые-параметры-оказывающие-влияние-на-стоимость-квартир\" data-toc-modified-id=\"Ключевые-параметры-оказывающие-влияние-на-стоимость-квартир-5.4\"><span class=\"toc-item-num\">5.4&nbsp;&nbsp;</span>Ключевые параметры оказывающие влияние на стоимость квартир</a></span></li></ul></li><li><span><a href=\"#Чек-лист-готовности-проекта\" data-toc-modified-id=\"Чек-лист-готовности-проекта-6\"><span class=\"toc-item-num\">6&nbsp;&nbsp;</span>Чек-лист готовности проекта</a></span></li></ul></div>"
   ]
  },
  {
   "cell_type": "markdown",
   "metadata": {},
   "source": [
    "# Исследование объявлений о продаже квартир\n",
    "\n",
    "В распоряжении имеются данные сервиса Яндекс.Недвижимость — архив объявлений о продаже квартир в Санкт-Петербурге и соседних населённых пунктах за несколько лет. Нужно определить рыночную стоимость объектов недвижимости. Главная задача — установить параметры, определяющие рыночную стоимость недвижимости в Санкт-Петербурге и его окрестностях. Это позволит построить автоматизированную систему: она отследит аномалии и мошенническую деятельность. \n",
    "\n",
    "По каждой квартире на продажу доступны два вида данных. Первые вписаны пользователем, вторые получены автоматически на основе картографических данных. Например, расстояние до центра, аэропорта, ближайшего парка и водоёма. "
   ]
  },
  {
   "cell_type": "markdown",
   "metadata": {},
   "source": [
    "## Изучение данных из файла"
   ]
  },
  {
   "cell_type": "markdown",
   "metadata": {},
   "source": [
    "Импорт необходимых для анализа библиотек"
   ]
  },
  {
   "cell_type": "code",
   "execution_count": 1,
   "metadata": {},
   "outputs": [],
   "source": [
    "import pandas as pd\n",
    "import matplotlib.pyplot as plt\n",
    "from pymystem3 import Mystem\n",
    "from collections import Counter\n",
    "import seaborn as sns\n",
    "import warnings\n",
    "warnings.filterwarnings(\"ignore\")"
   ]
  },
  {
   "cell_type": "code",
   "execution_count": 2,
   "metadata": {},
   "outputs": [],
   "source": [
    "df = pd.read_csv('C:/Users/Nshan/Desktop/Проект_Яндекс_недвижимость/real_estate_data.csv', sep='\\t')"
   ]
  },
  {
   "cell_type": "code",
   "execution_count": 3,
   "metadata": {},
   "outputs": [
    {
     "data": {
      "text/html": [
       "<div>\n",
       "<style scoped>\n",
       "    .dataframe tbody tr th:only-of-type {\n",
       "        vertical-align: middle;\n",
       "    }\n",
       "\n",
       "    .dataframe tbody tr th {\n",
       "        vertical-align: top;\n",
       "    }\n",
       "\n",
       "    .dataframe thead th {\n",
       "        text-align: right;\n",
       "    }\n",
       "</style>\n",
       "<table border=\"1\" class=\"dataframe\">\n",
       "  <thead>\n",
       "    <tr style=\"text-align: right;\">\n",
       "      <th></th>\n",
       "      <th>total_images</th>\n",
       "      <th>last_price</th>\n",
       "      <th>total_area</th>\n",
       "      <th>first_day_exposition</th>\n",
       "      <th>rooms</th>\n",
       "      <th>ceiling_height</th>\n",
       "      <th>floors_total</th>\n",
       "      <th>living_area</th>\n",
       "      <th>floor</th>\n",
       "      <th>is_apartment</th>\n",
       "      <th>...</th>\n",
       "      <th>kitchen_area</th>\n",
       "      <th>balcony</th>\n",
       "      <th>locality_name</th>\n",
       "      <th>airports_nearest</th>\n",
       "      <th>cityCenters_nearest</th>\n",
       "      <th>parks_around3000</th>\n",
       "      <th>parks_nearest</th>\n",
       "      <th>ponds_around3000</th>\n",
       "      <th>ponds_nearest</th>\n",
       "      <th>days_exposition</th>\n",
       "    </tr>\n",
       "  </thead>\n",
       "  <tbody>\n",
       "    <tr>\n",
       "      <th>0</th>\n",
       "      <td>20</td>\n",
       "      <td>13000000.0</td>\n",
       "      <td>108.00</td>\n",
       "      <td>2019-03-07T00:00:00</td>\n",
       "      <td>3</td>\n",
       "      <td>2.70</td>\n",
       "      <td>16.0</td>\n",
       "      <td>51.00</td>\n",
       "      <td>8</td>\n",
       "      <td>NaN</td>\n",
       "      <td>...</td>\n",
       "      <td>25.00</td>\n",
       "      <td>NaN</td>\n",
       "      <td>Санкт-Петербург</td>\n",
       "      <td>18863.0</td>\n",
       "      <td>16028.0</td>\n",
       "      <td>1.0</td>\n",
       "      <td>482.0</td>\n",
       "      <td>2.0</td>\n",
       "      <td>755.0</td>\n",
       "      <td>NaN</td>\n",
       "    </tr>\n",
       "    <tr>\n",
       "      <th>1</th>\n",
       "      <td>7</td>\n",
       "      <td>3350000.0</td>\n",
       "      <td>40.40</td>\n",
       "      <td>2018-12-04T00:00:00</td>\n",
       "      <td>1</td>\n",
       "      <td>NaN</td>\n",
       "      <td>11.0</td>\n",
       "      <td>18.60</td>\n",
       "      <td>1</td>\n",
       "      <td>NaN</td>\n",
       "      <td>...</td>\n",
       "      <td>11.00</td>\n",
       "      <td>2.0</td>\n",
       "      <td>посёлок Шушары</td>\n",
       "      <td>12817.0</td>\n",
       "      <td>18603.0</td>\n",
       "      <td>0.0</td>\n",
       "      <td>NaN</td>\n",
       "      <td>0.0</td>\n",
       "      <td>NaN</td>\n",
       "      <td>81.0</td>\n",
       "    </tr>\n",
       "    <tr>\n",
       "      <th>2</th>\n",
       "      <td>10</td>\n",
       "      <td>5196000.0</td>\n",
       "      <td>56.00</td>\n",
       "      <td>2015-08-20T00:00:00</td>\n",
       "      <td>2</td>\n",
       "      <td>NaN</td>\n",
       "      <td>5.0</td>\n",
       "      <td>34.30</td>\n",
       "      <td>4</td>\n",
       "      <td>NaN</td>\n",
       "      <td>...</td>\n",
       "      <td>8.30</td>\n",
       "      <td>0.0</td>\n",
       "      <td>Санкт-Петербург</td>\n",
       "      <td>21741.0</td>\n",
       "      <td>13933.0</td>\n",
       "      <td>1.0</td>\n",
       "      <td>90.0</td>\n",
       "      <td>2.0</td>\n",
       "      <td>574.0</td>\n",
       "      <td>558.0</td>\n",
       "    </tr>\n",
       "    <tr>\n",
       "      <th>3</th>\n",
       "      <td>0</td>\n",
       "      <td>64900000.0</td>\n",
       "      <td>159.00</td>\n",
       "      <td>2015-07-24T00:00:00</td>\n",
       "      <td>3</td>\n",
       "      <td>NaN</td>\n",
       "      <td>14.0</td>\n",
       "      <td>NaN</td>\n",
       "      <td>9</td>\n",
       "      <td>NaN</td>\n",
       "      <td>...</td>\n",
       "      <td>NaN</td>\n",
       "      <td>0.0</td>\n",
       "      <td>Санкт-Петербург</td>\n",
       "      <td>28098.0</td>\n",
       "      <td>6800.0</td>\n",
       "      <td>2.0</td>\n",
       "      <td>84.0</td>\n",
       "      <td>3.0</td>\n",
       "      <td>234.0</td>\n",
       "      <td>424.0</td>\n",
       "    </tr>\n",
       "    <tr>\n",
       "      <th>4</th>\n",
       "      <td>2</td>\n",
       "      <td>10000000.0</td>\n",
       "      <td>100.00</td>\n",
       "      <td>2018-06-19T00:00:00</td>\n",
       "      <td>2</td>\n",
       "      <td>3.03</td>\n",
       "      <td>14.0</td>\n",
       "      <td>32.00</td>\n",
       "      <td>13</td>\n",
       "      <td>NaN</td>\n",
       "      <td>...</td>\n",
       "      <td>41.00</td>\n",
       "      <td>NaN</td>\n",
       "      <td>Санкт-Петербург</td>\n",
       "      <td>31856.0</td>\n",
       "      <td>8098.0</td>\n",
       "      <td>2.0</td>\n",
       "      <td>112.0</td>\n",
       "      <td>1.0</td>\n",
       "      <td>48.0</td>\n",
       "      <td>121.0</td>\n",
       "    </tr>\n",
       "    <tr>\n",
       "      <th>5</th>\n",
       "      <td>10</td>\n",
       "      <td>2890000.0</td>\n",
       "      <td>30.40</td>\n",
       "      <td>2018-09-10T00:00:00</td>\n",
       "      <td>1</td>\n",
       "      <td>NaN</td>\n",
       "      <td>12.0</td>\n",
       "      <td>14.40</td>\n",
       "      <td>5</td>\n",
       "      <td>NaN</td>\n",
       "      <td>...</td>\n",
       "      <td>9.10</td>\n",
       "      <td>NaN</td>\n",
       "      <td>городской посёлок Янино-1</td>\n",
       "      <td>NaN</td>\n",
       "      <td>NaN</td>\n",
       "      <td>NaN</td>\n",
       "      <td>NaN</td>\n",
       "      <td>NaN</td>\n",
       "      <td>NaN</td>\n",
       "      <td>55.0</td>\n",
       "    </tr>\n",
       "    <tr>\n",
       "      <th>6</th>\n",
       "      <td>6</td>\n",
       "      <td>3700000.0</td>\n",
       "      <td>37.30</td>\n",
       "      <td>2017-11-02T00:00:00</td>\n",
       "      <td>1</td>\n",
       "      <td>NaN</td>\n",
       "      <td>26.0</td>\n",
       "      <td>10.60</td>\n",
       "      <td>6</td>\n",
       "      <td>NaN</td>\n",
       "      <td>...</td>\n",
       "      <td>14.40</td>\n",
       "      <td>1.0</td>\n",
       "      <td>посёлок Парголово</td>\n",
       "      <td>52996.0</td>\n",
       "      <td>19143.0</td>\n",
       "      <td>0.0</td>\n",
       "      <td>NaN</td>\n",
       "      <td>0.0</td>\n",
       "      <td>NaN</td>\n",
       "      <td>155.0</td>\n",
       "    </tr>\n",
       "    <tr>\n",
       "      <th>7</th>\n",
       "      <td>5</td>\n",
       "      <td>7915000.0</td>\n",
       "      <td>71.60</td>\n",
       "      <td>2019-04-18T00:00:00</td>\n",
       "      <td>2</td>\n",
       "      <td>NaN</td>\n",
       "      <td>24.0</td>\n",
       "      <td>NaN</td>\n",
       "      <td>22</td>\n",
       "      <td>NaN</td>\n",
       "      <td>...</td>\n",
       "      <td>18.90</td>\n",
       "      <td>2.0</td>\n",
       "      <td>Санкт-Петербург</td>\n",
       "      <td>23982.0</td>\n",
       "      <td>11634.0</td>\n",
       "      <td>0.0</td>\n",
       "      <td>NaN</td>\n",
       "      <td>0.0</td>\n",
       "      <td>NaN</td>\n",
       "      <td>NaN</td>\n",
       "    </tr>\n",
       "    <tr>\n",
       "      <th>8</th>\n",
       "      <td>20</td>\n",
       "      <td>2900000.0</td>\n",
       "      <td>33.16</td>\n",
       "      <td>2018-05-23T00:00:00</td>\n",
       "      <td>1</td>\n",
       "      <td>NaN</td>\n",
       "      <td>27.0</td>\n",
       "      <td>15.43</td>\n",
       "      <td>26</td>\n",
       "      <td>NaN</td>\n",
       "      <td>...</td>\n",
       "      <td>8.81</td>\n",
       "      <td>NaN</td>\n",
       "      <td>посёлок Мурино</td>\n",
       "      <td>NaN</td>\n",
       "      <td>NaN</td>\n",
       "      <td>NaN</td>\n",
       "      <td>NaN</td>\n",
       "      <td>NaN</td>\n",
       "      <td>NaN</td>\n",
       "      <td>189.0</td>\n",
       "    </tr>\n",
       "    <tr>\n",
       "      <th>9</th>\n",
       "      <td>18</td>\n",
       "      <td>5400000.0</td>\n",
       "      <td>61.00</td>\n",
       "      <td>2017-02-26T00:00:00</td>\n",
       "      <td>3</td>\n",
       "      <td>2.50</td>\n",
       "      <td>9.0</td>\n",
       "      <td>43.60</td>\n",
       "      <td>7</td>\n",
       "      <td>NaN</td>\n",
       "      <td>...</td>\n",
       "      <td>6.50</td>\n",
       "      <td>2.0</td>\n",
       "      <td>Санкт-Петербург</td>\n",
       "      <td>50898.0</td>\n",
       "      <td>15008.0</td>\n",
       "      <td>0.0</td>\n",
       "      <td>NaN</td>\n",
       "      <td>0.0</td>\n",
       "      <td>NaN</td>\n",
       "      <td>289.0</td>\n",
       "    </tr>\n",
       "  </tbody>\n",
       "</table>\n",
       "<p>10 rows × 22 columns</p>\n",
       "</div>"
      ],
      "text/plain": [
       "   total_images  last_price  total_area first_day_exposition  rooms  \\\n",
       "0            20  13000000.0      108.00  2019-03-07T00:00:00      3   \n",
       "1             7   3350000.0       40.40  2018-12-04T00:00:00      1   \n",
       "2            10   5196000.0       56.00  2015-08-20T00:00:00      2   \n",
       "3             0  64900000.0      159.00  2015-07-24T00:00:00      3   \n",
       "4             2  10000000.0      100.00  2018-06-19T00:00:00      2   \n",
       "5            10   2890000.0       30.40  2018-09-10T00:00:00      1   \n",
       "6             6   3700000.0       37.30  2017-11-02T00:00:00      1   \n",
       "7             5   7915000.0       71.60  2019-04-18T00:00:00      2   \n",
       "8            20   2900000.0       33.16  2018-05-23T00:00:00      1   \n",
       "9            18   5400000.0       61.00  2017-02-26T00:00:00      3   \n",
       "\n",
       "   ceiling_height  floors_total  living_area  floor is_apartment  ...  \\\n",
       "0            2.70          16.0        51.00      8          NaN  ...   \n",
       "1             NaN          11.0        18.60      1          NaN  ...   \n",
       "2             NaN           5.0        34.30      4          NaN  ...   \n",
       "3             NaN          14.0          NaN      9          NaN  ...   \n",
       "4            3.03          14.0        32.00     13          NaN  ...   \n",
       "5             NaN          12.0        14.40      5          NaN  ...   \n",
       "6             NaN          26.0        10.60      6          NaN  ...   \n",
       "7             NaN          24.0          NaN     22          NaN  ...   \n",
       "8             NaN          27.0        15.43     26          NaN  ...   \n",
       "9            2.50           9.0        43.60      7          NaN  ...   \n",
       "\n",
       "   kitchen_area  balcony              locality_name  airports_nearest  \\\n",
       "0         25.00      NaN            Санкт-Петербург           18863.0   \n",
       "1         11.00      2.0             посёлок Шушары           12817.0   \n",
       "2          8.30      0.0            Санкт-Петербург           21741.0   \n",
       "3           NaN      0.0            Санкт-Петербург           28098.0   \n",
       "4         41.00      NaN            Санкт-Петербург           31856.0   \n",
       "5          9.10      NaN  городской посёлок Янино-1               NaN   \n",
       "6         14.40      1.0          посёлок Парголово           52996.0   \n",
       "7         18.90      2.0            Санкт-Петербург           23982.0   \n",
       "8          8.81      NaN             посёлок Мурино               NaN   \n",
       "9          6.50      2.0            Санкт-Петербург           50898.0   \n",
       "\n",
       "  cityCenters_nearest  parks_around3000  parks_nearest  ponds_around3000  \\\n",
       "0             16028.0               1.0          482.0               2.0   \n",
       "1             18603.0               0.0            NaN               0.0   \n",
       "2             13933.0               1.0           90.0               2.0   \n",
       "3              6800.0               2.0           84.0               3.0   \n",
       "4              8098.0               2.0          112.0               1.0   \n",
       "5                 NaN               NaN            NaN               NaN   \n",
       "6             19143.0               0.0            NaN               0.0   \n",
       "7             11634.0               0.0            NaN               0.0   \n",
       "8                 NaN               NaN            NaN               NaN   \n",
       "9             15008.0               0.0            NaN               0.0   \n",
       "\n",
       "   ponds_nearest  days_exposition  \n",
       "0          755.0              NaN  \n",
       "1            NaN             81.0  \n",
       "2          574.0            558.0  \n",
       "3          234.0            424.0  \n",
       "4           48.0            121.0  \n",
       "5            NaN             55.0  \n",
       "6            NaN            155.0  \n",
       "7            NaN              NaN  \n",
       "8            NaN            189.0  \n",
       "9            NaN            289.0  \n",
       "\n",
       "[10 rows x 22 columns]"
      ]
     },
     "execution_count": 3,
     "metadata": {},
     "output_type": "execute_result"
    }
   ],
   "source": [
    "df.head(10)"
   ]
  },
  {
   "cell_type": "code",
   "execution_count": 4,
   "metadata": {
    "scrolled": true
   },
   "outputs": [
    {
     "name": "stdout",
     "output_type": "stream",
     "text": [
      "<class 'pandas.core.frame.DataFrame'>\n",
      "RangeIndex: 23699 entries, 0 to 23698\n",
      "Data columns (total 22 columns):\n",
      " #   Column                Non-Null Count  Dtype  \n",
      "---  ------                --------------  -----  \n",
      " 0   total_images          23699 non-null  int64  \n",
      " 1   last_price            23699 non-null  float64\n",
      " 2   total_area            23699 non-null  float64\n",
      " 3   first_day_exposition  23699 non-null  object \n",
      " 4   rooms                 23699 non-null  int64  \n",
      " 5   ceiling_height        14504 non-null  float64\n",
      " 6   floors_total          23613 non-null  float64\n",
      " 7   living_area           21796 non-null  float64\n",
      " 8   floor                 23699 non-null  int64  \n",
      " 9   is_apartment          2775 non-null   object \n",
      " 10  studio                23699 non-null  bool   \n",
      " 11  open_plan             23699 non-null  bool   \n",
      " 12  kitchen_area          21421 non-null  float64\n",
      " 13  balcony               12180 non-null  float64\n",
      " 14  locality_name         23650 non-null  object \n",
      " 15  airports_nearest      18157 non-null  float64\n",
      " 16  cityCenters_nearest   18180 non-null  float64\n",
      " 17  parks_around3000      18181 non-null  float64\n",
      " 18  parks_nearest         8079 non-null   float64\n",
      " 19  ponds_around3000      18181 non-null  float64\n",
      " 20  ponds_nearest         9110 non-null   float64\n",
      " 21  days_exposition       20518 non-null  float64\n",
      "dtypes: bool(2), float64(14), int64(3), object(3)\n",
      "memory usage: 3.7+ MB\n"
     ]
    }
   ],
   "source": [
    "df.info()"
   ]
  },
  {
   "cell_type": "code",
   "execution_count": 5,
   "metadata": {},
   "outputs": [
    {
     "data": {
      "text/html": [
       "<div>\n",
       "<style scoped>\n",
       "    .dataframe tbody tr th:only-of-type {\n",
       "        vertical-align: middle;\n",
       "    }\n",
       "\n",
       "    .dataframe tbody tr th {\n",
       "        vertical-align: top;\n",
       "    }\n",
       "\n",
       "    .dataframe thead th {\n",
       "        text-align: right;\n",
       "    }\n",
       "</style>\n",
       "<table border=\"1\" class=\"dataframe\">\n",
       "  <thead>\n",
       "    <tr style=\"text-align: right;\">\n",
       "      <th></th>\n",
       "      <th>total_images</th>\n",
       "      <th>last_price</th>\n",
       "      <th>total_area</th>\n",
       "      <th>rooms</th>\n",
       "      <th>ceiling_height</th>\n",
       "      <th>floors_total</th>\n",
       "      <th>living_area</th>\n",
       "      <th>floor</th>\n",
       "      <th>kitchen_area</th>\n",
       "      <th>balcony</th>\n",
       "      <th>airports_nearest</th>\n",
       "      <th>cityCenters_nearest</th>\n",
       "      <th>parks_around3000</th>\n",
       "      <th>parks_nearest</th>\n",
       "      <th>ponds_around3000</th>\n",
       "      <th>ponds_nearest</th>\n",
       "      <th>days_exposition</th>\n",
       "    </tr>\n",
       "  </thead>\n",
       "  <tbody>\n",
       "    <tr>\n",
       "      <th>count</th>\n",
       "      <td>23699.000000</td>\n",
       "      <td>2.369900e+04</td>\n",
       "      <td>23699.000000</td>\n",
       "      <td>23699.000000</td>\n",
       "      <td>14504.000000</td>\n",
       "      <td>23613.000000</td>\n",
       "      <td>21796.000000</td>\n",
       "      <td>23699.000000</td>\n",
       "      <td>21421.000000</td>\n",
       "      <td>12180.000000</td>\n",
       "      <td>18157.000000</td>\n",
       "      <td>18180.000000</td>\n",
       "      <td>18181.000000</td>\n",
       "      <td>8079.000000</td>\n",
       "      <td>18181.000000</td>\n",
       "      <td>9110.000000</td>\n",
       "      <td>20518.000000</td>\n",
       "    </tr>\n",
       "    <tr>\n",
       "      <th>mean</th>\n",
       "      <td>9.858475</td>\n",
       "      <td>6.541549e+06</td>\n",
       "      <td>60.348651</td>\n",
       "      <td>2.070636</td>\n",
       "      <td>2.771499</td>\n",
       "      <td>10.673824</td>\n",
       "      <td>34.457852</td>\n",
       "      <td>5.892358</td>\n",
       "      <td>10.569807</td>\n",
       "      <td>1.150082</td>\n",
       "      <td>28793.672193</td>\n",
       "      <td>14191.277833</td>\n",
       "      <td>0.611408</td>\n",
       "      <td>490.804555</td>\n",
       "      <td>0.770255</td>\n",
       "      <td>517.980900</td>\n",
       "      <td>180.888634</td>\n",
       "    </tr>\n",
       "    <tr>\n",
       "      <th>std</th>\n",
       "      <td>5.682529</td>\n",
       "      <td>1.088701e+07</td>\n",
       "      <td>35.654083</td>\n",
       "      <td>1.078405</td>\n",
       "      <td>1.261056</td>\n",
       "      <td>6.597173</td>\n",
       "      <td>22.030445</td>\n",
       "      <td>4.885249</td>\n",
       "      <td>5.905438</td>\n",
       "      <td>1.071300</td>\n",
       "      <td>12630.880622</td>\n",
       "      <td>8608.386210</td>\n",
       "      <td>0.802074</td>\n",
       "      <td>342.317995</td>\n",
       "      <td>0.938346</td>\n",
       "      <td>277.720643</td>\n",
       "      <td>219.727988</td>\n",
       "    </tr>\n",
       "    <tr>\n",
       "      <th>min</th>\n",
       "      <td>0.000000</td>\n",
       "      <td>1.219000e+04</td>\n",
       "      <td>12.000000</td>\n",
       "      <td>0.000000</td>\n",
       "      <td>1.000000</td>\n",
       "      <td>1.000000</td>\n",
       "      <td>2.000000</td>\n",
       "      <td>1.000000</td>\n",
       "      <td>1.300000</td>\n",
       "      <td>0.000000</td>\n",
       "      <td>0.000000</td>\n",
       "      <td>181.000000</td>\n",
       "      <td>0.000000</td>\n",
       "      <td>1.000000</td>\n",
       "      <td>0.000000</td>\n",
       "      <td>13.000000</td>\n",
       "      <td>1.000000</td>\n",
       "    </tr>\n",
       "    <tr>\n",
       "      <th>25%</th>\n",
       "      <td>6.000000</td>\n",
       "      <td>3.400000e+06</td>\n",
       "      <td>40.000000</td>\n",
       "      <td>1.000000</td>\n",
       "      <td>2.520000</td>\n",
       "      <td>5.000000</td>\n",
       "      <td>18.600000</td>\n",
       "      <td>2.000000</td>\n",
       "      <td>7.000000</td>\n",
       "      <td>0.000000</td>\n",
       "      <td>18585.000000</td>\n",
       "      <td>9238.000000</td>\n",
       "      <td>0.000000</td>\n",
       "      <td>288.000000</td>\n",
       "      <td>0.000000</td>\n",
       "      <td>294.000000</td>\n",
       "      <td>45.000000</td>\n",
       "    </tr>\n",
       "    <tr>\n",
       "      <th>50%</th>\n",
       "      <td>9.000000</td>\n",
       "      <td>4.650000e+06</td>\n",
       "      <td>52.000000</td>\n",
       "      <td>2.000000</td>\n",
       "      <td>2.650000</td>\n",
       "      <td>9.000000</td>\n",
       "      <td>30.000000</td>\n",
       "      <td>4.000000</td>\n",
       "      <td>9.100000</td>\n",
       "      <td>1.000000</td>\n",
       "      <td>26726.000000</td>\n",
       "      <td>13098.500000</td>\n",
       "      <td>0.000000</td>\n",
       "      <td>455.000000</td>\n",
       "      <td>1.000000</td>\n",
       "      <td>502.000000</td>\n",
       "      <td>95.000000</td>\n",
       "    </tr>\n",
       "    <tr>\n",
       "      <th>75%</th>\n",
       "      <td>14.000000</td>\n",
       "      <td>6.800000e+06</td>\n",
       "      <td>69.900000</td>\n",
       "      <td>3.000000</td>\n",
       "      <td>2.800000</td>\n",
       "      <td>16.000000</td>\n",
       "      <td>42.300000</td>\n",
       "      <td>8.000000</td>\n",
       "      <td>12.000000</td>\n",
       "      <td>2.000000</td>\n",
       "      <td>37273.000000</td>\n",
       "      <td>16293.000000</td>\n",
       "      <td>1.000000</td>\n",
       "      <td>612.000000</td>\n",
       "      <td>1.000000</td>\n",
       "      <td>729.000000</td>\n",
       "      <td>232.000000</td>\n",
       "    </tr>\n",
       "    <tr>\n",
       "      <th>max</th>\n",
       "      <td>50.000000</td>\n",
       "      <td>7.630000e+08</td>\n",
       "      <td>900.000000</td>\n",
       "      <td>19.000000</td>\n",
       "      <td>100.000000</td>\n",
       "      <td>60.000000</td>\n",
       "      <td>409.700000</td>\n",
       "      <td>33.000000</td>\n",
       "      <td>112.000000</td>\n",
       "      <td>5.000000</td>\n",
       "      <td>84869.000000</td>\n",
       "      <td>65968.000000</td>\n",
       "      <td>3.000000</td>\n",
       "      <td>3190.000000</td>\n",
       "      <td>3.000000</td>\n",
       "      <td>1344.000000</td>\n",
       "      <td>1580.000000</td>\n",
       "    </tr>\n",
       "  </tbody>\n",
       "</table>\n",
       "</div>"
      ],
      "text/plain": [
       "       total_images    last_price    total_area         rooms  ceiling_height  \\\n",
       "count  23699.000000  2.369900e+04  23699.000000  23699.000000    14504.000000   \n",
       "mean       9.858475  6.541549e+06     60.348651      2.070636        2.771499   \n",
       "std        5.682529  1.088701e+07     35.654083      1.078405        1.261056   \n",
       "min        0.000000  1.219000e+04     12.000000      0.000000        1.000000   \n",
       "25%        6.000000  3.400000e+06     40.000000      1.000000        2.520000   \n",
       "50%        9.000000  4.650000e+06     52.000000      2.000000        2.650000   \n",
       "75%       14.000000  6.800000e+06     69.900000      3.000000        2.800000   \n",
       "max       50.000000  7.630000e+08    900.000000     19.000000      100.000000   \n",
       "\n",
       "       floors_total   living_area         floor  kitchen_area       balcony  \\\n",
       "count  23613.000000  21796.000000  23699.000000  21421.000000  12180.000000   \n",
       "mean      10.673824     34.457852      5.892358     10.569807      1.150082   \n",
       "std        6.597173     22.030445      4.885249      5.905438      1.071300   \n",
       "min        1.000000      2.000000      1.000000      1.300000      0.000000   \n",
       "25%        5.000000     18.600000      2.000000      7.000000      0.000000   \n",
       "50%        9.000000     30.000000      4.000000      9.100000      1.000000   \n",
       "75%       16.000000     42.300000      8.000000     12.000000      2.000000   \n",
       "max       60.000000    409.700000     33.000000    112.000000      5.000000   \n",
       "\n",
       "       airports_nearest  cityCenters_nearest  parks_around3000  parks_nearest  \\\n",
       "count      18157.000000         18180.000000      18181.000000    8079.000000   \n",
       "mean       28793.672193         14191.277833          0.611408     490.804555   \n",
       "std        12630.880622          8608.386210          0.802074     342.317995   \n",
       "min            0.000000           181.000000          0.000000       1.000000   \n",
       "25%        18585.000000          9238.000000          0.000000     288.000000   \n",
       "50%        26726.000000         13098.500000          0.000000     455.000000   \n",
       "75%        37273.000000         16293.000000          1.000000     612.000000   \n",
       "max        84869.000000         65968.000000          3.000000    3190.000000   \n",
       "\n",
       "       ponds_around3000  ponds_nearest  days_exposition  \n",
       "count      18181.000000    9110.000000     20518.000000  \n",
       "mean           0.770255     517.980900       180.888634  \n",
       "std            0.938346     277.720643       219.727988  \n",
       "min            0.000000      13.000000         1.000000  \n",
       "25%            0.000000     294.000000        45.000000  \n",
       "50%            1.000000     502.000000        95.000000  \n",
       "75%            1.000000     729.000000       232.000000  \n",
       "max            3.000000    1344.000000      1580.000000  "
      ]
     },
     "execution_count": 5,
     "metadata": {},
     "output_type": "execute_result"
    }
   ],
   "source": [
    "df.describe()"
   ]
  },
  {
   "cell_type": "markdown",
   "metadata": {},
   "source": [
    "### Вывод"
   ]
  },
  {
   "cell_type": "markdown",
   "metadata": {},
   "source": [
    "1. В ходе предварительного просмотра данных обнаружены пропуски в столбцах: высоты потолков, апартаментов, наличия кухни, наличия балкона, наличия парков и прудова рядом, сколько дней было размещено объявление.\n",
    "2. При анализе типов данных стоит отметить, что имеет смысл поменять тип данных в столбцах: last_price (на int), is_apartment (на bool, как и в услвоии), balcony (на int, так как не может быть пол балкона), airports_nearest и cityCenters_nearest (на int), parks_around3000 (на int),parks_nearest\t(на int), ponds_around3000\t(на int), ponds_nearest\t(на int), days_exposition (на int)."
   ]
  },
  {
   "cell_type": "markdown",
   "metadata": {},
   "source": [
    "## Предобработка данных"
   ]
  },
  {
   "cell_type": "markdown",
   "metadata": {},
   "source": [
    "### Обработка пропусков"
   ]
  },
  {
   "cell_type": "code",
   "execution_count": 6,
   "metadata": {
    "scrolled": true
   },
   "outputs": [
    {
     "data": {
      "text/plain": [
       "total_images                0\n",
       "last_price                  0\n",
       "total_area                  0\n",
       "first_day_exposition        0\n",
       "rooms                       0\n",
       "ceiling_height           9195\n",
       "floors_total               86\n",
       "living_area              1903\n",
       "floor                       0\n",
       "is_apartment            20924\n",
       "studio                      0\n",
       "open_plan                   0\n",
       "kitchen_area             2278\n",
       "balcony                 11519\n",
       "locality_name              49\n",
       "airports_nearest         5542\n",
       "cityCenters_nearest      5519\n",
       "parks_around3000         5518\n",
       "parks_nearest           15620\n",
       "ponds_around3000         5518\n",
       "ponds_nearest           14589\n",
       "days_exposition          3181\n",
       "dtype: int64"
      ]
     },
     "execution_count": 6,
     "metadata": {},
     "output_type": "execute_result"
    }
   ],
   "source": [
    "df.isna().sum()"
   ]
  },
  {
   "cell_type": "code",
   "execution_count": 7,
   "metadata": {},
   "outputs": [
    {
     "data": {
      "text/plain": [
       "total_images             0.000000\n",
       "last_price               0.000000\n",
       "total_area               0.000000\n",
       "first_day_exposition     0.000000\n",
       "rooms                    0.000000\n",
       "ceiling_height          38.799105\n",
       "floors_total             0.362885\n",
       "living_area              8.029875\n",
       "floor                    0.000000\n",
       "is_apartment            88.290645\n",
       "studio                   0.000000\n",
       "open_plan                0.000000\n",
       "kitchen_area             9.612220\n",
       "balcony                 48.605426\n",
       "locality_name            0.206760\n",
       "airports_nearest        23.384953\n",
       "cityCenters_nearest     23.287902\n",
       "parks_around3000        23.283683\n",
       "parks_nearest           65.909954\n",
       "ponds_around3000        23.283683\n",
       "ponds_nearest           61.559559\n",
       "days_exposition         13.422507\n",
       "dtype: float64"
      ]
     },
     "execution_count": 7,
     "metadata": {},
     "output_type": "execute_result"
    }
   ],
   "source": [
    "df.isnull().sum() / df.shape[0] * 100"
   ]
  },
  {
   "cell_type": "code",
   "execution_count": 9,
   "metadata": {},
   "outputs": [],
   "source": [
    "df['balcony'] = df['balcony'].fillna(0)"
   ]
  },
  {
   "cell_type": "code",
   "execution_count": 10,
   "metadata": {
    "scrolled": true
   },
   "outputs": [
    {
     "data": {
      "text/plain": [
       "total_images                0\n",
       "last_price                  0\n",
       "total_area                  0\n",
       "first_day_exposition        0\n",
       "rooms                       0\n",
       "ceiling_height           9195\n",
       "floors_total               86\n",
       "living_area              1903\n",
       "floor                       0\n",
       "is_apartment            20924\n",
       "studio                      0\n",
       "open_plan                   0\n",
       "kitchen_area             2278\n",
       "balcony                     0\n",
       "locality_name              49\n",
       "airports_nearest         5542\n",
       "cityCenters_nearest      5519\n",
       "parks_around3000         5518\n",
       "parks_nearest           15620\n",
       "ponds_around3000         5518\n",
       "ponds_nearest           14589\n",
       "days_exposition          3181\n",
       "dtype: int64"
      ]
     },
     "execution_count": 10,
     "metadata": {},
     "output_type": "execute_result"
    }
   ],
   "source": [
    "df.isna().sum()"
   ]
  },
  {
   "cell_type": "code",
   "execution_count": 11,
   "metadata": {},
   "outputs": [
    {
     "data": {
      "text/html": [
       "<div>\n",
       "<style scoped>\n",
       "    .dataframe tbody tr th:only-of-type {\n",
       "        vertical-align: middle;\n",
       "    }\n",
       "\n",
       "    .dataframe tbody tr th {\n",
       "        vertical-align: top;\n",
       "    }\n",
       "\n",
       "    .dataframe thead th {\n",
       "        text-align: right;\n",
       "    }\n",
       "</style>\n",
       "<table border=\"1\" class=\"dataframe\">\n",
       "  <thead>\n",
       "    <tr style=\"text-align: right;\">\n",
       "      <th></th>\n",
       "      <th>total_images</th>\n",
       "      <th>last_price</th>\n",
       "      <th>total_area</th>\n",
       "      <th>first_day_exposition</th>\n",
       "      <th>rooms</th>\n",
       "      <th>ceiling_height</th>\n",
       "      <th>floors_total</th>\n",
       "      <th>living_area</th>\n",
       "      <th>floor</th>\n",
       "      <th>is_apartment</th>\n",
       "      <th>...</th>\n",
       "      <th>kitchen_area</th>\n",
       "      <th>balcony</th>\n",
       "      <th>locality_name</th>\n",
       "      <th>airports_nearest</th>\n",
       "      <th>cityCenters_nearest</th>\n",
       "      <th>parks_around3000</th>\n",
       "      <th>parks_nearest</th>\n",
       "      <th>ponds_around3000</th>\n",
       "      <th>ponds_nearest</th>\n",
       "      <th>days_exposition</th>\n",
       "    </tr>\n",
       "  </thead>\n",
       "  <tbody>\n",
       "    <tr>\n",
       "      <th>0</th>\n",
       "      <td>20</td>\n",
       "      <td>13000000.0</td>\n",
       "      <td>108.0</td>\n",
       "      <td>2019-03-07T00:00:00</td>\n",
       "      <td>3</td>\n",
       "      <td>2.70</td>\n",
       "      <td>16.0</td>\n",
       "      <td>51.0</td>\n",
       "      <td>8</td>\n",
       "      <td>NaN</td>\n",
       "      <td>...</td>\n",
       "      <td>25.0</td>\n",
       "      <td>0.0</td>\n",
       "      <td>Санкт-Петербург</td>\n",
       "      <td>18863.0</td>\n",
       "      <td>16028.0</td>\n",
       "      <td>1.0</td>\n",
       "      <td>482.0</td>\n",
       "      <td>2.0</td>\n",
       "      <td>755.0</td>\n",
       "      <td>NaN</td>\n",
       "    </tr>\n",
       "    <tr>\n",
       "      <th>1</th>\n",
       "      <td>7</td>\n",
       "      <td>3350000.0</td>\n",
       "      <td>40.4</td>\n",
       "      <td>2018-12-04T00:00:00</td>\n",
       "      <td>1</td>\n",
       "      <td>NaN</td>\n",
       "      <td>11.0</td>\n",
       "      <td>18.6</td>\n",
       "      <td>1</td>\n",
       "      <td>NaN</td>\n",
       "      <td>...</td>\n",
       "      <td>11.0</td>\n",
       "      <td>2.0</td>\n",
       "      <td>посёлок Шушары</td>\n",
       "      <td>12817.0</td>\n",
       "      <td>18603.0</td>\n",
       "      <td>0.0</td>\n",
       "      <td>NaN</td>\n",
       "      <td>0.0</td>\n",
       "      <td>NaN</td>\n",
       "      <td>81.0</td>\n",
       "    </tr>\n",
       "    <tr>\n",
       "      <th>2</th>\n",
       "      <td>10</td>\n",
       "      <td>5196000.0</td>\n",
       "      <td>56.0</td>\n",
       "      <td>2015-08-20T00:00:00</td>\n",
       "      <td>2</td>\n",
       "      <td>NaN</td>\n",
       "      <td>5.0</td>\n",
       "      <td>34.3</td>\n",
       "      <td>4</td>\n",
       "      <td>NaN</td>\n",
       "      <td>...</td>\n",
       "      <td>8.3</td>\n",
       "      <td>0.0</td>\n",
       "      <td>Санкт-Петербург</td>\n",
       "      <td>21741.0</td>\n",
       "      <td>13933.0</td>\n",
       "      <td>1.0</td>\n",
       "      <td>90.0</td>\n",
       "      <td>2.0</td>\n",
       "      <td>574.0</td>\n",
       "      <td>558.0</td>\n",
       "    </tr>\n",
       "    <tr>\n",
       "      <th>3</th>\n",
       "      <td>0</td>\n",
       "      <td>64900000.0</td>\n",
       "      <td>159.0</td>\n",
       "      <td>2015-07-24T00:00:00</td>\n",
       "      <td>3</td>\n",
       "      <td>NaN</td>\n",
       "      <td>14.0</td>\n",
       "      <td>NaN</td>\n",
       "      <td>9</td>\n",
       "      <td>NaN</td>\n",
       "      <td>...</td>\n",
       "      <td>NaN</td>\n",
       "      <td>0.0</td>\n",
       "      <td>Санкт-Петербург</td>\n",
       "      <td>28098.0</td>\n",
       "      <td>6800.0</td>\n",
       "      <td>2.0</td>\n",
       "      <td>84.0</td>\n",
       "      <td>3.0</td>\n",
       "      <td>234.0</td>\n",
       "      <td>424.0</td>\n",
       "    </tr>\n",
       "    <tr>\n",
       "      <th>4</th>\n",
       "      <td>2</td>\n",
       "      <td>10000000.0</td>\n",
       "      <td>100.0</td>\n",
       "      <td>2018-06-19T00:00:00</td>\n",
       "      <td>2</td>\n",
       "      <td>3.03</td>\n",
       "      <td>14.0</td>\n",
       "      <td>32.0</td>\n",
       "      <td>13</td>\n",
       "      <td>NaN</td>\n",
       "      <td>...</td>\n",
       "      <td>41.0</td>\n",
       "      <td>0.0</td>\n",
       "      <td>Санкт-Петербург</td>\n",
       "      <td>31856.0</td>\n",
       "      <td>8098.0</td>\n",
       "      <td>2.0</td>\n",
       "      <td>112.0</td>\n",
       "      <td>1.0</td>\n",
       "      <td>48.0</td>\n",
       "      <td>121.0</td>\n",
       "    </tr>\n",
       "  </tbody>\n",
       "</table>\n",
       "<p>5 rows × 22 columns</p>\n",
       "</div>"
      ],
      "text/plain": [
       "   total_images  last_price  total_area first_day_exposition  rooms  \\\n",
       "0            20  13000000.0       108.0  2019-03-07T00:00:00      3   \n",
       "1             7   3350000.0        40.4  2018-12-04T00:00:00      1   \n",
       "2            10   5196000.0        56.0  2015-08-20T00:00:00      2   \n",
       "3             0  64900000.0       159.0  2015-07-24T00:00:00      3   \n",
       "4             2  10000000.0       100.0  2018-06-19T00:00:00      2   \n",
       "\n",
       "   ceiling_height  floors_total  living_area  floor is_apartment  ...  \\\n",
       "0            2.70          16.0         51.0      8          NaN  ...   \n",
       "1             NaN          11.0         18.6      1          NaN  ...   \n",
       "2             NaN           5.0         34.3      4          NaN  ...   \n",
       "3             NaN          14.0          NaN      9          NaN  ...   \n",
       "4            3.03          14.0         32.0     13          NaN  ...   \n",
       "\n",
       "   kitchen_area  balcony    locality_name  airports_nearest  \\\n",
       "0          25.0      0.0  Санкт-Петербург           18863.0   \n",
       "1          11.0      2.0   посёлок Шушары           12817.0   \n",
       "2           8.3      0.0  Санкт-Петербург           21741.0   \n",
       "3           NaN      0.0  Санкт-Петербург           28098.0   \n",
       "4          41.0      0.0  Санкт-Петербург           31856.0   \n",
       "\n",
       "  cityCenters_nearest  parks_around3000  parks_nearest  ponds_around3000  \\\n",
       "0             16028.0               1.0          482.0               2.0   \n",
       "1             18603.0               0.0            NaN               0.0   \n",
       "2             13933.0               1.0           90.0               2.0   \n",
       "3              6800.0               2.0           84.0               3.0   \n",
       "4              8098.0               2.0          112.0               1.0   \n",
       "\n",
       "   ponds_nearest  days_exposition  \n",
       "0          755.0              NaN  \n",
       "1            NaN             81.0  \n",
       "2          574.0            558.0  \n",
       "3          234.0            424.0  \n",
       "4           48.0            121.0  \n",
       "\n",
       "[5 rows x 22 columns]"
      ]
     },
     "execution_count": 11,
     "metadata": {},
     "output_type": "execute_result"
    }
   ],
   "source": [
    "df.head()"
   ]
  },
  {
   "cell_type": "markdown",
   "metadata": {},
   "source": [
    "#### Выводы"
   ]
  },
  {
   "cell_type": "markdown",
   "metadata": {},
   "source": [
    "1. Пропуски в столбце с высотой потолков не следует менять на медианное или среднее значение (даже не смотря на то, что пропуски составляют более 40% данных столбца), так как при неточном определение уровня потолка сейчас, мы получим неточную корреляцию стоимости квартиры от выосты потолков.\n",
    "2. Пропуски в столбце этажности не связаны с тем, что это, например, частные дома, так как их площади слишко малы для частных домов.Можно предположить, что эти пропуски связаны с тем, что квартиры расположены на цокольном этаже, но по законодательству РФ такого быть не может. Для точности анализа оставим их без изменений.\n",
    "3. Пропуски в столбце площади жилого помещения менять на усреднённую долю менять не стоит по той же причине что и в пнукте 1. \n",
    "4. Пропуски в столбце является ли апартаментом пока оставим без изменений, так как для анализа они нам не пригодятся.\n",
    "6. Пропуски в столбце наличие балкона вероятнее всего показывают, что балкона нет. Заменим значения на ноль.\n",
    "7. Все пропуски в о наличии парка рядом могут означать, что рядом нет парка, так как во всех таких случаях и расстояние до парка не указано. Заменять здесь значения на данном этапе не целесообразно, могут искозиться данные. Аналогичная ситуация с прудами.\n",
    "Оставшиеся пропуски не целесообразно менять на средние, медианные и другие значения, так как в результате снизится точность анализа.\n"
   ]
  },
  {
   "cell_type": "markdown",
   "metadata": {},
   "source": [
    "### Приведение данных к единому типу и виду"
   ]
  },
  {
   "cell_type": "code",
   "execution_count": 12,
   "metadata": {},
   "outputs": [
    {
     "data": {
      "text/plain": [
       "Index(['total_images', 'last_price', 'total_area', 'first_day_exposition',\n",
       "       'rooms', 'ceiling_height', 'floors_total', 'living_area', 'floor',\n",
       "       'is_apartment', 'studio', 'open_plan', 'kitchen_area', 'balcony',\n",
       "       'locality_name', 'airports_nearest', 'cityCenters_nearest',\n",
       "       'parks_around3000', 'parks_nearest', 'ponds_around3000',\n",
       "       'ponds_nearest', 'days_exposition'],\n",
       "      dtype='object')"
      ]
     },
     "execution_count": 12,
     "metadata": {},
     "output_type": "execute_result"
    }
   ],
   "source": [
    "df.columns"
   ]
  },
  {
   "cell_type": "code",
   "execution_count": 13,
   "metadata": {},
   "outputs": [],
   "source": [
    "df = df.rename(columns = {'cityCenters_nearest': 'city_centers_nearest', 'parks_around3000': 'parks_around_3000', 'ponds_around3000': 'ponds_around_3000',})"
   ]
  },
  {
   "cell_type": "code",
   "execution_count": 14,
   "metadata": {},
   "outputs": [],
   "source": [
    "df['last_price'] = df['last_price'].astype('int', errors='ignore')\n",
    "#df['is_apartment'] = df['is_apartment'].astype('bool', errors='ignore'), так как исправления ведут к появлению множества аппартаментов, что есть ошибка\n",
    "df['balcony'] = df['balcony'].astype('int', errors='ignore')\n",
    "df['floors_total'] = df['floors_total'].astype('int', errors='ignore')\n",
    "df['airports_nearest'] = df['airports_nearest'].astype('int', errors='ignore')\n",
    "df['city_centers_nearest'] = df['city_centers_nearest'].astype('int', errors='ignore')\n",
    "df['parks_around_3000'] = df['parks_around_3000'].astype('int', errors='ignore')\n",
    "df['ponds_around_3000'] = df['ponds_around_3000'].astype('int', errors='ignore')\n",
    "df['ponds_nearest'] = df['ponds_nearest'].astype('int', errors='ignore')\n",
    "df['parks_nearest'] = df['parks_nearest'].astype('int', errors='ignore')\n",
    "df['days_exposition'] = df['days_exposition'].astype('int', errors='ignore')\n",
    "df['first_day_exposition'] = pd.to_datetime(df['first_day_exposition'], format = '%Y-%m-%d')\n",
    "df['kitchen_area'] = df['kitchen_area'].astype('float32', errors='ignore')"
   ]
  },
  {
   "cell_type": "code",
   "execution_count": 15,
   "metadata": {},
   "outputs": [
    {
     "name": "stdout",
     "output_type": "stream",
     "text": [
      "<class 'pandas.core.frame.DataFrame'>\n",
      "RangeIndex: 23699 entries, 0 to 23698\n",
      "Data columns (total 22 columns):\n",
      " #   Column                Non-Null Count  Dtype         \n",
      "---  ------                --------------  -----         \n",
      " 0   total_images          23699 non-null  int64         \n",
      " 1   last_price            23699 non-null  int32         \n",
      " 2   total_area            23699 non-null  float64       \n",
      " 3   first_day_exposition  23699 non-null  datetime64[ns]\n",
      " 4   rooms                 23699 non-null  int64         \n",
      " 5   ceiling_height        14504 non-null  float64       \n",
      " 6   floors_total          23613 non-null  float64       \n",
      " 7   living_area           21796 non-null  float64       \n",
      " 8   floor                 23699 non-null  int64         \n",
      " 9   is_apartment          2775 non-null   object        \n",
      " 10  studio                23699 non-null  bool          \n",
      " 11  open_plan             23699 non-null  bool          \n",
      " 12  kitchen_area          21421 non-null  float32       \n",
      " 13  balcony               23699 non-null  int32         \n",
      " 14  locality_name         23650 non-null  object        \n",
      " 15  airports_nearest      18157 non-null  float64       \n",
      " 16  city_centers_nearest  18180 non-null  float64       \n",
      " 17  parks_around_3000     18181 non-null  float64       \n",
      " 18  parks_nearest         8079 non-null   float64       \n",
      " 19  ponds_around_3000     18181 non-null  float64       \n",
      " 20  ponds_nearest         9110 non-null   float64       \n",
      " 21  days_exposition       20518 non-null  float64       \n",
      "dtypes: bool(2), datetime64[ns](1), float32(1), float64(11), int32(2), int64(3), object(2)\n",
      "memory usage: 3.4+ MB\n"
     ]
    }
   ],
   "source": [
    "df.info()"
   ]
  },
  {
   "cell_type": "code",
   "execution_count": 16,
   "metadata": {
    "scrolled": true
   },
   "outputs": [
    {
     "data": {
      "text/html": [
       "<div>\n",
       "<style scoped>\n",
       "    .dataframe tbody tr th:only-of-type {\n",
       "        vertical-align: middle;\n",
       "    }\n",
       "\n",
       "    .dataframe tbody tr th {\n",
       "        vertical-align: top;\n",
       "    }\n",
       "\n",
       "    .dataframe thead th {\n",
       "        text-align: right;\n",
       "    }\n",
       "</style>\n",
       "<table border=\"1\" class=\"dataframe\">\n",
       "  <thead>\n",
       "    <tr style=\"text-align: right;\">\n",
       "      <th></th>\n",
       "      <th>total_images</th>\n",
       "      <th>last_price</th>\n",
       "      <th>total_area</th>\n",
       "      <th>first_day_exposition</th>\n",
       "      <th>rooms</th>\n",
       "      <th>ceiling_height</th>\n",
       "      <th>floors_total</th>\n",
       "      <th>living_area</th>\n",
       "      <th>floor</th>\n",
       "      <th>is_apartment</th>\n",
       "      <th>...</th>\n",
       "      <th>kitchen_area</th>\n",
       "      <th>balcony</th>\n",
       "      <th>locality_name</th>\n",
       "      <th>airports_nearest</th>\n",
       "      <th>city_centers_nearest</th>\n",
       "      <th>parks_around_3000</th>\n",
       "      <th>parks_nearest</th>\n",
       "      <th>ponds_around_3000</th>\n",
       "      <th>ponds_nearest</th>\n",
       "      <th>days_exposition</th>\n",
       "    </tr>\n",
       "  </thead>\n",
       "  <tbody>\n",
       "    <tr>\n",
       "      <th>0</th>\n",
       "      <td>20</td>\n",
       "      <td>13000000</td>\n",
       "      <td>108.00</td>\n",
       "      <td>2019-03-07</td>\n",
       "      <td>3</td>\n",
       "      <td>2.70</td>\n",
       "      <td>16.0</td>\n",
       "      <td>51.00</td>\n",
       "      <td>8</td>\n",
       "      <td>NaN</td>\n",
       "      <td>...</td>\n",
       "      <td>25.00</td>\n",
       "      <td>0</td>\n",
       "      <td>Санкт-Петербург</td>\n",
       "      <td>18863.0</td>\n",
       "      <td>16028.0</td>\n",
       "      <td>1.0</td>\n",
       "      <td>482.0</td>\n",
       "      <td>2.0</td>\n",
       "      <td>755.0</td>\n",
       "      <td>NaN</td>\n",
       "    </tr>\n",
       "    <tr>\n",
       "      <th>1</th>\n",
       "      <td>7</td>\n",
       "      <td>3350000</td>\n",
       "      <td>40.40</td>\n",
       "      <td>2018-12-04</td>\n",
       "      <td>1</td>\n",
       "      <td>NaN</td>\n",
       "      <td>11.0</td>\n",
       "      <td>18.60</td>\n",
       "      <td>1</td>\n",
       "      <td>NaN</td>\n",
       "      <td>...</td>\n",
       "      <td>11.00</td>\n",
       "      <td>2</td>\n",
       "      <td>посёлок Шушары</td>\n",
       "      <td>12817.0</td>\n",
       "      <td>18603.0</td>\n",
       "      <td>0.0</td>\n",
       "      <td>NaN</td>\n",
       "      <td>0.0</td>\n",
       "      <td>NaN</td>\n",
       "      <td>81.0</td>\n",
       "    </tr>\n",
       "    <tr>\n",
       "      <th>2</th>\n",
       "      <td>10</td>\n",
       "      <td>5196000</td>\n",
       "      <td>56.00</td>\n",
       "      <td>2015-08-20</td>\n",
       "      <td>2</td>\n",
       "      <td>NaN</td>\n",
       "      <td>5.0</td>\n",
       "      <td>34.30</td>\n",
       "      <td>4</td>\n",
       "      <td>NaN</td>\n",
       "      <td>...</td>\n",
       "      <td>8.30</td>\n",
       "      <td>0</td>\n",
       "      <td>Санкт-Петербург</td>\n",
       "      <td>21741.0</td>\n",
       "      <td>13933.0</td>\n",
       "      <td>1.0</td>\n",
       "      <td>90.0</td>\n",
       "      <td>2.0</td>\n",
       "      <td>574.0</td>\n",
       "      <td>558.0</td>\n",
       "    </tr>\n",
       "    <tr>\n",
       "      <th>3</th>\n",
       "      <td>0</td>\n",
       "      <td>64900000</td>\n",
       "      <td>159.00</td>\n",
       "      <td>2015-07-24</td>\n",
       "      <td>3</td>\n",
       "      <td>NaN</td>\n",
       "      <td>14.0</td>\n",
       "      <td>NaN</td>\n",
       "      <td>9</td>\n",
       "      <td>NaN</td>\n",
       "      <td>...</td>\n",
       "      <td>NaN</td>\n",
       "      <td>0</td>\n",
       "      <td>Санкт-Петербург</td>\n",
       "      <td>28098.0</td>\n",
       "      <td>6800.0</td>\n",
       "      <td>2.0</td>\n",
       "      <td>84.0</td>\n",
       "      <td>3.0</td>\n",
       "      <td>234.0</td>\n",
       "      <td>424.0</td>\n",
       "    </tr>\n",
       "    <tr>\n",
       "      <th>4</th>\n",
       "      <td>2</td>\n",
       "      <td>10000000</td>\n",
       "      <td>100.00</td>\n",
       "      <td>2018-06-19</td>\n",
       "      <td>2</td>\n",
       "      <td>3.03</td>\n",
       "      <td>14.0</td>\n",
       "      <td>32.00</td>\n",
       "      <td>13</td>\n",
       "      <td>NaN</td>\n",
       "      <td>...</td>\n",
       "      <td>41.00</td>\n",
       "      <td>0</td>\n",
       "      <td>Санкт-Петербург</td>\n",
       "      <td>31856.0</td>\n",
       "      <td>8098.0</td>\n",
       "      <td>2.0</td>\n",
       "      <td>112.0</td>\n",
       "      <td>1.0</td>\n",
       "      <td>48.0</td>\n",
       "      <td>121.0</td>\n",
       "    </tr>\n",
       "    <tr>\n",
       "      <th>5</th>\n",
       "      <td>10</td>\n",
       "      <td>2890000</td>\n",
       "      <td>30.40</td>\n",
       "      <td>2018-09-10</td>\n",
       "      <td>1</td>\n",
       "      <td>NaN</td>\n",
       "      <td>12.0</td>\n",
       "      <td>14.40</td>\n",
       "      <td>5</td>\n",
       "      <td>NaN</td>\n",
       "      <td>...</td>\n",
       "      <td>9.10</td>\n",
       "      <td>0</td>\n",
       "      <td>городской посёлок Янино-1</td>\n",
       "      <td>NaN</td>\n",
       "      <td>NaN</td>\n",
       "      <td>NaN</td>\n",
       "      <td>NaN</td>\n",
       "      <td>NaN</td>\n",
       "      <td>NaN</td>\n",
       "      <td>55.0</td>\n",
       "    </tr>\n",
       "    <tr>\n",
       "      <th>6</th>\n",
       "      <td>6</td>\n",
       "      <td>3700000</td>\n",
       "      <td>37.30</td>\n",
       "      <td>2017-11-02</td>\n",
       "      <td>1</td>\n",
       "      <td>NaN</td>\n",
       "      <td>26.0</td>\n",
       "      <td>10.60</td>\n",
       "      <td>6</td>\n",
       "      <td>NaN</td>\n",
       "      <td>...</td>\n",
       "      <td>14.40</td>\n",
       "      <td>1</td>\n",
       "      <td>посёлок Парголово</td>\n",
       "      <td>52996.0</td>\n",
       "      <td>19143.0</td>\n",
       "      <td>0.0</td>\n",
       "      <td>NaN</td>\n",
       "      <td>0.0</td>\n",
       "      <td>NaN</td>\n",
       "      <td>155.0</td>\n",
       "    </tr>\n",
       "    <tr>\n",
       "      <th>7</th>\n",
       "      <td>5</td>\n",
       "      <td>7915000</td>\n",
       "      <td>71.60</td>\n",
       "      <td>2019-04-18</td>\n",
       "      <td>2</td>\n",
       "      <td>NaN</td>\n",
       "      <td>24.0</td>\n",
       "      <td>NaN</td>\n",
       "      <td>22</td>\n",
       "      <td>NaN</td>\n",
       "      <td>...</td>\n",
       "      <td>18.90</td>\n",
       "      <td>2</td>\n",
       "      <td>Санкт-Петербург</td>\n",
       "      <td>23982.0</td>\n",
       "      <td>11634.0</td>\n",
       "      <td>0.0</td>\n",
       "      <td>NaN</td>\n",
       "      <td>0.0</td>\n",
       "      <td>NaN</td>\n",
       "      <td>NaN</td>\n",
       "    </tr>\n",
       "    <tr>\n",
       "      <th>8</th>\n",
       "      <td>20</td>\n",
       "      <td>2900000</td>\n",
       "      <td>33.16</td>\n",
       "      <td>2018-05-23</td>\n",
       "      <td>1</td>\n",
       "      <td>NaN</td>\n",
       "      <td>27.0</td>\n",
       "      <td>15.43</td>\n",
       "      <td>26</td>\n",
       "      <td>NaN</td>\n",
       "      <td>...</td>\n",
       "      <td>8.81</td>\n",
       "      <td>0</td>\n",
       "      <td>посёлок Мурино</td>\n",
       "      <td>NaN</td>\n",
       "      <td>NaN</td>\n",
       "      <td>NaN</td>\n",
       "      <td>NaN</td>\n",
       "      <td>NaN</td>\n",
       "      <td>NaN</td>\n",
       "      <td>189.0</td>\n",
       "    </tr>\n",
       "    <tr>\n",
       "      <th>9</th>\n",
       "      <td>18</td>\n",
       "      <td>5400000</td>\n",
       "      <td>61.00</td>\n",
       "      <td>2017-02-26</td>\n",
       "      <td>3</td>\n",
       "      <td>2.50</td>\n",
       "      <td>9.0</td>\n",
       "      <td>43.60</td>\n",
       "      <td>7</td>\n",
       "      <td>NaN</td>\n",
       "      <td>...</td>\n",
       "      <td>6.50</td>\n",
       "      <td>2</td>\n",
       "      <td>Санкт-Петербург</td>\n",
       "      <td>50898.0</td>\n",
       "      <td>15008.0</td>\n",
       "      <td>0.0</td>\n",
       "      <td>NaN</td>\n",
       "      <td>0.0</td>\n",
       "      <td>NaN</td>\n",
       "      <td>289.0</td>\n",
       "    </tr>\n",
       "    <tr>\n",
       "      <th>10</th>\n",
       "      <td>5</td>\n",
       "      <td>5050000</td>\n",
       "      <td>39.60</td>\n",
       "      <td>2017-11-16</td>\n",
       "      <td>1</td>\n",
       "      <td>2.67</td>\n",
       "      <td>12.0</td>\n",
       "      <td>20.30</td>\n",
       "      <td>3</td>\n",
       "      <td>NaN</td>\n",
       "      <td>...</td>\n",
       "      <td>8.50</td>\n",
       "      <td>0</td>\n",
       "      <td>Санкт-Петербург</td>\n",
       "      <td>38357.0</td>\n",
       "      <td>13878.0</td>\n",
       "      <td>1.0</td>\n",
       "      <td>310.0</td>\n",
       "      <td>2.0</td>\n",
       "      <td>553.0</td>\n",
       "      <td>137.0</td>\n",
       "    </tr>\n",
       "    <tr>\n",
       "      <th>11</th>\n",
       "      <td>9</td>\n",
       "      <td>3300000</td>\n",
       "      <td>44.00</td>\n",
       "      <td>2018-08-27</td>\n",
       "      <td>2</td>\n",
       "      <td>NaN</td>\n",
       "      <td>5.0</td>\n",
       "      <td>31.00</td>\n",
       "      <td>4</td>\n",
       "      <td>False</td>\n",
       "      <td>...</td>\n",
       "      <td>6.00</td>\n",
       "      <td>1</td>\n",
       "      <td>Ломоносов</td>\n",
       "      <td>48252.0</td>\n",
       "      <td>51677.0</td>\n",
       "      <td>0.0</td>\n",
       "      <td>NaN</td>\n",
       "      <td>0.0</td>\n",
       "      <td>NaN</td>\n",
       "      <td>7.0</td>\n",
       "    </tr>\n",
       "    <tr>\n",
       "      <th>12</th>\n",
       "      <td>10</td>\n",
       "      <td>3890000</td>\n",
       "      <td>54.00</td>\n",
       "      <td>2016-06-30</td>\n",
       "      <td>2</td>\n",
       "      <td>NaN</td>\n",
       "      <td>5.0</td>\n",
       "      <td>30.00</td>\n",
       "      <td>5</td>\n",
       "      <td>NaN</td>\n",
       "      <td>...</td>\n",
       "      <td>9.00</td>\n",
       "      <td>0</td>\n",
       "      <td>Сертолово</td>\n",
       "      <td>NaN</td>\n",
       "      <td>NaN</td>\n",
       "      <td>NaN</td>\n",
       "      <td>NaN</td>\n",
       "      <td>NaN</td>\n",
       "      <td>NaN</td>\n",
       "      <td>90.0</td>\n",
       "    </tr>\n",
       "    <tr>\n",
       "      <th>13</th>\n",
       "      <td>20</td>\n",
       "      <td>3550000</td>\n",
       "      <td>42.80</td>\n",
       "      <td>2017-07-01</td>\n",
       "      <td>2</td>\n",
       "      <td>2.56</td>\n",
       "      <td>5.0</td>\n",
       "      <td>27.00</td>\n",
       "      <td>5</td>\n",
       "      <td>NaN</td>\n",
       "      <td>...</td>\n",
       "      <td>5.20</td>\n",
       "      <td>1</td>\n",
       "      <td>Петергоф</td>\n",
       "      <td>37868.0</td>\n",
       "      <td>33058.0</td>\n",
       "      <td>1.0</td>\n",
       "      <td>294.0</td>\n",
       "      <td>3.0</td>\n",
       "      <td>298.0</td>\n",
       "      <td>366.0</td>\n",
       "    </tr>\n",
       "    <tr>\n",
       "      <th>14</th>\n",
       "      <td>1</td>\n",
       "      <td>4400000</td>\n",
       "      <td>36.00</td>\n",
       "      <td>2016-06-23</td>\n",
       "      <td>1</td>\n",
       "      <td>NaN</td>\n",
       "      <td>6.0</td>\n",
       "      <td>17.00</td>\n",
       "      <td>1</td>\n",
       "      <td>NaN</td>\n",
       "      <td>...</td>\n",
       "      <td>8.00</td>\n",
       "      <td>0</td>\n",
       "      <td>Пушкин</td>\n",
       "      <td>20782.0</td>\n",
       "      <td>30759.0</td>\n",
       "      <td>0.0</td>\n",
       "      <td>NaN</td>\n",
       "      <td>1.0</td>\n",
       "      <td>96.0</td>\n",
       "      <td>203.0</td>\n",
       "    </tr>\n",
       "    <tr>\n",
       "      <th>15</th>\n",
       "      <td>16</td>\n",
       "      <td>4650000</td>\n",
       "      <td>39.00</td>\n",
       "      <td>2017-11-18</td>\n",
       "      <td>1</td>\n",
       "      <td>NaN</td>\n",
       "      <td>14.0</td>\n",
       "      <td>20.50</td>\n",
       "      <td>5</td>\n",
       "      <td>NaN</td>\n",
       "      <td>...</td>\n",
       "      <td>7.60</td>\n",
       "      <td>1</td>\n",
       "      <td>Санкт-Петербург</td>\n",
       "      <td>12900.0</td>\n",
       "      <td>14259.0</td>\n",
       "      <td>1.0</td>\n",
       "      <td>590.0</td>\n",
       "      <td>1.0</td>\n",
       "      <td>296.0</td>\n",
       "      <td>19.0</td>\n",
       "    </tr>\n",
       "    <tr>\n",
       "      <th>16</th>\n",
       "      <td>11</td>\n",
       "      <td>6700000</td>\n",
       "      <td>82.00</td>\n",
       "      <td>2017-11-23</td>\n",
       "      <td>3</td>\n",
       "      <td>3.05</td>\n",
       "      <td>5.0</td>\n",
       "      <td>55.60</td>\n",
       "      <td>1</td>\n",
       "      <td>NaN</td>\n",
       "      <td>...</td>\n",
       "      <td>9.00</td>\n",
       "      <td>0</td>\n",
       "      <td>Санкт-Петербург</td>\n",
       "      <td>22108.0</td>\n",
       "      <td>10698.0</td>\n",
       "      <td>3.0</td>\n",
       "      <td>420.0</td>\n",
       "      <td>0.0</td>\n",
       "      <td>NaN</td>\n",
       "      <td>397.0</td>\n",
       "    </tr>\n",
       "    <tr>\n",
       "      <th>17</th>\n",
       "      <td>6</td>\n",
       "      <td>4180000</td>\n",
       "      <td>36.00</td>\n",
       "      <td>2016-09-09</td>\n",
       "      <td>1</td>\n",
       "      <td>NaN</td>\n",
       "      <td>17.0</td>\n",
       "      <td>16.50</td>\n",
       "      <td>7</td>\n",
       "      <td>NaN</td>\n",
       "      <td>...</td>\n",
       "      <td>11.00</td>\n",
       "      <td>1</td>\n",
       "      <td>Санкт-Петербург</td>\n",
       "      <td>33564.0</td>\n",
       "      <td>14616.0</td>\n",
       "      <td>0.0</td>\n",
       "      <td>NaN</td>\n",
       "      <td>1.0</td>\n",
       "      <td>859.0</td>\n",
       "      <td>571.0</td>\n",
       "    </tr>\n",
       "    <tr>\n",
       "      <th>18</th>\n",
       "      <td>8</td>\n",
       "      <td>3250000</td>\n",
       "      <td>31.00</td>\n",
       "      <td>2017-01-27</td>\n",
       "      <td>1</td>\n",
       "      <td>2.50</td>\n",
       "      <td>5.0</td>\n",
       "      <td>19.40</td>\n",
       "      <td>2</td>\n",
       "      <td>NaN</td>\n",
       "      <td>...</td>\n",
       "      <td>5.60</td>\n",
       "      <td>1</td>\n",
       "      <td>Санкт-Петербург</td>\n",
       "      <td>44060.0</td>\n",
       "      <td>10842.0</td>\n",
       "      <td>1.0</td>\n",
       "      <td>759.0</td>\n",
       "      <td>0.0</td>\n",
       "      <td>NaN</td>\n",
       "      <td>168.0</td>\n",
       "    </tr>\n",
       "    <tr>\n",
       "      <th>19</th>\n",
       "      <td>16</td>\n",
       "      <td>14200000</td>\n",
       "      <td>121.00</td>\n",
       "      <td>2019-01-09</td>\n",
       "      <td>3</td>\n",
       "      <td>2.75</td>\n",
       "      <td>16.0</td>\n",
       "      <td>76.00</td>\n",
       "      <td>8</td>\n",
       "      <td>NaN</td>\n",
       "      <td>...</td>\n",
       "      <td>12.00</td>\n",
       "      <td>0</td>\n",
       "      <td>Санкт-Петербург</td>\n",
       "      <td>38900.0</td>\n",
       "      <td>12843.0</td>\n",
       "      <td>0.0</td>\n",
       "      <td>NaN</td>\n",
       "      <td>0.0</td>\n",
       "      <td>NaN</td>\n",
       "      <td>97.0</td>\n",
       "    </tr>\n",
       "  </tbody>\n",
       "</table>\n",
       "<p>20 rows × 22 columns</p>\n",
       "</div>"
      ],
      "text/plain": [
       "    total_images  last_price  total_area first_day_exposition  rooms  \\\n",
       "0             20    13000000      108.00           2019-03-07      3   \n",
       "1              7     3350000       40.40           2018-12-04      1   \n",
       "2             10     5196000       56.00           2015-08-20      2   \n",
       "3              0    64900000      159.00           2015-07-24      3   \n",
       "4              2    10000000      100.00           2018-06-19      2   \n",
       "5             10     2890000       30.40           2018-09-10      1   \n",
       "6              6     3700000       37.30           2017-11-02      1   \n",
       "7              5     7915000       71.60           2019-04-18      2   \n",
       "8             20     2900000       33.16           2018-05-23      1   \n",
       "9             18     5400000       61.00           2017-02-26      3   \n",
       "10             5     5050000       39.60           2017-11-16      1   \n",
       "11             9     3300000       44.00           2018-08-27      2   \n",
       "12            10     3890000       54.00           2016-06-30      2   \n",
       "13            20     3550000       42.80           2017-07-01      2   \n",
       "14             1     4400000       36.00           2016-06-23      1   \n",
       "15            16     4650000       39.00           2017-11-18      1   \n",
       "16            11     6700000       82.00           2017-11-23      3   \n",
       "17             6     4180000       36.00           2016-09-09      1   \n",
       "18             8     3250000       31.00           2017-01-27      1   \n",
       "19            16    14200000      121.00           2019-01-09      3   \n",
       "\n",
       "    ceiling_height  floors_total  living_area  floor is_apartment  ...  \\\n",
       "0             2.70          16.0        51.00      8          NaN  ...   \n",
       "1              NaN          11.0        18.60      1          NaN  ...   \n",
       "2              NaN           5.0        34.30      4          NaN  ...   \n",
       "3              NaN          14.0          NaN      9          NaN  ...   \n",
       "4             3.03          14.0        32.00     13          NaN  ...   \n",
       "5              NaN          12.0        14.40      5          NaN  ...   \n",
       "6              NaN          26.0        10.60      6          NaN  ...   \n",
       "7              NaN          24.0          NaN     22          NaN  ...   \n",
       "8              NaN          27.0        15.43     26          NaN  ...   \n",
       "9             2.50           9.0        43.60      7          NaN  ...   \n",
       "10            2.67          12.0        20.30      3          NaN  ...   \n",
       "11             NaN           5.0        31.00      4        False  ...   \n",
       "12             NaN           5.0        30.00      5          NaN  ...   \n",
       "13            2.56           5.0        27.00      5          NaN  ...   \n",
       "14             NaN           6.0        17.00      1          NaN  ...   \n",
       "15             NaN          14.0        20.50      5          NaN  ...   \n",
       "16            3.05           5.0        55.60      1          NaN  ...   \n",
       "17             NaN          17.0        16.50      7          NaN  ...   \n",
       "18            2.50           5.0        19.40      2          NaN  ...   \n",
       "19            2.75          16.0        76.00      8          NaN  ...   \n",
       "\n",
       "    kitchen_area  balcony              locality_name  airports_nearest  \\\n",
       "0          25.00        0            Санкт-Петербург           18863.0   \n",
       "1          11.00        2             посёлок Шушары           12817.0   \n",
       "2           8.30        0            Санкт-Петербург           21741.0   \n",
       "3            NaN        0            Санкт-Петербург           28098.0   \n",
       "4          41.00        0            Санкт-Петербург           31856.0   \n",
       "5           9.10        0  городской посёлок Янино-1               NaN   \n",
       "6          14.40        1          посёлок Парголово           52996.0   \n",
       "7          18.90        2            Санкт-Петербург           23982.0   \n",
       "8           8.81        0             посёлок Мурино               NaN   \n",
       "9           6.50        2            Санкт-Петербург           50898.0   \n",
       "10          8.50        0            Санкт-Петербург           38357.0   \n",
       "11          6.00        1                  Ломоносов           48252.0   \n",
       "12          9.00        0                  Сертолово               NaN   \n",
       "13          5.20        1                   Петергоф           37868.0   \n",
       "14          8.00        0                     Пушкин           20782.0   \n",
       "15          7.60        1            Санкт-Петербург           12900.0   \n",
       "16          9.00        0            Санкт-Петербург           22108.0   \n",
       "17         11.00        1            Санкт-Петербург           33564.0   \n",
       "18          5.60        1            Санкт-Петербург           44060.0   \n",
       "19         12.00        0            Санкт-Петербург           38900.0   \n",
       "\n",
       "   city_centers_nearest  parks_around_3000  parks_nearest  ponds_around_3000  \\\n",
       "0               16028.0                1.0          482.0                2.0   \n",
       "1               18603.0                0.0            NaN                0.0   \n",
       "2               13933.0                1.0           90.0                2.0   \n",
       "3                6800.0                2.0           84.0                3.0   \n",
       "4                8098.0                2.0          112.0                1.0   \n",
       "5                   NaN                NaN            NaN                NaN   \n",
       "6               19143.0                0.0            NaN                0.0   \n",
       "7               11634.0                0.0            NaN                0.0   \n",
       "8                   NaN                NaN            NaN                NaN   \n",
       "9               15008.0                0.0            NaN                0.0   \n",
       "10              13878.0                1.0          310.0                2.0   \n",
       "11              51677.0                0.0            NaN                0.0   \n",
       "12                  NaN                NaN            NaN                NaN   \n",
       "13              33058.0                1.0          294.0                3.0   \n",
       "14              30759.0                0.0            NaN                1.0   \n",
       "15              14259.0                1.0          590.0                1.0   \n",
       "16              10698.0                3.0          420.0                0.0   \n",
       "17              14616.0                0.0            NaN                1.0   \n",
       "18              10842.0                1.0          759.0                0.0   \n",
       "19              12843.0                0.0            NaN                0.0   \n",
       "\n",
       "    ponds_nearest  days_exposition  \n",
       "0           755.0              NaN  \n",
       "1             NaN             81.0  \n",
       "2           574.0            558.0  \n",
       "3           234.0            424.0  \n",
       "4            48.0            121.0  \n",
       "5             NaN             55.0  \n",
       "6             NaN            155.0  \n",
       "7             NaN              NaN  \n",
       "8             NaN            189.0  \n",
       "9             NaN            289.0  \n",
       "10          553.0            137.0  \n",
       "11            NaN              7.0  \n",
       "12            NaN             90.0  \n",
       "13          298.0            366.0  \n",
       "14           96.0            203.0  \n",
       "15          296.0             19.0  \n",
       "16            NaN            397.0  \n",
       "17          859.0            571.0  \n",
       "18            NaN            168.0  \n",
       "19            NaN             97.0  \n",
       "\n",
       "[20 rows x 22 columns]"
      ]
     },
     "execution_count": 16,
     "metadata": {},
     "output_type": "execute_result"
    }
   ],
   "source": [
    "df.head(20)"
   ]
  },
  {
   "cell_type": "markdown",
   "metadata": {},
   "source": [
    "#### Выводы"
   ]
  },
  {
   "cell_type": "markdown",
   "metadata": {},
   "source": [
    "1. Множественные пропуски в is_apartment были оставлены без изменений, так как при смене типа данных появлеятеся слишком много аппартаментов, а по рыночной статистике аппратменты в СПБ составляет не более 10%.\n",
    "2. Некоторые данные в результате смены типа данных, свой тип на int так и не поменяли, но данная проблема не является критичной, на расчёты влиять не будет.\n",
    "3. Названия столбцов приведены в единый формат.\n",
    "4. Пропуски в столбце с выосотой потолков не были заменены на медианное значение (хотя таких пропусков много), так как они могут искозить статистическую картинку, ведь добавляя медианное значение почти к 45% элементам столбца явно приведёт к свдигу акцентов анализа, что приведёт к ложным выводам. \n"
   ]
  },
  {
   "cell_type": "markdown",
   "metadata": {},
   "source": [
    "### Поиск дубликатов"
   ]
  },
  {
   "cell_type": "code",
   "execution_count": 17,
   "metadata": {
    "scrolled": true
   },
   "outputs": [
    {
     "data": {
      "text/plain": [
       "Санкт-Петербург                    15721\n",
       "посёлок Мурино                       522\n",
       "посёлок Шушары                       440\n",
       "Всеволожск                           398\n",
       "Пушкин                               369\n",
       "                                   ...  \n",
       "поселок Каложицы                       1\n",
       "посёлок Платформа 69-й километр        1\n",
       "поселок Почап                          1\n",
       "поселок Гончарово                      1\n",
       "посёлок Дзержинского                   1\n",
       "Name: locality_name, Length: 364, dtype: int64"
      ]
     },
     "execution_count": 17,
     "metadata": {},
     "output_type": "execute_result"
    }
   ],
   "source": [
    "df['locality_name'].value_counts()"
   ]
  },
  {
   "cell_type": "code",
   "execution_count": 18,
   "metadata": {},
   "outputs": [
    {
     "data": {
      "text/plain": [
       "санкт-петербург            15721\n",
       "посёлок мурино               522\n",
       "посёлок шушары               440\n",
       "всеволожск                   398\n",
       "пушкин                       369\n",
       "колпино                      338\n",
       "посёлок парголово            327\n",
       "гатчина                      307\n",
       "деревня кудрово              299\n",
       "выборг                       237\n",
       "петергоф                     201\n",
       "сестрорецк                   183\n",
       "красное село                 178\n",
       "кудрово                      173\n",
       "деревня новое девяткино      144\n",
       "сертолово                    142\n",
       "ломоносов                    133\n",
       "кириши                       125\n",
       "сланцы                       112\n",
       "волхов                       111\n",
       "тосно                        104\n",
       "кингисепп                    104\n",
       "кронштадт                     96\n",
       "никольское                    93\n",
       "коммунар                      89\n",
       "сосновый бор                  87\n",
       "кировск                       84\n",
       "отрадное                      80\n",
       "посёлок бугры                 69\n",
       "приозерск                     66\n",
       "Name: locality_name, dtype: int64"
      ]
     },
     "execution_count": 18,
     "metadata": {},
     "output_type": "execute_result"
    }
   ],
   "source": [
    "df['locality_name'].str.lower().value_counts().head(30)"
   ]
  },
  {
   "cell_type": "code",
   "execution_count": 19,
   "metadata": {},
   "outputs": [
    {
     "data": {
      "text/plain": [
       "0"
      ]
     },
     "execution_count": 19,
     "metadata": {},
     "output_type": "execute_result"
    }
   ],
   "source": [
    "df.duplicated().sum()"
   ]
  },
  {
   "cell_type": "code",
   "execution_count": 20,
   "metadata": {},
   "outputs": [
    {
     "data": {
      "text/plain": [
       "False"
      ]
     },
     "execution_count": 20,
     "metadata": {},
     "output_type": "execute_result"
    }
   ],
   "source": [
    "'питер' in df['locality_name'].str.lower()    "
   ]
  },
  {
   "cell_type": "code",
   "execution_count": 21,
   "metadata": {
    "scrolled": true
   },
   "outputs": [
    {
     "name": "stdout",
     "output_type": "stream",
     "text": [
      "Counter({' ': 28821, 'санкт-петербург': 15721, 'поселок': 2660, 'деревня': 945, 'муриный': 590, 'городской': 550, 'кудрово': 443, 'шушар': 440, 'всеволожск': 398, 'пушкин': 369, 'тип': 363, 'колпино': 338, 'парголовый': 327, 'гатчина': 307, 'выборг': 237, 'село': 210, 'петергоф': 201, 'красный': 190, 'новый': 187, 'сестрорецк': 183, 'девяткино': 144, 'сертолово': 142, 'ломоносов': 133, 'бугор': 114, 'сланцы': 112, 'волхов': 111, 'кириши': 110, 'сосновый': 105, 'кингисепп': 104, 'тосно': 104, 'бор': 101, 'кронштадт': 96, 'никольское': 94, '-': 91, 'коммунар': 90, 'кировск': 84, 'отрадный': 79, 'старый': 75, 'янино': 68, '1': 68, 'металлострой': 66, 'приозерск': 66, 'луг': 61, 'шлиссельбург': 57, 'имя': 53, 'тихвин': 49, '  ': 49, 'стрельна': 44, 'тельман': 41, 'большой': 40, 'павловск': 38, 'рощино': 38, 'романовка': 37, 'волосово': 36, 'свердлов': 36, 'кузьмоловский': 35, 'мга': 33, 'сиверский': 29, 'кудровый': 29, 'ивангород': 28, 'новоселье': 28, 'малый': 28, 'сясьстрой': 24, 'зеленогорск': 24, 'щегловый': 24, 'колпана': 23, 'свет': 22, 'вырица': 22, 'синявина': 21, 'понтонный': 20, 'токсово': 20, 'вартемяга': 20, 'новогорелово': 20, 'лодейный': 20, 'поле': 20, 'подпорожье': 19, 'ижора': 19, 'бегуница': 19, 'павлово': 18, 'пикалево': 18, 'морозов': 17, 'назия': 17, 'гарболовый': 17, 'аннино': 16, 'бокситогорск': 16, 'рахья': 16, 'ладога': 16, 'лесколов': 16, 'федоровский': 15, 'лебяжий': 15, 'кириша': 15, 'горбунок': 15, 'станция': 15, 'дубровка': 15, 'елизаветин': 13, 'кузнечный': 13, 'ульяновка': 13, 'каменногорск': 13, 'нурм': 11, 'советский': 11, 'белогорка': 11, 'мистолово': 11, 'колтуша': 11, 'гостилица': 11, 'мичуринский': 11, 'верево': 11, 'светогорск': 11, 'любань': 11, 'лаголовый': 10, 'войсковица': 10, 'приладожский': 10, 'русский': 10, 'сяськелевый': 10, 'оржица': 9, 'сельцо': 9, 'низино': 9, 'карлино': 9, 'пудость': 9, 'высоцкий': 9, 'кобраловый': 9, 'первомайский': 8, 'приморск': 8, 'запорожский': 8, 'ильичев': 8, 'калитин': 8, 'саперный': 8, 'стеклянный': 8, 'суходолье': 8, 'куттузить': 7, 'кипень': 7, 'батово': 7, 'поляна': 7, 'молодцово': 7, 'извар': 7, 'никольский': 7, 'кузьмоловый': 7, 'угловый': 7, 'усть': 7, 'победа': 6, 'лопухинка': 6, 'терволов': 6, 'заневка': 6, 'пеник': 6, 'пудомяга': 6, 'тайцы': 6, 'кобринский': 6, 'важин': 6, 'форносовый': 6, 'ламповый': 6, 'горка': 6, 'учхоз': 6, 'ушак': 6, 'громовый': 6, 'товарищество': 5, 'плодовый': 5, 'кальтина': 5, 'копорье': 5, 'молодежный': 5, 'лесогорский': 5, 'вещево': 5, 'гаврилов': 5, 'семрино': 5, 'глажево': 5, 'юкка': 5, 'мельниково': 5, 'селезневый': 5, 'войскоровый': 5, 'дружный': 5, 'садовый': 4, 'петровский': 4, 'келози': 4, 'агалатово': 4, 'цвелодубово': 4, 'зимитиц': 4, 'разметелево': 4, 'рябово': 4, 'песочный': 4, 'репино': 4, 'малукс': 4, 'парица': 4, 'кикерино': 4, 'торфяной': 4, 'будогощь': 4, 'лесной': 4, 'разбегаево': 4, 'вруд': 4, 'суйда': 4, 'перово': 4, 'высоцк': 4, 'ефимовский': 3, 'заклинья': 3, 'торкович': 3, 'лесколово': 3, 'оредеж': 3, 'заводской': 3, 'аро': 3, 'рабитиц': 3, 'приветнинский': 3, 'глебычево': 3, 'виллози': 3, 'возрождение': 3, 'старосиверский': 3, 'пригородный': 3, 'долина': 3, 'лисий': 3, 'нос': 3, 'яльгелевый': 3, 'рождествено': 3, 'старополье': 3, 'жилгородка': 3, 'торошкович': 3, 'лукаша': 3, 'торосовый': 3, 'яльгелево': 3, 'тесовый': 3, 'коттеджный': 3, 'котельский': 3, 'ваганово': 3, 'молодцов': 2, 'ропша': 2, 'путиловый': 2, 'александровская': 2, 'барышево': 2, 'паша': 2, 'мина': 2, 'коркино': 2, 'кальтино': 2, 'житковый': 2, 'сумино': 2, 'камышовка': 2, 'фалилеево': 2, 'серебрянский': 2, 'тарасовый': 2, 'кингисеппский': 2, 'при': 2, 'железнодорожный': 2, 'глинка': 2, 'пустошь': 2, 'починок': 2, 'вознесение': 2, 'батовый': 2, 'коробицыно': 2, 'суоранд': 2, 'совхозный': 2, 'ленинский': 2, 'нижний': 2, 'свирь': 2, 'яма': 2, 'пушной': 2, 'выскатка': 2, 'пансионат': 2, 'зеленый': 2, 'ненимяка': 2, 'пикколово': 1, 'севастьяново': 1, 'иссад': 1, 'корневый': 1, 'чудской': 1, 'петро': 1, 'славянка': 1, 'меньковый': 1, 'мануйлово': 1, 'пчев': 1, 'цвылево': 1, 'кривко': 1, 'жилпоселок': 1, 'мыза': 1, 'ивановка': 1, 'шпаньковый': 1, 'лаврик': 1, 'хинколово': 1, 'хапо': 1, 'Ое': 1, 'левашово': 1, 'садоводческий': 1, 'некоммерческий': 1, 'хязелька': 1, 'ялгино': 1, 'гончарово': 1, 'почап': 1, 'платформа': 1, '69': 1, 'й': 1, 'километр': 1, 'каложица': 1, 'пельгора': 1, 'белоостров': 1, 'алексеевка': 1, 'котел': 1, 'сижно': 1, 'форт': 1, 'новолисиный': 1, 'гладкий': 1, '4': 1, 'курковица': 1, 'лесколовый': 1, 'кондратьево': 1, 'счастие': 1, 'ребровый': 1, 'тойворовый': 1, 'семиозерье': 1, 'оселек': 1, 'шум': 1, 'лужайка': 1, 'пустомерж': 1, 'красносельский': 1, 'вахнов': 1, 'кара': 1, 'пижма': 1, 'кивеннап': 1, 'север': 1, 'ромашка': 1, 'каськово': 1, 'куровица': 1, 'плоский': 1, 'кирпичный': 1, 'раздолье': 1, 'терпилица': 1, 'шугозеро': 1, 'садко': 1, 'петровское': 1, 'свирьстрой': 1, 'кисельня': 1, 'трубник': 1, 'высокоключевой': 1, 'низиный': 1, 'рощин': 1, 'снегиревка': 1, 'рапполовый': 1, 'пустынка': 1, 'отрадное': 1, 'сабск': 1, 'лупполовый': 1, 'рейзино': 1, 'дружноселье': 1, 'пчевжа': 1, 'володарское': 1, 'тихковица': 1, 'борисов': 1, 'грива': 1, 'дзержинский': 1, '\\n': 1})\n"
     ]
    }
   ],
   "source": [
    "m = Mystem()\n",
    "text = list(df['locality_name'].fillna(''))\n",
    "text = ' '.join(text)\n",
    "lemmas = m.lemmatize(text)\n",
    "print(Counter(lemmas))"
   ]
  },
  {
   "cell_type": "code",
   "execution_count": 22,
   "metadata": {},
   "outputs": [
    {
     "name": "stdout",
     "output_type": "stream",
     "text": [
      "['поселок мурино', 'мурино']\n"
     ]
    }
   ],
   "source": [
    "list_1 = []\n",
    "for i in df['locality_name'].str.lower().fillna(''):\n",
    "    if i != 'посёлок мурино' and 'мурин' in i:\n",
    "        if i not in list_1:\n",
    "            list_1.append(i)\n",
    "print(list_1)"
   ]
  },
  {
   "cell_type": "code",
   "execution_count": 23,
   "metadata": {},
   "outputs": [],
   "source": [
    "def filtered_name(name):\n",
    "    if 'муриный' in m.lemmatize(name):\n",
    "        return 'посёлок Мурино' \n",
    "    elif 'кудрово' in m.lemmatize(name):\n",
    "         return 'деревня Кудрово'\n",
    "    elif 'красный' in m.lemmatize(name):\n",
    "         return  'Красное село'\n",
    "    else:\n",
    "        return name"
   ]
  },
  {
   "cell_type": "code",
   "execution_count": 24,
   "metadata": {},
   "outputs": [
    {
     "ename": "KeyboardInterrupt",
     "evalue": "",
     "output_type": "error",
     "traceback": [
      "\u001b[1;31m---------------------------------------------------------------------------\u001b[0m",
      "\u001b[1;31mKeyboardInterrupt\u001b[0m                         Traceback (most recent call last)",
      "\u001b[1;32m~\\AppData\\Local\\Temp/ipykernel_14856/2038082149.py\u001b[0m in \u001b[0;36m<module>\u001b[1;34m\u001b[0m\n\u001b[1;32m----> 1\u001b[1;33m \u001b[0mdf\u001b[0m\u001b[1;33m[\u001b[0m\u001b[1;34m'locality_name'\u001b[0m\u001b[1;33m]\u001b[0m \u001b[1;33m=\u001b[0m \u001b[0mdf\u001b[0m\u001b[1;33m[\u001b[0m\u001b[1;34m'locality_name'\u001b[0m\u001b[1;33m]\u001b[0m\u001b[1;33m.\u001b[0m\u001b[0mfillna\u001b[0m\u001b[1;33m(\u001b[0m\u001b[1;34m''\u001b[0m\u001b[1;33m)\u001b[0m\u001b[1;33m.\u001b[0m\u001b[0mapply\u001b[0m\u001b[1;33m(\u001b[0m\u001b[0mfiltered_name\u001b[0m\u001b[1;33m)\u001b[0m\u001b[1;33m\u001b[0m\u001b[1;33m\u001b[0m\u001b[0m\n\u001b[0m\u001b[0;32m      2\u001b[0m \u001b[0mdf\u001b[0m\u001b[1;33m[\u001b[0m\u001b[1;34m'locality_name'\u001b[0m\u001b[1;33m]\u001b[0m\u001b[1;33m.\u001b[0m\u001b[0mvalue_counts\u001b[0m\u001b[1;33m(\u001b[0m\u001b[1;33m)\u001b[0m\u001b[1;33m\u001b[0m\u001b[1;33m\u001b[0m\u001b[0m\n",
      "\u001b[1;32mC:\\ProgramData\\Anaconda3\\lib\\site-packages\\pandas\\core\\series.py\u001b[0m in \u001b[0;36mapply\u001b[1;34m(self, func, convert_dtype, args, **kwargs)\u001b[0m\n\u001b[0;32m   4355\u001b[0m         \u001b[0mdtype\u001b[0m\u001b[1;33m:\u001b[0m \u001b[0mfloat64\u001b[0m\u001b[1;33m\u001b[0m\u001b[1;33m\u001b[0m\u001b[0m\n\u001b[0;32m   4356\u001b[0m         \"\"\"\n\u001b[1;32m-> 4357\u001b[1;33m         \u001b[1;32mreturn\u001b[0m \u001b[0mSeriesApply\u001b[0m\u001b[1;33m(\u001b[0m\u001b[0mself\u001b[0m\u001b[1;33m,\u001b[0m \u001b[0mfunc\u001b[0m\u001b[1;33m,\u001b[0m \u001b[0mconvert_dtype\u001b[0m\u001b[1;33m,\u001b[0m \u001b[0margs\u001b[0m\u001b[1;33m,\u001b[0m \u001b[0mkwargs\u001b[0m\u001b[1;33m)\u001b[0m\u001b[1;33m.\u001b[0m\u001b[0mapply\u001b[0m\u001b[1;33m(\u001b[0m\u001b[1;33m)\u001b[0m\u001b[1;33m\u001b[0m\u001b[1;33m\u001b[0m\u001b[0m\n\u001b[0m\u001b[0;32m   4358\u001b[0m \u001b[1;33m\u001b[0m\u001b[0m\n\u001b[0;32m   4359\u001b[0m     def _reduce(\n",
      "\u001b[1;32mC:\\ProgramData\\Anaconda3\\lib\\site-packages\\pandas\\core\\apply.py\u001b[0m in \u001b[0;36mapply\u001b[1;34m(self)\u001b[0m\n\u001b[0;32m   1041\u001b[0m             \u001b[1;32mreturn\u001b[0m \u001b[0mself\u001b[0m\u001b[1;33m.\u001b[0m\u001b[0mapply_str\u001b[0m\u001b[1;33m(\u001b[0m\u001b[1;33m)\u001b[0m\u001b[1;33m\u001b[0m\u001b[1;33m\u001b[0m\u001b[0m\n\u001b[0;32m   1042\u001b[0m \u001b[1;33m\u001b[0m\u001b[0m\n\u001b[1;32m-> 1043\u001b[1;33m         \u001b[1;32mreturn\u001b[0m \u001b[0mself\u001b[0m\u001b[1;33m.\u001b[0m\u001b[0mapply_standard\u001b[0m\u001b[1;33m(\u001b[0m\u001b[1;33m)\u001b[0m\u001b[1;33m\u001b[0m\u001b[1;33m\u001b[0m\u001b[0m\n\u001b[0m\u001b[0;32m   1044\u001b[0m \u001b[1;33m\u001b[0m\u001b[0m\n\u001b[0;32m   1045\u001b[0m     \u001b[1;32mdef\u001b[0m \u001b[0magg\u001b[0m\u001b[1;33m(\u001b[0m\u001b[0mself\u001b[0m\u001b[1;33m)\u001b[0m\u001b[1;33m:\u001b[0m\u001b[1;33m\u001b[0m\u001b[1;33m\u001b[0m\u001b[0m\n",
      "\u001b[1;32mC:\\ProgramData\\Anaconda3\\lib\\site-packages\\pandas\\core\\apply.py\u001b[0m in \u001b[0;36mapply_standard\u001b[1;34m(self)\u001b[0m\n\u001b[0;32m   1096\u001b[0m                 \u001b[1;31m# List[Union[Callable[..., Any], str]]]]]\"; expected\u001b[0m\u001b[1;33m\u001b[0m\u001b[1;33m\u001b[0m\u001b[0m\n\u001b[0;32m   1097\u001b[0m                 \u001b[1;31m# \"Callable[[Any], Any]\"\u001b[0m\u001b[1;33m\u001b[0m\u001b[1;33m\u001b[0m\u001b[0m\n\u001b[1;32m-> 1098\u001b[1;33m                 mapped = lib.map_infer(\n\u001b[0m\u001b[0;32m   1099\u001b[0m                     \u001b[0mvalues\u001b[0m\u001b[1;33m,\u001b[0m\u001b[1;33m\u001b[0m\u001b[1;33m\u001b[0m\u001b[0m\n\u001b[0;32m   1100\u001b[0m                     \u001b[0mf\u001b[0m\u001b[1;33m,\u001b[0m  \u001b[1;31m# type: ignore[arg-type]\u001b[0m\u001b[1;33m\u001b[0m\u001b[1;33m\u001b[0m\u001b[0m\n",
      "\u001b[1;32mC:\\ProgramData\\Anaconda3\\lib\\site-packages\\pandas\\_libs\\lib.pyx\u001b[0m in \u001b[0;36mpandas._libs.lib.map_infer\u001b[1;34m()\u001b[0m\n",
      "\u001b[1;32m~\\AppData\\Local\\Temp/ipykernel_14856/864594623.py\u001b[0m in \u001b[0;36mfiltered_name\u001b[1;34m(name)\u001b[0m\n\u001b[0;32m      1\u001b[0m \u001b[1;32mdef\u001b[0m \u001b[0mfiltered_name\u001b[0m\u001b[1;33m(\u001b[0m\u001b[0mname\u001b[0m\u001b[1;33m)\u001b[0m\u001b[1;33m:\u001b[0m\u001b[1;33m\u001b[0m\u001b[1;33m\u001b[0m\u001b[0m\n\u001b[1;32m----> 2\u001b[1;33m     \u001b[1;32mif\u001b[0m \u001b[1;34m'муриный'\u001b[0m \u001b[1;32min\u001b[0m \u001b[0mm\u001b[0m\u001b[1;33m.\u001b[0m\u001b[0mlemmatize\u001b[0m\u001b[1;33m(\u001b[0m\u001b[0mname\u001b[0m\u001b[1;33m)\u001b[0m\u001b[1;33m:\u001b[0m\u001b[1;33m\u001b[0m\u001b[1;33m\u001b[0m\u001b[0m\n\u001b[0m\u001b[0;32m      3\u001b[0m         \u001b[1;32mreturn\u001b[0m \u001b[1;34m'посёлок Мурино'\u001b[0m\u001b[1;33m\u001b[0m\u001b[1;33m\u001b[0m\u001b[0m\n\u001b[0;32m      4\u001b[0m     \u001b[1;32melif\u001b[0m \u001b[1;34m'кудрово'\u001b[0m \u001b[1;32min\u001b[0m \u001b[0mm\u001b[0m\u001b[1;33m.\u001b[0m\u001b[0mlemmatize\u001b[0m\u001b[1;33m(\u001b[0m\u001b[0mname\u001b[0m\u001b[1;33m)\u001b[0m\u001b[1;33m:\u001b[0m\u001b[1;33m\u001b[0m\u001b[1;33m\u001b[0m\u001b[0m\n\u001b[0;32m      5\u001b[0m          \u001b[1;32mreturn\u001b[0m \u001b[1;34m'деревня Кудрово'\u001b[0m\u001b[1;33m\u001b[0m\u001b[1;33m\u001b[0m\u001b[0m\n",
      "\u001b[1;32mC:\\ProgramData\\Anaconda3\\lib\\site-packages\\pymystem3\\mystem.py\u001b[0m in \u001b[0;36mlemmatize\u001b[1;34m(self, text)\u001b[0m\n\u001b[0;32m    263\u001b[0m         \u001b[0mneed_encode\u001b[0m \u001b[1;33m=\u001b[0m \u001b[1;33m(\u001b[0m\u001b[0msys\u001b[0m\u001b[1;33m.\u001b[0m\u001b[0mversion_info\u001b[0m\u001b[1;33m[\u001b[0m\u001b[1;36m0\u001b[0m\u001b[1;33m]\u001b[0m \u001b[1;33m<\u001b[0m \u001b[1;36m3\u001b[0m \u001b[1;32mand\u001b[0m \u001b[0misinstance\u001b[0m\u001b[1;33m(\u001b[0m\u001b[0mtext\u001b[0m\u001b[1;33m,\u001b[0m \u001b[0mstr\u001b[0m\u001b[1;33m)\u001b[0m\u001b[1;33m)\u001b[0m\u001b[1;33m\u001b[0m\u001b[1;33m\u001b[0m\u001b[0m\n\u001b[0;32m    264\u001b[0m \u001b[1;33m\u001b[0m\u001b[0m\n\u001b[1;32m--> 265\u001b[1;33m         \u001b[0minfos\u001b[0m \u001b[1;33m=\u001b[0m \u001b[0mself\u001b[0m\u001b[1;33m.\u001b[0m\u001b[0manalyze\u001b[0m\u001b[1;33m(\u001b[0m\u001b[0mtext\u001b[0m\u001b[1;33m)\u001b[0m\u001b[1;33m\u001b[0m\u001b[1;33m\u001b[0m\u001b[0m\n\u001b[0m\u001b[0;32m    266\u001b[0m         \u001b[0mlemmas\u001b[0m \u001b[1;33m=\u001b[0m \u001b[0mlist\u001b[0m\u001b[1;33m(\u001b[0m\u001b[0mfilter\u001b[0m\u001b[1;33m(\u001b[0m\u001b[1;32mNone\u001b[0m\u001b[1;33m,\u001b[0m \u001b[0mmap\u001b[0m\u001b[1;33m(\u001b[0m\u001b[0mself\u001b[0m\u001b[1;33m.\u001b[0m\u001b[0m_get_lemma\u001b[0m\u001b[1;33m,\u001b[0m \u001b[0minfos\u001b[0m\u001b[1;33m)\u001b[0m\u001b[1;33m)\u001b[0m\u001b[1;33m)\u001b[0m\u001b[1;33m\u001b[0m\u001b[1;33m\u001b[0m\u001b[0m\n\u001b[0;32m    267\u001b[0m \u001b[1;33m\u001b[0m\u001b[0m\n",
      "\u001b[1;32mC:\\ProgramData\\Anaconda3\\lib\\site-packages\\pymystem3\\mystem.py\u001b[0m in \u001b[0;36manalyze\u001b[1;34m(self, text)\u001b[0m\n\u001b[0;32m    248\u001b[0m         \u001b[0mresult\u001b[0m \u001b[1;33m=\u001b[0m \u001b[1;33m[\u001b[0m\u001b[1;33m]\u001b[0m\u001b[1;33m\u001b[0m\u001b[1;33m\u001b[0m\u001b[0m\n\u001b[0;32m    249\u001b[0m         \u001b[1;32mfor\u001b[0m \u001b[0mline\u001b[0m \u001b[1;32min\u001b[0m \u001b[0mtext\u001b[0m\u001b[1;33m.\u001b[0m\u001b[0msplitlines\u001b[0m\u001b[1;33m(\u001b[0m\u001b[1;33m)\u001b[0m\u001b[1;33m:\u001b[0m\u001b[1;33m\u001b[0m\u001b[1;33m\u001b[0m\u001b[0m\n\u001b[1;32m--> 250\u001b[1;33m             \u001b[0mresult\u001b[0m\u001b[1;33m.\u001b[0m\u001b[0mextend\u001b[0m\u001b[1;33m(\u001b[0m\u001b[0mself\u001b[0m\u001b[1;33m.\u001b[0m\u001b[0m_analyze_impl\u001b[0m\u001b[1;33m(\u001b[0m\u001b[0mline\u001b[0m\u001b[1;33m)\u001b[0m\u001b[1;33m)\u001b[0m\u001b[1;33m\u001b[0m\u001b[1;33m\u001b[0m\u001b[0m\n\u001b[0m\u001b[0;32m    251\u001b[0m         \u001b[1;32mreturn\u001b[0m \u001b[0mresult\u001b[0m\u001b[1;33m\u001b[0m\u001b[1;33m\u001b[0m\u001b[0m\n\u001b[0;32m    252\u001b[0m \u001b[1;33m\u001b[0m\u001b[0m\n",
      "\u001b[1;32mC:\\ProgramData\\Anaconda3\\lib\\site-packages\\pymystem3\\mystem.py\u001b[0m in \u001b[0;36m_analyze_impl\u001b[1;34m(self, text)\u001b[0m\n\u001b[0;32m    311\u001b[0m             \u001b[0mself\u001b[0m\u001b[1;33m.\u001b[0m\u001b[0m_procin\u001b[0m\u001b[1;33m.\u001b[0m\u001b[0mwrite\u001b[0m\u001b[1;33m(\u001b[0m\u001b[0m_NL\u001b[0m\u001b[1;33m)\u001b[0m\u001b[1;33m\u001b[0m\u001b[1;33m\u001b[0m\u001b[0m\n\u001b[0;32m    312\u001b[0m \u001b[1;33m\u001b[0m\u001b[0m\n\u001b[1;32m--> 313\u001b[1;33m             \u001b[0mout\u001b[0m\u001b[1;33m,\u001b[0m \u001b[0m_\u001b[0m \u001b[1;33m=\u001b[0m \u001b[0mself\u001b[0m\u001b[1;33m.\u001b[0m\u001b[0m_proc\u001b[0m\u001b[1;33m.\u001b[0m\u001b[0mcommunicate\u001b[0m\u001b[1;33m(\u001b[0m\u001b[1;33m)\u001b[0m\u001b[1;33m\u001b[0m\u001b[1;33m\u001b[0m\u001b[0m\n\u001b[0m\u001b[0;32m    314\u001b[0m             \u001b[0mself\u001b[0m\u001b[1;33m.\u001b[0m\u001b[0m_proc\u001b[0m \u001b[1;33m=\u001b[0m \u001b[1;32mNone\u001b[0m\u001b[1;33m\u001b[0m\u001b[1;33m\u001b[0m\u001b[0m\n\u001b[0;32m    315\u001b[0m             \u001b[1;32mtry\u001b[0m\u001b[1;33m:\u001b[0m\u001b[1;33m\u001b[0m\u001b[1;33m\u001b[0m\u001b[0m\n",
      "\u001b[1;32mC:\\ProgramData\\Anaconda3\\lib\\subprocess.py\u001b[0m in \u001b[0;36mcommunicate\u001b[1;34m(self, input, timeout)\u001b[0m\n\u001b[0;32m   1132\u001b[0m \u001b[1;33m\u001b[0m\u001b[0m\n\u001b[0;32m   1133\u001b[0m             \u001b[1;32mtry\u001b[0m\u001b[1;33m:\u001b[0m\u001b[1;33m\u001b[0m\u001b[1;33m\u001b[0m\u001b[0m\n\u001b[1;32m-> 1134\u001b[1;33m                 \u001b[0mstdout\u001b[0m\u001b[1;33m,\u001b[0m \u001b[0mstderr\u001b[0m \u001b[1;33m=\u001b[0m \u001b[0mself\u001b[0m\u001b[1;33m.\u001b[0m\u001b[0m_communicate\u001b[0m\u001b[1;33m(\u001b[0m\u001b[0minput\u001b[0m\u001b[1;33m,\u001b[0m \u001b[0mendtime\u001b[0m\u001b[1;33m,\u001b[0m \u001b[0mtimeout\u001b[0m\u001b[1;33m)\u001b[0m\u001b[1;33m\u001b[0m\u001b[1;33m\u001b[0m\u001b[0m\n\u001b[0m\u001b[0;32m   1135\u001b[0m             \u001b[1;32mexcept\u001b[0m \u001b[0mKeyboardInterrupt\u001b[0m\u001b[1;33m:\u001b[0m\u001b[1;33m\u001b[0m\u001b[1;33m\u001b[0m\u001b[0m\n\u001b[0;32m   1136\u001b[0m                 \u001b[1;31m# https://bugs.python.org/issue25942\u001b[0m\u001b[1;33m\u001b[0m\u001b[1;33m\u001b[0m\u001b[0m\n",
      "\u001b[1;32mC:\\ProgramData\\Anaconda3\\lib\\subprocess.py\u001b[0m in \u001b[0;36m_communicate\u001b[1;34m(self, input, endtime, orig_timeout)\u001b[0m\n\u001b[0;32m   1506\u001b[0m             \u001b[1;31m# calls communicate again.\u001b[0m\u001b[1;33m\u001b[0m\u001b[1;33m\u001b[0m\u001b[0m\n\u001b[0;32m   1507\u001b[0m             \u001b[1;32mif\u001b[0m \u001b[0mself\u001b[0m\u001b[1;33m.\u001b[0m\u001b[0mstdout\u001b[0m \u001b[1;32mis\u001b[0m \u001b[1;32mnot\u001b[0m \u001b[1;32mNone\u001b[0m\u001b[1;33m:\u001b[0m\u001b[1;33m\u001b[0m\u001b[1;33m\u001b[0m\u001b[0m\n\u001b[1;32m-> 1508\u001b[1;33m                 \u001b[0mself\u001b[0m\u001b[1;33m.\u001b[0m\u001b[0mstdout_thread\u001b[0m\u001b[1;33m.\u001b[0m\u001b[0mjoin\u001b[0m\u001b[1;33m(\u001b[0m\u001b[0mself\u001b[0m\u001b[1;33m.\u001b[0m\u001b[0m_remaining_time\u001b[0m\u001b[1;33m(\u001b[0m\u001b[0mendtime\u001b[0m\u001b[1;33m)\u001b[0m\u001b[1;33m)\u001b[0m\u001b[1;33m\u001b[0m\u001b[1;33m\u001b[0m\u001b[0m\n\u001b[0m\u001b[0;32m   1509\u001b[0m                 \u001b[1;32mif\u001b[0m \u001b[0mself\u001b[0m\u001b[1;33m.\u001b[0m\u001b[0mstdout_thread\u001b[0m\u001b[1;33m.\u001b[0m\u001b[0mis_alive\u001b[0m\u001b[1;33m(\u001b[0m\u001b[1;33m)\u001b[0m\u001b[1;33m:\u001b[0m\u001b[1;33m\u001b[0m\u001b[1;33m\u001b[0m\u001b[0m\n\u001b[0;32m   1510\u001b[0m                     \u001b[1;32mraise\u001b[0m \u001b[0mTimeoutExpired\u001b[0m\u001b[1;33m(\u001b[0m\u001b[0mself\u001b[0m\u001b[1;33m.\u001b[0m\u001b[0margs\u001b[0m\u001b[1;33m,\u001b[0m \u001b[0morig_timeout\u001b[0m\u001b[1;33m)\u001b[0m\u001b[1;33m\u001b[0m\u001b[1;33m\u001b[0m\u001b[0m\n",
      "\u001b[1;32mC:\\ProgramData\\Anaconda3\\lib\\threading.py\u001b[0m in \u001b[0;36mjoin\u001b[1;34m(self, timeout)\u001b[0m\n\u001b[0;32m   1051\u001b[0m \u001b[1;33m\u001b[0m\u001b[0m\n\u001b[0;32m   1052\u001b[0m         \u001b[1;32mif\u001b[0m \u001b[0mtimeout\u001b[0m \u001b[1;32mis\u001b[0m \u001b[1;32mNone\u001b[0m\u001b[1;33m:\u001b[0m\u001b[1;33m\u001b[0m\u001b[1;33m\u001b[0m\u001b[0m\n\u001b[1;32m-> 1053\u001b[1;33m             \u001b[0mself\u001b[0m\u001b[1;33m.\u001b[0m\u001b[0m_wait_for_tstate_lock\u001b[0m\u001b[1;33m(\u001b[0m\u001b[1;33m)\u001b[0m\u001b[1;33m\u001b[0m\u001b[1;33m\u001b[0m\u001b[0m\n\u001b[0m\u001b[0;32m   1054\u001b[0m         \u001b[1;32melse\u001b[0m\u001b[1;33m:\u001b[0m\u001b[1;33m\u001b[0m\u001b[1;33m\u001b[0m\u001b[0m\n\u001b[0;32m   1055\u001b[0m             \u001b[1;31m# the behavior of a negative timeout isn't documented, but\u001b[0m\u001b[1;33m\u001b[0m\u001b[1;33m\u001b[0m\u001b[0m\n",
      "\u001b[1;32mC:\\ProgramData\\Anaconda3\\lib\\threading.py\u001b[0m in \u001b[0;36m_wait_for_tstate_lock\u001b[1;34m(self, block, timeout)\u001b[0m\n\u001b[0;32m   1067\u001b[0m         \u001b[1;32mif\u001b[0m \u001b[0mlock\u001b[0m \u001b[1;32mis\u001b[0m \u001b[1;32mNone\u001b[0m\u001b[1;33m:\u001b[0m  \u001b[1;31m# already determined that the C code is done\u001b[0m\u001b[1;33m\u001b[0m\u001b[1;33m\u001b[0m\u001b[0m\n\u001b[0;32m   1068\u001b[0m             \u001b[1;32massert\u001b[0m \u001b[0mself\u001b[0m\u001b[1;33m.\u001b[0m\u001b[0m_is_stopped\u001b[0m\u001b[1;33m\u001b[0m\u001b[1;33m\u001b[0m\u001b[0m\n\u001b[1;32m-> 1069\u001b[1;33m         \u001b[1;32melif\u001b[0m \u001b[0mlock\u001b[0m\u001b[1;33m.\u001b[0m\u001b[0macquire\u001b[0m\u001b[1;33m(\u001b[0m\u001b[0mblock\u001b[0m\u001b[1;33m,\u001b[0m \u001b[0mtimeout\u001b[0m\u001b[1;33m)\u001b[0m\u001b[1;33m:\u001b[0m\u001b[1;33m\u001b[0m\u001b[1;33m\u001b[0m\u001b[0m\n\u001b[0m\u001b[0;32m   1070\u001b[0m             \u001b[0mlock\u001b[0m\u001b[1;33m.\u001b[0m\u001b[0mrelease\u001b[0m\u001b[1;33m(\u001b[0m\u001b[1;33m)\u001b[0m\u001b[1;33m\u001b[0m\u001b[1;33m\u001b[0m\u001b[0m\n\u001b[0;32m   1071\u001b[0m             \u001b[0mself\u001b[0m\u001b[1;33m.\u001b[0m\u001b[0m_stop\u001b[0m\u001b[1;33m(\u001b[0m\u001b[1;33m)\u001b[0m\u001b[1;33m\u001b[0m\u001b[1;33m\u001b[0m\u001b[0m\n",
      "\u001b[1;31mKeyboardInterrupt\u001b[0m: "
     ]
    }
   ],
   "source": [
    "df['locality_name'] = df['locality_name'].fillna('').apply(filtered_name)\n",
    "df['locality_name'].value_counts()"
   ]
  },
  {
   "cell_type": "code",
   "execution_count": null,
   "metadata": {},
   "outputs": [],
   "source": [
    "df.duplicated().sum()"
   ]
  },
  {
   "cell_type": "markdown",
   "metadata": {},
   "source": [
    "#### Выводы"
   ]
  },
  {
   "cell_type": "markdown",
   "metadata": {},
   "source": [
    "В процессе лемматизации выяснили, что одни и те же названия населённых пунктов написаны по-другому. В крупных населённых пунктах данная ошибка исправлена. В малых ещё не исправлялась, так как велика верояотность их группировки в будущем под общую категорию."
   ]
  },
  {
   "cell_type": "markdown",
   "metadata": {},
   "source": [
    "## Расчёты и добавление результатов в таблицу"
   ]
  },
  {
   "cell_type": "code",
   "execution_count": null,
   "metadata": {},
   "outputs": [],
   "source": [
    "df['price_per_sq_meter'] = df['last_price'] / df['total_area']\n",
    "df['year_expos'] = df['first_day_exposition'].dt.year\n",
    "df['month_expos'] = df['first_day_exposition'].dt.month\n",
    "df['day_expos'] = df['first_day_exposition'].dt.weekday"
   ]
  },
  {
   "cell_type": "code",
   "execution_count": null,
   "metadata": {},
   "outputs": [],
   "source": [
    "df.head()"
   ]
  },
  {
   "cell_type": "code",
   "execution_count": null,
   "metadata": {},
   "outputs": [],
   "source": [
    "def floor_def(row):\n",
    "    if row['floor'] == 1:\n",
    "        return 'первый'\n",
    "    elif row['floor'] == row['floors_total']:\n",
    "        return'последний'\n",
    "    else:\n",
    "        return 'другой'\n",
    "            \n",
    "        "
   ]
  },
  {
   "cell_type": "code",
   "execution_count": null,
   "metadata": {},
   "outputs": [],
   "source": [
    "df['floor_group'] = df.apply(floor_def, axis=1)"
   ]
  },
  {
   "cell_type": "code",
   "execution_count": null,
   "metadata": {
    "scrolled": true
   },
   "outputs": [],
   "source": [
    "df.head()"
   ]
  },
  {
   "cell_type": "code",
   "execution_count": null,
   "metadata": {},
   "outputs": [],
   "source": [
    "df['kitchen_rate'] = df['kitchen_area'] / df['total_area']\n",
    "df['living_area_rate'] = df['living_area'] / df['total_area']"
   ]
  },
  {
   "cell_type": "code",
   "execution_count": null,
   "metadata": {
    "scrolled": true
   },
   "outputs": [],
   "source": [
    "df.head(10)"
   ]
  },
  {
   "cell_type": "markdown",
   "metadata": {},
   "source": [
    "## Исследовательский анализ данных"
   ]
  },
  {
   "cell_type": "code",
   "execution_count": null,
   "metadata": {
    "scrolled": false
   },
   "outputs": [],
   "source": [
    "df.plot(y='total_area', kind='hist', histtype='step', bins=20, range=(0, 400), label='total_area', title='total_area')\n",
    "plt.show()"
   ]
  },
  {
   "cell_type": "code",
   "execution_count": null,
   "metadata": {},
   "outputs": [],
   "source": [
    "df['total_area'].min()"
   ]
  },
  {
   "cell_type": "markdown",
   "metadata": {},
   "source": [
    "Больше всего квартир с площадью в районе 50 кв.м. Затем идёт категория до 50 кв.м., менее всего наблюдаются квартиры с площадью от 100 кв.м."
   ]
  },
  {
   "cell_type": "code",
   "execution_count": null,
   "metadata": {
    "scrolled": false
   },
   "outputs": [],
   "source": [
    "df['last_price'].plot(kind='hist', bins = 20, range=(0, 76000000), title='гистограмма цен', label='price', grid=True, legend=True)\n",
    "plt.show()"
   ]
  },
  {
   "cell_type": "code",
   "execution_count": null,
   "metadata": {},
   "outputs": [],
   "source": [
    "print(df['last_price'].min())\n",
    "print(df['last_price'].max())"
   ]
  },
  {
   "cell_type": "code",
   "execution_count": null,
   "metadata": {
    "scrolled": false
   },
   "outputs": [],
   "source": [
    "df['last_price'].hist(bins = 20, range=(0, 2000000))\n",
    "plt.show()"
   ]
  },
  {
   "cell_type": "code",
   "execution_count": null,
   "metadata": {},
   "outputs": [],
   "source": [
    "df['last_price'].hist(bins = 20, range=(100000000, 763000000), title='гистограмма цен продажи', label='last_price', grid=True, legend=True)\n",
    "plt.show()"
   ]
  },
  {
   "cell_type": "code",
   "execution_count": null,
   "metadata": {},
   "outputs": [],
   "source": [
    "df = df.query('100000000 >= last_price >= 150000')"
   ]
  },
  {
   "cell_type": "markdown",
   "metadata": {},
   "source": [
    "Большая доля квартир продается по цене 2.7 - 5 млн. руб. От этой величины как в большую, так и в меньшую сторону, идёт спад доли продаваемых квартир. Отредактировано количество квартир по минимальной и максимальной стоимости стоиомсти. Путём поиска квартир на портале циан были отсечены аномальные высокие и аномальльно низкие цены на квартиры (от 150 тыс руб до 100 млн. руб). Минимальная цена была выбрана 150 тыс руб, так как возможны варианты где продают не квартиру, а апартаменты (их стоимость теоритически может быть такой, но они будут не приспособлены для жилья)"
   ]
  },
  {
   "cell_type": "code",
   "execution_count": null,
   "metadata": {
    "scrolled": false
   },
   "outputs": [],
   "source": [
    "df['rooms'].hist(bins=10, range=(0,10))\n",
    "plt.show()"
   ]
  },
  {
   "cell_type": "code",
   "execution_count": null,
   "metadata": {
    "scrolled": true
   },
   "outputs": [],
   "source": [
    "df[df['rooms'] == 0]['rooms'].count()"
   ]
  },
  {
   "cell_type": "code",
   "execution_count": null,
   "metadata": {},
   "outputs": [],
   "source": [
    "df = df.query('rooms > 0')"
   ]
  },
  {
   "cell_type": "markdown",
   "metadata": {},
   "source": [
    "Большую долю занимают двухкомнатные и однокомнатные квартиры. Затем трёхкомнатные и по уменьшению. Все значение, где число комнат было равно 0 были отсечены, так как в квартире должны быть комнаты"
   ]
  },
  {
   "cell_type": "code",
   "execution_count": null,
   "metadata": {
    "scrolled": true
   },
   "outputs": [],
   "source": [
    "df['ceiling_height'].plot(kind='hist', range=(2, 5), bins = 4, title='гситограмма высоты потолков', legend=True, grid=True)\n",
    "plt.show()"
   ]
  },
  {
   "cell_type": "code",
   "execution_count": null,
   "metadata": {},
   "outputs": [],
   "source": [
    "df.query('ceiling_height < 2.5')['ceiling_height'].count()"
   ]
  },
  {
   "cell_type": "code",
   "execution_count": null,
   "metadata": {},
   "outputs": [],
   "source": [
    "df = df.query('ceiling_height > 2.5')"
   ]
  },
  {
   "cell_type": "markdown",
   "metadata": {},
   "source": [
    "Больше всего квартир с потолком в районе 2.6-2.8 метров. Менее 2.5 м встречается редко, а вот более 2.8 метров встречается не редко. по закону размеры потолков не могут быть меньше 2.5 метров, поэтому лишние значения были отсортированы"
   ]
  },
  {
   "cell_type": "code",
   "execution_count": null,
   "metadata": {},
   "outputs": [],
   "source": [
    "df['month_expos'].plot(kind='hist', bins=12, range=(1, 12), legend=True, grid=True, title='гистограмма цен по месяцам')\n",
    "plt.show()"
   ]
  },
  {
   "cell_type": "markdown",
   "metadata": {},
   "source": [
    "Квартиры реже выставляются на продажу в декабре и января, что связано с праздниками. А также спад наблюдается лет, что, скорее всего, связано с периодом летних отпусков."
   ]
  },
  {
   "cell_type": "code",
   "execution_count": null,
   "metadata": {},
   "outputs": [],
   "source": [
    "df['days_exposition'].hist()\n",
    "plt.show()"
   ]
  },
  {
   "cell_type": "code",
   "execution_count": null,
   "metadata": {},
   "outputs": [],
   "source": [
    "df['days_exposition'].hist(range=(1000, 1400), bins=20)\n",
    "plt.show()"
   ]
  },
  {
   "cell_type": "code",
   "execution_count": null,
   "metadata": {},
   "outputs": [],
   "source": [
    "df['days_exposition'].hist(range=(0, 5), bins=5)\n",
    "plt.show()"
   ]
  },
  {
   "cell_type": "markdown",
   "metadata": {},
   "source": [
    "Продажи прошли очень быстро, если квартира была продана за срок не более 2 дней. Необчно долгие продажи будем считать продажи сроком более 1000 дней."
   ]
  },
  {
   "cell_type": "code",
   "execution_count": null,
   "metadata": {
    "scrolled": true
   },
   "outputs": [],
   "source": [
    "print(f\"Средняя продолжительность продажи квартиры составляет: {df['days_exposition'].mean()} дней\")\n",
    "print(f\"Медианная продолжительность продажи квартиры составляет: {df['days_exposition'].median()} дней\")"
   ]
  },
  {
   "cell_type": "markdown",
   "metadata": {},
   "source": [
    "На среднюю продолжительность оказывает серьёзное влияние сроком более 1000 дней. Слишком быстро продаваемых квартир не так много, поэтому их изначальное влияние было минимально."
   ]
  },
  {
   "cell_type": "code",
   "execution_count": null,
   "metadata": {},
   "outputs": [],
   "source": [
    "df = df.query('2 < days_exposition <= 1000')"
   ]
  },
  {
   "cell_type": "code",
   "execution_count": null,
   "metadata": {
    "scrolled": false
   },
   "outputs": [],
   "source": [
    "print(f\"Средняя продолжительность продажи квартир после фильтрации составляет: {df['days_exposition'].mean()} дней\")\n",
    "print(f\"Медианная продолжительность продажи квартир после фильтрации составляет: {df['days_exposition'].median()} дней\")"
   ]
  },
  {
   "cell_type": "markdown",
   "metadata": {},
   "source": [
    "В результате фильтрации средняя продолжительность продажи квартир сократилась на 13 дней, а медианное значение - на 2 дня."
   ]
  },
  {
   "cell_type": "markdown",
   "metadata": {},
   "source": [
    "**Общие пометки:**"
   ]
  },
  {
   "cell_type": "markdown",
   "metadata": {},
   "source": [
    "1.\tБольше всего квартир с площадью в районе 50 кв.м. Затем идёт категория до 50 кв.м., менее всего наблюдаются квартиры с площадью от 100 кв.м\n",
    "2.\tБольшая доля квартир продается по цене 2.7 - 5 млн. руб. От этой величины как в большую, так и в меньшую сторону, идёт спад доли продаваемых квартир. Отредактировано количество квартир по минимальной и максимальной стоимости стоиомсти. Путём поиска квартир на портале циан были отсечены аномальные высокие и аномальльно низкие цены на квартиры (от 150 тыс руб до 100 млн. руб). Минимальная цена была выбрана 150 тыс руб, так как возможны варианты где продают не квартиру, а апартаменты (их стоимость теоритически может быть такой, но они будут не приспособлены для жилья)\n",
    "3.\tБольшую долю занимают двухкомнатные и однокомнатные квартиры. Затем трёхкомнатные и по уменьшению. Все значение, где число комнат было равно 0 были отсечены, так как в квартире должны быть комнаты\n",
    "4.\tБольше всего квартир с потолком в районе 2.6-2.8 метров. Менее 2.5 м встречается редко, а вот более 2.8 метров встречается не редко. по закону размеры потолков не могут быть меньше 2.5 метров, поэтому лишние значения были отсортированы\n",
    "5.\tКвартиры реже выставляются на продажу в декабре и января, что связано с праздниками. А также спад наблюдается лет, что, скорее всего, связано с периодом летних отпусков.\n",
    "6.\tЧаще всего квартиры продаются в пределах 170 дней. Квартиры котороые продаются за год и более встречаются реже, но есть и такие квартиры которые продаются за 1400 дней.\n",
    "7.\tПродажи прошли очень быстро, если квартира была продана за срок не более 2 дней. Необчно долгие продажи будем считать продажи сроком более 1000 дней.\n",
    "8.\tСредняя продолжительность продажи квартиры составляет: 198.88119031756608 дней\n",
    "9.\tМедианная продолжительность продажи квартиры составляет: 109.0 дней\n",
    "10.\tНа среднюю продолжительность оказывает серьёзное влияние сроком более 1000 дней. Слишком быстро продаваемых квартир не так много, поэтому их изначальное влияние было минимально.\n",
    "11.\tСредняя продолжительность продажи квартир после фильтрации составляет: 181.49847405900306 дней\n",
    "12.\tМедианная продолжительность продажи квартир после фильтрации составляет: 106.0 дней\n",
    "13.\tВ результате фильтрации средняя продолжительность продажи квартир сократилась на 13 дней, а медианное значение - на 2 дня."
   ]
  },
  {
   "cell_type": "markdown",
   "metadata": {},
   "source": [
    "**Факторы вляиющие на стомсоть квартир**"
   ]
  },
  {
   "cell_type": "code",
   "execution_count": null,
   "metadata": {},
   "outputs": [],
   "source": [
    "heatmap = sns.heatmap(df.corr(), vmin=-1, vmax=1)\n",
    "heatmap.set_title('Correlation heatmap', fontdict={'fontsize': 12}, pad=12)\n",
    "plt.show()"
   ]
  },
  {
   "cell_type": "code",
   "execution_count": null,
   "metadata": {},
   "outputs": [],
   "source": [
    "df['last_price'].corr(df['total_area'])"
   ]
  },
  {
   "cell_type": "markdown",
   "metadata": {},
   "source": [
    "Существует сильная корреляция между стоимостью квартир и её площадью."
   ]
  },
  {
   "cell_type": "code",
   "execution_count": null,
   "metadata": {},
   "outputs": [],
   "source": [
    "df['last_price'].corr(df['rooms'])"
   ]
  },
  {
   "cell_type": "markdown",
   "metadata": {},
   "source": [
    "Существует умеренная корреляция между стоимостью квартир и количесвтом её комнат."
   ]
  },
  {
   "cell_type": "code",
   "execution_count": null,
   "metadata": {
    "scrolled": true
   },
   "outputs": [],
   "source": [
    "df_floor = df.pivot_table(index='floor_group', values='last_price', aggfunc=['mean', 'median'])\n",
    "df_floor.columns = ['mean', 'median']\n",
    "df_floor['mean'] = df_floor['mean'].round()\n",
    "df_floor.head()"
   ]
  },
  {
   "cell_type": "markdown",
   "metadata": {},
   "source": [
    "Дешевле всего квартиры на первосм этаже. Самые дорогие квартиры - квартиры расположенные между первым и последним этажём. "
   ]
  },
  {
   "cell_type": "code",
   "execution_count": null,
   "metadata": {},
   "outputs": [],
   "source": [
    "df['last_price'].corr(df['city_centers_nearest'])"
   ]
  },
  {
   "cell_type": "markdown",
   "metadata": {},
   "source": [
    "Существует отрицательная слабая корреляция между стоимостью квартир и удалённостью от центра города. То есть есть слабая зависимость между близости к центру города и ростом стоимости квартир."
   ]
  },
  {
   "cell_type": "code",
   "execution_count": null,
   "metadata": {},
   "outputs": [],
   "source": [
    "df['last_price'].corr(df['ceiling_height'])"
   ]
  },
  {
   "cell_type": "markdown",
   "metadata": {},
   "source": [
    "Нет корреляции между стоимостью квартиры и высотой потолков."
   ]
  },
  {
   "cell_type": "code",
   "execution_count": null,
   "metadata": {},
   "outputs": [],
   "source": [
    "df_day = (df\n",
    "          .pivot_table(index='day_expos', values='last_price', aggfunc=['mean', 'median', 'count'])\n",
    "          .sort_values(by='day_expos')\n",
    "         )\n",
    "df_day.columns = ['mean', 'median', 'count']\n",
    "df_day['mean'] = df_day['mean'].round()\n",
    "\n",
    "\n",
    "df_month = (df\n",
    "            .pivot_table(index='month_expos', values='last_price', aggfunc=['mean', 'median', 'count'])\n",
    "            .sort_values(by='month_expos')\n",
    ")\n",
    "df_month.columns = ['mean', 'median', 'count']\n",
    "df_month['mean'] = df_month['mean'].round()\n",
    "\n",
    "\n",
    "df_year = (df\n",
    "          .pivot_table(index='year_expos', values='last_price', aggfunc=['mean', 'median', 'count'])\n",
    "           .sort_values(by='year_expos')\n",
    "          )\n",
    "df_year.columns = ['mean', 'median', 'count']\n",
    "df_year['mean'] = df_year['mean'].round()"
   ]
  },
  {
   "cell_type": "code",
   "execution_count": null,
   "metadata": {
    "scrolled": true
   },
   "outputs": [],
   "source": [
    "df_day.head(10)"
   ]
  },
  {
   "cell_type": "markdown",
   "metadata": {},
   "source": [
    "В понедельник средняя стоимость квартир меньше чем в другие дни. Пиковая средняя стоимость квартир приходится на четверг. По стоимости квартир наблюдается следующая закономерность: со вторника по четверг квартиры стоят дороже, так как на эти дни недели приходится пиковая активность населения. На выходных же предложение поменьше, медианная стоимость тоже находится на минимальных уровнях, но средняя стоимость в субботу почти пиковая."
   ]
  },
  {
   "cell_type": "code",
   "execution_count": null,
   "metadata": {},
   "outputs": [],
   "source": [
    "df_month['month'] = range(1, 13)\n",
    "df_month.head(20)"
   ]
  },
  {
   "cell_type": "code",
   "execution_count": null,
   "metadata": {},
   "outputs": [],
   "source": [
    "print(df_month['month'].corr(df_month['mean']))\n",
    "print(df_month['month'].corr(df_month['median']))"
   ]
  },
  {
   "cell_type": "markdown",
   "metadata": {},
   "source": [
    "Существует слабая корреляция между стоимостью квартир и месяцами года. Тут стоит учитывать два фактора: экономическую активность людей и инфляцию. Пиковая стоимость квартир в сентябре и мае. Самая низкая стоимость квартир в ноябре, марте и июне."
   ]
  },
  {
   "cell_type": "code",
   "execution_count": null,
   "metadata": {
    "scrolled": true
   },
   "outputs": [],
   "source": [
    "df_year.head(10)"
   ]
  },
  {
   "cell_type": "code",
   "execution_count": null,
   "metadata": {},
   "outputs": [],
   "source": [
    "df_year['year'] = range(2014, 2020)"
   ]
  },
  {
   "cell_type": "code",
   "execution_count": null,
   "metadata": {},
   "outputs": [],
   "source": [
    "print(df_year['year'].corr(df_year['mean']))\n",
    "print(df_year['year'].corr(df_year['median']))"
   ]
  },
  {
   "cell_type": "markdown",
   "metadata": {},
   "source": [
    "Наблюдается сильная отрицательная корреляция между годом продажи квартир и их стоимостью. Это объяснятеся тем, что в 2014 году против России ввели серьёзные экономические санкции (одним из последствий этих санкций долен был стать обвал рубля), поэтому люди в надежде сохранить свой накопленный капитал стали покупать неджвижимость, например, квартиры. Спрос резко вырос, а предложение осталось тем же, поэтому и цены подскочили."
   ]
  },
  {
   "cell_type": "code",
   "execution_count": null,
   "metadata": {
    "scrolled": true
   },
   "outputs": [],
   "source": [
    "df.groupby('locality_name')['last_price'].count().sort_values(ascending=False).head(10)"
   ]
  },
  {
   "cell_type": "code",
   "execution_count": null,
   "metadata": {},
   "outputs": [],
   "source": [
    "df_popular = df.pivot_table(index='locality_name', values ='price_per_sq_meter', aggfunc= ['count', 'mean'])\n",
    "df_popular.columns = ['count', 'mean']\n",
    "df_popular['mean'] = df_popular['mean'].round(2)\n",
    "df_popular = df_popular.sort_values(by='count', ascending=False)"
   ]
  },
  {
   "cell_type": "code",
   "execution_count": null,
   "metadata": {},
   "outputs": [],
   "source": [
    "df_popular = df_popular.query('count >= 85')"
   ]
  },
  {
   "cell_type": "code",
   "execution_count": null,
   "metadata": {},
   "outputs": [],
   "source": [
    "df_popular = df_popular.sort_values(by='mean', ascending=False)\n",
    "df_popular"
   ]
  },
  {
   "cell_type": "markdown",
   "metadata": {},
   "source": [
    "Жильё дороже всего в Санкт-Петербурге, Пушкино, Сестрорецке. А дешевле всего в: Всеволожске, Колпино, посёлке Шушары."
   ]
  },
  {
   "cell_type": "markdown",
   "metadata": {},
   "source": [
    "**Общие выводы по населённым пунктам**"
   ]
  },
  {
   "cell_type": "markdown",
   "metadata": {},
   "source": [
    "1.\tСуществует сильная корреляция между стоимостью квартир и её площадью.\n",
    "2.\tСуществует умеренная корреляция между стоимостью квартир и количесвтом её комнат.\n",
    "3.\tДешевле всего квартиры на первосм этаже. Самые дорогие квартиры - квартиры расположенные между первым и последним этажём.\n",
    "4.\tСуществует отрицательная слабая корреляция между стоимостью квартир и удалённостью от центра города. То есть есть слабая зависимость между близости к центру города и ростом стоимости квартир.\n",
    "5.\tВ понедельник средняя стоимость квартир меньше чем в другие дни. Пиковая средняя стоимость квартир приходится на четверг. По стоимости квартир наблюдается следующая закономерность: со вторника по четверг квартиры стоят дороже, так как на эти дни недели приходится пиковая активность населения. На выходных же предложение поменьше, медианная стоимость тоже находится на минимальных уровнях, но средняя стоимость в субботу почти пиковая.\n",
    "6.\tСуществует слабая корреляция между стоимостью квартир и месяцами года. Тут стоит учитывать два фактора: экономическую активность людей и инфляцию. Пиковая стоимость квартир в сентябре и мае. Самая низкая стоимость квартир в ноябре, марте и июне.\n",
    "7.\tНаблюдается сильная отрицательная корреляция между годом продажи квартир и их стоимостью. Это объяснятеся тем, что в 2014 году против России ввели серьёзные экономические санкции (одним из последствий этих санкций долен был стать обвал рубля), поэтому люди в надежде сохранить свой накопленный капитал стали покупать неджвижимость, например, квартиры. Спрос резко вырос, а предложение осталось тем же, поэтому и цены подскочили.\n",
    "8.\tЖильё дороже всего в Санкт-Петербурге, Пушкино, Сестрорецке. А дешевле всего в: Всеволожске, Колпино, посёлке Шушары.\n"
   ]
  },
  {
   "cell_type": "code",
   "execution_count": null,
   "metadata": {},
   "outputs": [],
   "source": [
    "df_spb = df.query('locality_name == \"Санкт-Петербург\"')\n",
    "df_spb['km_to_centre'] = df_spb['city_centers_nearest']/1000\n",
    "df_spb['km_to_centre'] = df_spb['km_to_centre'].round()"
   ]
  },
  {
   "cell_type": "code",
   "execution_count": null,
   "metadata": {},
   "outputs": [],
   "source": [
    "df_spb_km = df_spb.pivot_table(index='km_to_centre', values = 'last_price')"
   ]
  },
  {
   "cell_type": "code",
   "execution_count": null,
   "metadata": {
    "scrolled": true
   },
   "outputs": [],
   "source": [
    "df_spb_km.plot(y='last_price', xlim=(0, 20))"
   ]
  },
  {
   "cell_type": "markdown",
   "metadata": {},
   "source": [
    "Центральная зона начинается c 6 киллоемтров до центра города."
   ]
  },
  {
   "cell_type": "markdown",
   "metadata": {},
   "source": [
    "<div class=\"alert alert-success\">\n",
    "<b>✔️</b> \n",
    "<br> Верно выделена область центра\n",
    "</div>\n"
   ]
  },
  {
   "cell_type": "markdown",
   "metadata": {},
   "source": [
    "**Анализ центральной части города**"
   ]
  },
  {
   "cell_type": "code",
   "execution_count": null,
   "metadata": {},
   "outputs": [],
   "source": [
    "df_spb['km_to_centre'] = df_spb.query('km_to_centre < 6')\n",
    "df_spb.head(20)"
   ]
  },
  {
   "cell_type": "code",
   "execution_count": null,
   "metadata": {},
   "outputs": [],
   "source": [
    "df_spb['rooms'].corr(df['last_price'])"
   ]
  },
  {
   "cell_type": "markdown",
   "metadata": {},
   "source": [
    "Существует умеренная корреляция между количеством комнат и стоимостью квартиры в центреальной части города"
   ]
  },
  {
   "cell_type": "code",
   "execution_count": null,
   "metadata": {},
   "outputs": [],
   "source": [
    "(df_spb\n",
    " .pivot_table(index='floor_group', values = 'last_price', aggfunc=['mean', 'median'])\n",
    " .head(10)\n",
    ")"
   ]
  },
  {
   "cell_type": "markdown",
   "metadata": {},
   "source": [
    "В центральной части города стоимость квартир на последних этажах больше (значительно больше). Самая низкая стоимость на первых этажах"
   ]
  },
  {
   "cell_type": "code",
   "execution_count": null,
   "metadata": {},
   "outputs": [],
   "source": [
    "df_spb['last_price'].corr(df_spb['city_centers_nearest'])"
   ]
  },
  {
   "cell_type": "markdown",
   "metadata": {},
   "source": [
    "В центральной части города наблюдается слабая обратная корелляция между дальностью от центра города и стоимостью квартир. То есть, чем ближе к центру, тем квартира дороже."
   ]
  },
  {
   "cell_type": "code",
   "execution_count": null,
   "metadata": {},
   "outputs": [],
   "source": [
    "df_spb.plot(x='day_expos', y='last_price', kind='hexbin', sharex=False, gridsize=30, grid=True)"
   ]
  },
  {
   "cell_type": "code",
   "execution_count": null,
   "metadata": {},
   "outputs": [],
   "source": [
    "df_spb['day_expos'].corr(df['last_price'])"
   ]
  },
  {
   "cell_type": "markdown",
   "metadata": {},
   "source": [
    "Корреляция между днём недели и стоиомстью квартир в центральной части города отсутствует."
   ]
  },
  {
   "cell_type": "code",
   "execution_count": null,
   "metadata": {},
   "outputs": [],
   "source": [
    "df_spb_month = df_spb.pivot_table(index='month_expos', values='last_price', aggfunc=['mean', 'median'])\n",
    "df_spb_month['mean'] = df_spb_month['mean'].round()\n",
    "df_spb_month.columns = ['mean', 'median']"
   ]
  },
  {
   "cell_type": "code",
   "execution_count": null,
   "metadata": {},
   "outputs": [],
   "source": [
    "df_spb_month.plot(y='mean', grid=True)"
   ]
  },
  {
   "cell_type": "code",
   "execution_count": null,
   "metadata": {},
   "outputs": [],
   "source": [
    "df_spb_month"
   ]
  },
  {
   "cell_type": "markdown",
   "metadata": {},
   "source": [
    "Меньшая стоимость квартир в центральных районах в марте, апреле, августе и октября. Пиковые месяцы - январь, май, сентябрь, июль."
   ]
  },
  {
   "cell_type": "code",
   "execution_count": null,
   "metadata": {},
   "outputs": [],
   "source": [
    "df_spb_year = df_spb.pivot_table(index='year_expos', values='last_price', aggfunc=['mean', 'median'])\n",
    "df_spb_year['mean'] = df_spb_year['mean'].round()\n",
    "df_spb_year.columns = ['mean', 'median']"
   ]
  },
  {
   "cell_type": "code",
   "execution_count": null,
   "metadata": {
    "scrolled": true
   },
   "outputs": [],
   "source": [
    "df_spb_year"
   ]
  },
  {
   "cell_type": "code",
   "execution_count": null,
   "metadata": {},
   "outputs": [],
   "source": [
    "df_spb['last_price'].corr(df_spb['year_expos'])"
   ]
  },
  {
   "cell_type": "markdown",
   "metadata": {},
   "source": [
    "Наблюдается сильная отрицательная корреляция между годом продажи квартир в центральных районах и их стоимостью. Это объяснятеся тем, что в 2014 году против России ввели серьёзные экономические санкции (одним из последствий этих санкций долен был стать обвал рубля), поэтому люди в надежде сохранить свой накопленный капитал стали покупать неджвижимость, например, квартиры. Спрос резко вырос, а предложение осталось тем же, поэтому и цены подскочили. "
   ]
  },
  {
   "cell_type": "code",
   "execution_count": null,
   "metadata": {
    "scrolled": true
   },
   "outputs": [],
   "source": [
    "df_spb['last_price'].corr(df_spb['total_area'])"
   ]
  },
  {
   "cell_type": "markdown",
   "metadata": {},
   "source": [
    "Существует сильная корреляция между общей площадью квартиры и стоимостью квартиры в центральной части города"
   ]
  },
  {
   "cell_type": "code",
   "execution_count": null,
   "metadata": {},
   "outputs": [],
   "source": [
    "df_spb['last_price'].corr(df_spb['ceiling_height'])"
   ]
  },
  {
   "cell_type": "markdown",
   "metadata": {},
   "source": [
    "Нет корреляции между высотой потолков и стоимость квартир в центральных районах"
   ]
  },
  {
   "cell_type": "markdown",
   "metadata": {},
   "source": [
    "**Выводы по квартирам центральных районов**"
   ]
  },
  {
   "cell_type": "markdown",
   "metadata": {},
   "source": [
    "1.\tСуществует умеренная корреляция между количеством комнат и стоимостью квартиры в центральной части города\n",
    "2.\tВ центральной части города стоимость квартир на последних этажах больше (значительно больше). Самая низкая стоимость на первых этажах\n",
    "3.\tВ центральной части города наблюдается слабая обратная корреляция между дальностью от центра города и стоимостью квартир. То есть, чем ближе к центру, тем квартира дороже.\n",
    "4.\tКорреляция между днём недели и стоимостью квартир в центральной части города отсутствует.\n",
    "5.\tМеньшая стоимость квартир в центральных районах в марте, апреле, августе и октября. Пиковые месяцы - январь, май, сентябрь, июль.\n",
    "6.\tНаблюдается сильная отрицательная корреляция между годом продажи квартир в центральных районах и их стоимостью. Это объясняется тем, что в 2014 году против России ввели серьёзные экономические санкции (одним из последствий этих санкций долен был стать обвал рубля), поэтому люди в надежде сохранить свой накопленный капитал стали покупать недвижимость, например, квартиры. Спрос резко вырос, а предложение осталось тем же, поэтому и цены подскочили.\n",
    "7. Нет корреляции между высотой потолков и стоимость квартир в центральных районах"
   ]
  },
  {
   "cell_type": "markdown",
   "metadata": {},
   "source": [
    "## Общий вывод"
   ]
  },
  {
   "cell_type": "markdown",
   "metadata": {},
   "source": [
    "### Общие выводы по всем населенным пунктам"
   ]
  },
  {
   "cell_type": "markdown",
   "metadata": {},
   "source": [
    "1.\tСуществует сильная корреляция между стоимостью квартир и её площадью.\n",
    "2.\tСуществует умеренная корреляция между стоимостью квартир и количесвтом её комнат.\n",
    "3.\tДешевле всего квартиры на первом этаже. Самые дорогие квартиры - квартиры расположенные между первым и последним этажём.\n",
    "4.\tСуществует отрицательная слабая корреляция между стоимостью квартир и удалённостью от центра города. То есть есть слабая зависимость между близости к центру города и ростом стоимости квартир.\n",
    "5.\tВ понедельник средняя стоимость квартир меньше чем в другие дни. Пиковая средняя стоимость квартир приходится на четверг. По стоимости квартир наблюдается следующая закономерность: со вторника по четверг квартиры стоят дороже, так как на эти дни недели приходится пиковая активность населения. На выходных же предложение поменьше, медианная стоимость тоже находится на минимальных уровнях, но средняя стоимость в субботу почти пиковая.\n",
    "6.\tСуществует слабая корреляция между стоимостью квартир и месяцами года. Тут стоит учитывать два фактора: экономическую активность людей и инфляцию. Пиковая стоимость квартир в сентябре и мае. Самая низкая стоимость квартир в ноябре, марте и июне.\n",
    "7.\tНаблюдается сильная отрицательная корреляция между годом продажи квартир и их стоимостью. Это объяснятеся тем, что в 2014 году против России ввели серьёзные экономические санкции (одним из последствий этих санкций долен был стать обвал рубля), поэтому люди в надежде сохранить свой накопленный капитал стали покупать неджвижимость, например, квартиры. Спрос резко вырос, а предложение осталось тем же, поэтому и цены подскочили.\n",
    "8.\tЖильё дороже всего в Санкт-Петербурге, Пушкино, Сестрорецке. А дешевле всего в: Всеволожске, Колпино, посёлке Шушары.\n"
   ]
  },
  {
   "cell_type": "markdown",
   "metadata": {},
   "source": [
    "### Выводы по населенным пунктам центрального района"
   ]
  },
  {
   "cell_type": "markdown",
   "metadata": {},
   "source": [
    "1.\tСуществует умеренная корреляция между количеством комнат и стоимостью квартиры в центральной части города\n",
    "2.\tВ центральной части города стоимость квартир на последних этажах больше (значительно больше). Самая низкая стоимость на первых этажах\n",
    "3.\tВ центральной части города наблюдается слабая отрицательная корреляция между дальностью от центра города и стоимостью квартир. То есть, чем ближе к центру, тем квартира дороже.\n",
    "4.\tКорреляция между днём недели и стоимостью квартир в центральной части города отсутствует.\n",
    "5.\tМеньшая стоимость квартир в центральных районах в марте, апреле, августе и октября. Пиковые месяцы - январь, май, сентябрь, июль.\n",
    "6.\tНаблюдается сильная отрицательная корреляция между годом продажи квартир в центральных районах и их стоимостью. Это объясняется тем, что в 2014 году против России ввели серьёзные экономические санкции (одним из последствий этих санкций долен был стать обвал рубля), поэтому люди в надежде сохранить свой накопленный капитал стали покупать недвижимость, например, квартиры. Спрос резко вырос, а предложение осталось тем же, поэтому и цены подскочили.\n",
    "7. Существует сильная корреляция между общей площадью квартиры и стоимостью квартиры в центральной части города\n",
    "8. Нет корреляции между высотой потолков и стоимость квартир в центральных районах"
   ]
  },
  {
   "cell_type": "markdown",
   "metadata": {},
   "source": [
    "### Сходства и различия между центральными и всеми приведенными населенными пунками"
   ]
  },
  {
   "cell_type": "markdown",
   "metadata": {},
   "source": [
    "**Сходства:**\n",
    "1. Существует сильная корреляция между общей площадью квартиры и стоимостью квартиры \n",
    "2. Самые дешевые квартиры на первых этажах\n",
    "3. Существует умеренная корреляция между количеством комнат и стоимостью квартиры\n",
    "4. Слабая отрицательная корреляция между дальностью от центра города и стоимостью квартир\n",
    "5. Пиковые месяцы стоимости квартир\n",
    "6. Наблюдается отрицательная корреляция между годом продажи квартир и их стоимостью\n",
    "7. Нет корреляции между высотой потолков и стоимость квартир\n",
    "**Различия:**\n",
    "1. Самые дорогие квартиры - на последних этажах для центральных районов, а в общем - на промежуточных этажах между первым и последним\n",
    "2. Дни недели не влияют на стоиомсть квартир в центральных районов\n",
    "3. Больше спадов по месяцам у стоиомсти квартир центральных районов"
   ]
  },
  {
   "cell_type": "markdown",
   "metadata": {},
   "source": [
    "### Ключевые параметры оказывающие влияние на стоимость квартир"
   ]
  },
  {
   "cell_type": "markdown",
   "metadata": {},
   "source": [
    "1. Число комнат\n",
    "2. Общая площадь\n",
    "3. Расстояние до центра города\n",
    "4. Этаж\n",
    "5. Месяц продажи\n",
    "6. Год продажи"
   ]
  }
 ],
 "metadata": {
  "ExecuteTimeLog": [
   {
    "duration": 721,
    "start_time": "2022-01-18T19:06:00.482Z"
   },
   {
    "duration": 76,
    "start_time": "2022-01-18T19:09:55.085Z"
   },
   {
    "duration": 18,
    "start_time": "2022-01-18T19:10:05.356Z"
   },
   {
    "duration": 206,
    "start_time": "2022-01-18T19:10:25.188Z"
   },
   {
    "duration": 10,
    "start_time": "2022-01-18T19:10:25.617Z"
   },
   {
    "duration": 71,
    "start_time": "2022-01-18T19:10:31.457Z"
   },
   {
    "duration": 9,
    "start_time": "2022-01-18T19:10:33.155Z"
   },
   {
    "duration": 4998,
    "start_time": "2022-01-18T19:12:15.948Z"
   },
   {
    "duration": 635,
    "start_time": "2022-01-18T19:12:20.314Z"
   },
   {
    "duration": 115,
    "start_time": "2022-01-18T19:12:32.859Z"
   },
   {
    "duration": 70,
    "start_time": "2022-01-18T19:12:40.056Z"
   },
   {
    "duration": 8,
    "start_time": "2022-01-18T19:12:41.083Z"
   },
   {
    "duration": 88,
    "start_time": "2022-01-18T19:12:56.727Z"
   },
   {
    "duration": 36,
    "start_time": "2022-01-18T19:12:57.971Z"
   },
   {
    "duration": 16,
    "start_time": "2022-01-18T19:13:21.962Z"
   },
   {
    "duration": 12,
    "start_time": "2022-01-18T19:45:44.916Z"
   },
   {
    "duration": 16,
    "start_time": "2022-01-18T20:00:14.785Z"
   },
   {
    "duration": 31,
    "start_time": "2022-01-18T20:02:18.136Z"
   },
   {
    "duration": 36,
    "start_time": "2022-01-18T20:02:32.579Z"
   },
   {
    "duration": 128,
    "start_time": "2022-01-18T20:02:40.327Z"
   },
   {
    "duration": 103,
    "start_time": "2022-01-18T20:02:46.014Z"
   },
   {
    "duration": 12,
    "start_time": "2022-01-18T20:02:57.093Z"
   },
   {
    "duration": 42,
    "start_time": "2022-01-18T20:03:00.308Z"
   },
   {
    "duration": 25,
    "start_time": "2022-01-18T20:03:35.274Z"
   },
   {
    "duration": 24,
    "start_time": "2022-01-18T20:04:11.125Z"
   },
   {
    "duration": 33,
    "start_time": "2022-01-18T20:27:39.399Z"
   },
   {
    "duration": 35,
    "start_time": "2022-01-18T20:33:32.878Z"
   },
   {
    "duration": 17,
    "start_time": "2022-01-18T20:41:21.698Z"
   },
   {
    "duration": 354,
    "start_time": "2022-01-18T20:41:29.621Z"
   },
   {
    "duration": 17,
    "start_time": "2022-01-18T20:41:41.942Z"
   },
   {
    "duration": 112,
    "start_time": "2022-01-18T20:47:14.795Z"
   },
   {
    "duration": 17,
    "start_time": "2022-01-18T20:47:59.398Z"
   },
   {
    "duration": 310,
    "start_time": "2022-01-18T20:55:06.264Z"
   },
   {
    "duration": 24,
    "start_time": "2022-01-18T20:55:29.327Z"
   },
   {
    "duration": 17,
    "start_time": "2022-01-18T20:55:52.261Z"
   },
   {
    "duration": 26,
    "start_time": "2022-01-18T20:58:11.239Z"
   },
   {
    "duration": 17,
    "start_time": "2022-01-18T20:58:11.905Z"
   },
   {
    "duration": 37,
    "start_time": "2022-01-18T20:59:55.254Z"
   },
   {
    "duration": 14,
    "start_time": "2022-01-18T20:59:56.332Z"
   },
   {
    "duration": 20,
    "start_time": "2022-01-18T21:02:30.307Z"
   },
   {
    "duration": 11,
    "start_time": "2022-01-18T21:02:31.508Z"
   },
   {
    "duration": 20,
    "start_time": "2022-01-18T21:06:12.330Z"
   },
   {
    "duration": 12,
    "start_time": "2022-01-18T21:06:15.997Z"
   },
   {
    "duration": 584,
    "start_time": "2022-01-19T05:54:31.753Z"
   },
   {
    "duration": 64,
    "start_time": "2022-01-19T05:54:33.990Z"
   },
   {
    "duration": 26,
    "start_time": "2022-01-19T05:54:35.178Z"
   },
   {
    "duration": 8,
    "start_time": "2022-01-19T05:54:59.080Z"
   },
   {
    "duration": 10,
    "start_time": "2022-01-19T05:55:08.912Z"
   },
   {
    "duration": 11,
    "start_time": "2022-01-19T05:55:31.883Z"
   },
   {
    "duration": 11,
    "start_time": "2022-01-19T05:55:52.907Z"
   },
   {
    "duration": 17,
    "start_time": "2022-01-19T05:56:36.914Z"
   },
   {
    "duration": 8,
    "start_time": "2022-01-19T05:56:38.002Z"
   },
   {
    "duration": 11,
    "start_time": "2022-01-19T06:08:55.100Z"
   },
   {
    "duration": 12,
    "start_time": "2022-01-19T06:09:25.836Z"
   },
   {
    "duration": 237,
    "start_time": "2022-01-19T06:15:42.638Z"
   },
   {
    "duration": 3,
    "start_time": "2022-01-19T06:16:54.911Z"
   },
   {
    "duration": 481,
    "start_time": "2022-01-19T06:17:16.422Z"
   },
   {
    "duration": 3,
    "start_time": "2022-01-19T06:18:12.238Z"
   },
   {
    "duration": 87,
    "start_time": "2022-01-19T06:18:12.662Z"
   },
   {
    "duration": 23,
    "start_time": "2022-01-19T06:18:12.975Z"
   },
   {
    "duration": 11,
    "start_time": "2022-01-19T06:18:14.501Z"
   },
   {
    "duration": 11,
    "start_time": "2022-01-19T06:18:19.526Z"
   },
   {
    "duration": 8,
    "start_time": "2022-01-19T06:18:25.762Z"
   },
   {
    "duration": 17,
    "start_time": "2022-01-19T06:18:44.775Z"
   },
   {
    "duration": 8,
    "start_time": "2022-01-19T06:18:47.636Z"
   },
   {
    "duration": 19,
    "start_time": "2022-01-19T06:28:41.150Z"
   },
   {
    "duration": 10,
    "start_time": "2022-01-19T06:28:42.499Z"
   },
   {
    "duration": 26,
    "start_time": "2022-01-19T06:43:15.100Z"
   },
   {
    "duration": 18,
    "start_time": "2022-01-19T06:45:45.453Z"
   },
   {
    "duration": 2,
    "start_time": "2022-01-19T06:54:55.235Z"
   },
   {
    "duration": 61,
    "start_time": "2022-01-19T06:54:55.653Z"
   },
   {
    "duration": 19,
    "start_time": "2022-01-19T06:54:56.513Z"
   },
   {
    "duration": 10,
    "start_time": "2022-01-19T06:54:57.888Z"
   },
   {
    "duration": 10,
    "start_time": "2022-01-19T06:55:02.130Z"
   },
   {
    "duration": 8,
    "start_time": "2022-01-19T06:55:09.035Z"
   },
   {
    "duration": 13,
    "start_time": "2022-01-19T06:56:06.273Z"
   },
   {
    "duration": 10,
    "start_time": "2022-01-19T06:56:11.466Z"
   },
   {
    "duration": 8,
    "start_time": "2022-01-19T06:59:59.181Z"
   },
   {
    "duration": 2,
    "start_time": "2022-01-19T07:00:05.206Z"
   },
   {
    "duration": 65,
    "start_time": "2022-01-19T07:00:05.531Z"
   },
   {
    "duration": 21,
    "start_time": "2022-01-19T07:00:05.910Z"
   },
   {
    "duration": 10,
    "start_time": "2022-01-19T07:00:06.359Z"
   },
   {
    "duration": 8,
    "start_time": "2022-01-19T07:00:08.797Z"
   },
   {
    "duration": 8,
    "start_time": "2022-01-19T07:00:12.967Z"
   },
   {
    "duration": 8,
    "start_time": "2022-01-19T07:00:13.693Z"
   },
   {
    "duration": 9,
    "start_time": "2022-01-19T07:00:54.402Z"
   },
   {
    "duration": 296,
    "start_time": "2022-01-19T07:07:28.581Z"
   },
   {
    "duration": 8,
    "start_time": "2022-01-19T07:07:40.555Z"
   },
   {
    "duration": 8,
    "start_time": "2022-01-19T07:09:53.459Z"
   },
   {
    "duration": 9,
    "start_time": "2022-01-19T07:10:59.962Z"
   },
   {
    "duration": 286,
    "start_time": "2022-01-19T07:22:16.133Z"
   },
   {
    "duration": 259,
    "start_time": "2022-01-19T07:22:26.325Z"
   },
   {
    "duration": 3,
    "start_time": "2022-01-19T07:22:35.841Z"
   },
   {
    "duration": 4,
    "start_time": "2022-01-19T07:22:48.740Z"
   },
   {
    "duration": 8,
    "start_time": "2022-01-19T07:26:47.001Z"
   },
   {
    "duration": 303,
    "start_time": "2022-01-19T07:31:24.179Z"
   },
   {
    "duration": 258,
    "start_time": "2022-01-19T07:34:29.684Z"
   },
   {
    "duration": 272,
    "start_time": "2022-01-19T07:34:48.917Z"
   },
   {
    "duration": 3892,
    "start_time": "2022-01-19T07:35:41.632Z"
   },
   {
    "duration": 9,
    "start_time": "2022-01-19T07:36:38.278Z"
   },
   {
    "duration": 9,
    "start_time": "2022-01-19T07:36:46.964Z"
   },
   {
    "duration": 11,
    "start_time": "2022-01-19T07:52:53.966Z"
   },
   {
    "duration": 29,
    "start_time": "2022-01-19T07:54:32.069Z"
   },
   {
    "duration": 2505,
    "start_time": "2022-01-19T07:56:24.991Z"
   },
   {
    "duration": -579,
    "start_time": "2022-01-19T07:56:28.078Z"
   },
   {
    "duration": 14,
    "start_time": "2022-01-19T07:56:48.342Z"
   },
   {
    "duration": 10,
    "start_time": "2022-01-19T07:56:50.710Z"
   },
   {
    "duration": 639,
    "start_time": "2022-01-19T07:58:22.846Z"
   },
   {
    "duration": 70,
    "start_time": "2022-01-19T07:58:23.487Z"
   },
   {
    "duration": 26,
    "start_time": "2022-01-19T07:58:23.559Z"
   },
   {
    "duration": 9,
    "start_time": "2022-01-19T07:58:23.587Z"
   },
   {
    "duration": 7,
    "start_time": "2022-01-19T07:58:23.598Z"
   },
   {
    "duration": 9,
    "start_time": "2022-01-19T07:58:23.607Z"
   },
   {
    "duration": 2,
    "start_time": "2022-01-19T07:58:23.618Z"
   },
   {
    "duration": 10,
    "start_time": "2022-01-19T07:58:23.622Z"
   },
   {
    "duration": 53,
    "start_time": "2022-01-19T07:58:23.633Z"
   },
   {
    "duration": 3,
    "start_time": "2022-01-19T07:58:23.687Z"
   },
   {
    "duration": 9,
    "start_time": "2022-01-19T07:58:23.692Z"
   },
   {
    "duration": 16,
    "start_time": "2022-01-19T07:58:23.702Z"
   },
   {
    "duration": 10,
    "start_time": "2022-01-19T07:58:23.719Z"
   },
   {
    "duration": 53,
    "start_time": "2022-01-19T07:58:23.731Z"
   },
   {
    "duration": 595,
    "start_time": "2022-01-19T07:58:54.997Z"
   },
   {
    "duration": 70,
    "start_time": "2022-01-19T07:58:55.598Z"
   },
   {
    "duration": 29,
    "start_time": "2022-01-19T07:58:55.669Z"
   },
   {
    "duration": 9,
    "start_time": "2022-01-19T07:58:55.700Z"
   },
   {
    "duration": 8,
    "start_time": "2022-01-19T07:58:55.711Z"
   },
   {
    "duration": 9,
    "start_time": "2022-01-19T07:58:55.721Z"
   },
   {
    "duration": 3,
    "start_time": "2022-01-19T07:58:55.732Z"
   },
   {
    "duration": 39,
    "start_time": "2022-01-19T07:58:55.736Z"
   },
   {
    "duration": 21,
    "start_time": "2022-01-19T07:58:55.777Z"
   },
   {
    "duration": 4,
    "start_time": "2022-01-19T07:58:55.799Z"
   },
   {
    "duration": 13,
    "start_time": "2022-01-19T07:58:55.805Z"
   },
   {
    "duration": 18,
    "start_time": "2022-01-19T07:58:55.820Z"
   },
   {
    "duration": 34,
    "start_time": "2022-01-19T07:58:55.840Z"
   },
   {
    "duration": 28,
    "start_time": "2022-01-19T07:58:55.876Z"
   },
   {
    "duration": 350,
    "start_time": "2022-01-19T08:12:36.389Z"
   },
   {
    "duration": 1414,
    "start_time": "2022-01-19T08:12:56.217Z"
   },
   {
    "duration": 697,
    "start_time": "2022-01-19T08:12:57.632Z"
   },
   {
    "duration": 27,
    "start_time": "2022-01-19T08:12:58.330Z"
   },
   {
    "duration": 17,
    "start_time": "2022-01-19T08:12:58.359Z"
   },
   {
    "duration": 7,
    "start_time": "2022-01-19T08:12:58.377Z"
   },
   {
    "duration": 7,
    "start_time": "2022-01-19T08:12:58.386Z"
   },
   {
    "duration": 2,
    "start_time": "2022-01-19T08:12:58.395Z"
   },
   {
    "duration": 8,
    "start_time": "2022-01-19T08:12:58.399Z"
   },
   {
    "duration": 17,
    "start_time": "2022-01-19T08:12:58.409Z"
   },
   {
    "duration": 3,
    "start_time": "2022-01-19T08:12:58.427Z"
   },
   {
    "duration": 44,
    "start_time": "2022-01-19T08:12:58.432Z"
   },
   {
    "duration": 321,
    "start_time": "2022-01-19T08:12:58.477Z"
   },
   {
    "duration": -212,
    "start_time": "2022-01-19T08:12:59.012Z"
   },
   {
    "duration": -221,
    "start_time": "2022-01-19T08:12:59.022Z"
   },
   {
    "duration": -222,
    "start_time": "2022-01-19T08:12:59.024Z"
   },
   {
    "duration": 16,
    "start_time": "2022-01-19T08:13:19.666Z"
   },
   {
    "duration": 10,
    "start_time": "2022-01-19T08:13:21.135Z"
   },
   {
    "duration": 26,
    "start_time": "2022-01-19T08:13:27.285Z"
   },
   {
    "duration": 8,
    "start_time": "2022-01-19T08:18:17.145Z"
   },
   {
    "duration": 24,
    "start_time": "2022-01-19T08:19:24.621Z"
   },
   {
    "duration": 18,
    "start_time": "2022-01-19T08:21:11.859Z"
   },
   {
    "duration": 92,
    "start_time": "2022-01-19T08:23:41.482Z"
   },
   {
    "duration": 10,
    "start_time": "2022-01-19T08:23:50.695Z"
   },
   {
    "duration": 6,
    "start_time": "2022-01-19T08:25:02.850Z"
   },
   {
    "duration": 352,
    "start_time": "2022-01-19T08:27:10.024Z"
   },
   {
    "duration": 1509,
    "start_time": "2022-01-19T08:29:01.254Z"
   },
   {
    "duration": 1737,
    "start_time": "2022-01-19T08:29:56.283Z"
   },
   {
    "duration": 259,
    "start_time": "2022-01-19T08:30:09.453Z"
   },
   {
    "duration": 3,
    "start_time": "2022-01-19T08:30:12.808Z"
   },
   {
    "duration": 1561,
    "start_time": "2022-01-19T08:30:18.651Z"
   },
   {
    "duration": 19,
    "start_time": "2022-01-19T08:33:26.955Z"
   },
   {
    "duration": 12,
    "start_time": "2022-01-19T08:33:49.706Z"
   },
   {
    "duration": 105,
    "start_time": "2022-01-19T08:34:42.556Z"
   },
   {
    "duration": 267,
    "start_time": "2022-01-19T08:34:47.703Z"
   },
   {
    "duration": 17,
    "start_time": "2022-01-19T08:35:21.130Z"
   },
   {
    "duration": 311,
    "start_time": "2022-01-19T08:40:19.647Z"
   },
   {
    "duration": 265,
    "start_time": "2022-01-19T08:42:46.960Z"
   },
   {
    "duration": 15,
    "start_time": "2022-01-19T08:43:57.804Z"
   },
   {
    "duration": 286,
    "start_time": "2022-01-19T08:45:43.817Z"
   },
   {
    "duration": 267,
    "start_time": "2022-01-19T08:46:21.985Z"
   },
   {
    "duration": 20,
    "start_time": "2022-01-19T08:46:26.841Z"
   },
   {
    "duration": 256,
    "start_time": "2022-01-19T11:43:01.965Z"
   },
   {
    "duration": 555,
    "start_time": "2022-01-19T11:43:13.944Z"
   },
   {
    "duration": 67,
    "start_time": "2022-01-19T11:43:14.503Z"
   },
   {
    "duration": 33,
    "start_time": "2022-01-19T11:43:14.572Z"
   },
   {
    "duration": 10,
    "start_time": "2022-01-19T11:43:14.607Z"
   },
   {
    "duration": 8,
    "start_time": "2022-01-19T11:43:14.618Z"
   },
   {
    "duration": 8,
    "start_time": "2022-01-19T11:43:14.628Z"
   },
   {
    "duration": 4,
    "start_time": "2022-01-19T11:43:14.640Z"
   },
   {
    "duration": 11,
    "start_time": "2022-01-19T11:43:14.646Z"
   },
   {
    "duration": 61,
    "start_time": "2022-01-19T11:43:14.658Z"
   },
   {
    "duration": 4,
    "start_time": "2022-01-19T11:43:14.721Z"
   },
   {
    "duration": 12,
    "start_time": "2022-01-19T11:43:14.727Z"
   },
   {
    "duration": 21,
    "start_time": "2022-01-19T11:43:14.741Z"
   },
   {
    "duration": 41,
    "start_time": "2022-01-19T11:43:14.764Z"
   },
   {
    "duration": 31,
    "start_time": "2022-01-19T11:43:14.807Z"
   },
   {
    "duration": 9,
    "start_time": "2022-01-19T11:43:14.840Z"
   },
   {
    "duration": 49,
    "start_time": "2022-01-19T11:43:14.851Z"
   },
   {
    "duration": 25,
    "start_time": "2022-01-19T11:43:14.902Z"
   },
   {
    "duration": 14,
    "start_time": "2022-01-19T11:43:14.929Z"
   },
   {
    "duration": 1622,
    "start_time": "2022-01-19T11:43:14.945Z"
   },
   {
    "duration": 18,
    "start_time": "2022-01-19T11:43:16.569Z"
   },
   {
    "duration": 106,
    "start_time": "2022-01-19T11:43:16.589Z"
   },
   {
    "duration": 72,
    "start_time": "2022-01-19T12:26:03.639Z"
   },
   {
    "duration": 290,
    "start_time": "2022-01-19T12:26:04.962Z"
   },
   {
    "duration": 3,
    "start_time": "2022-01-19T12:26:18.825Z"
   },
   {
    "duration": 1454,
    "start_time": "2022-01-19T12:26:24.235Z"
   },
   {
    "duration": 6202,
    "start_time": "2022-01-19T12:29:13.965Z"
   },
   {
    "duration": 5,
    "start_time": "2022-01-19T12:29:56.940Z"
   },
   {
    "duration": 438,
    "start_time": "2022-01-19T12:29:57.712Z"
   },
   {
    "duration": 4,
    "start_time": "2022-01-19T12:30:51.366Z"
   },
   {
    "duration": 495,
    "start_time": "2022-01-19T12:30:51.763Z"
   },
   {
    "duration": 559,
    "start_time": "2022-01-19T12:37:19.944Z"
   },
   {
    "duration": 9,
    "start_time": "2022-01-19T12:37:22.066Z"
   },
   {
    "duration": 554,
    "start_time": "2022-01-19T12:37:32.344Z"
   },
   {
    "duration": 70,
    "start_time": "2022-01-19T12:37:32.900Z"
   },
   {
    "duration": 36,
    "start_time": "2022-01-19T12:37:32.972Z"
   },
   {
    "duration": 12,
    "start_time": "2022-01-19T12:37:33.010Z"
   },
   {
    "duration": 10,
    "start_time": "2022-01-19T12:37:33.023Z"
   },
   {
    "duration": 10,
    "start_time": "2022-01-19T12:37:33.035Z"
   },
   {
    "duration": 5,
    "start_time": "2022-01-19T12:37:33.046Z"
   },
   {
    "duration": 44,
    "start_time": "2022-01-19T12:37:33.054Z"
   },
   {
    "duration": 24,
    "start_time": "2022-01-19T12:37:33.101Z"
   },
   {
    "duration": 4,
    "start_time": "2022-01-19T12:37:33.127Z"
   },
   {
    "duration": 13,
    "start_time": "2022-01-19T12:37:33.133Z"
   },
   {
    "duration": 18,
    "start_time": "2022-01-19T12:37:33.148Z"
   },
   {
    "duration": 35,
    "start_time": "2022-01-19T12:37:33.168Z"
   },
   {
    "duration": 31,
    "start_time": "2022-01-19T12:37:33.205Z"
   },
   {
    "duration": 8,
    "start_time": "2022-01-19T12:37:33.238Z"
   },
   {
    "duration": 24,
    "start_time": "2022-01-19T12:37:33.248Z"
   },
   {
    "duration": 49,
    "start_time": "2022-01-19T12:37:33.273Z"
   },
   {
    "duration": 12,
    "start_time": "2022-01-19T12:37:33.324Z"
   },
   {
    "duration": 1585,
    "start_time": "2022-01-19T12:37:33.338Z"
   },
   {
    "duration": 17,
    "start_time": "2022-01-19T12:37:34.925Z"
   },
   {
    "duration": 631,
    "start_time": "2022-01-19T12:37:34.943Z"
   },
   {
    "duration": -990,
    "start_time": "2022-01-19T12:37:36.566Z"
   },
   {
    "duration": 6023,
    "start_time": "2022-01-19T12:38:07.578Z"
   },
   {
    "duration": 9,
    "start_time": "2022-01-19T12:38:24.404Z"
   },
   {
    "duration": 574,
    "start_time": "2022-01-19T12:40:14.015Z"
   },
   {
    "duration": 67,
    "start_time": "2022-01-19T12:40:14.591Z"
   },
   {
    "duration": 37,
    "start_time": "2022-01-19T12:40:14.661Z"
   },
   {
    "duration": 10,
    "start_time": "2022-01-19T12:40:14.700Z"
   },
   {
    "duration": 8,
    "start_time": "2022-01-19T12:40:14.712Z"
   },
   {
    "duration": 11,
    "start_time": "2022-01-19T12:40:14.721Z"
   },
   {
    "duration": 3,
    "start_time": "2022-01-19T12:40:14.734Z"
   },
   {
    "duration": 11,
    "start_time": "2022-01-19T12:40:14.739Z"
   },
   {
    "duration": 56,
    "start_time": "2022-01-19T12:40:14.752Z"
   },
   {
    "duration": 3,
    "start_time": "2022-01-19T12:40:14.810Z"
   },
   {
    "duration": 11,
    "start_time": "2022-01-19T12:40:14.815Z"
   },
   {
    "duration": 20,
    "start_time": "2022-01-19T12:40:14.828Z"
   },
   {
    "duration": 9,
    "start_time": "2022-01-19T12:40:14.850Z"
   },
   {
    "duration": 63,
    "start_time": "2022-01-19T12:40:14.861Z"
   },
   {
    "duration": 8,
    "start_time": "2022-01-19T12:40:14.925Z"
   },
   {
    "duration": 23,
    "start_time": "2022-01-19T12:40:14.934Z"
   },
   {
    "duration": 41,
    "start_time": "2022-01-19T12:40:14.958Z"
   },
   {
    "duration": 13,
    "start_time": "2022-01-19T12:40:15.001Z"
   },
   {
    "duration": 1580,
    "start_time": "2022-01-19T12:40:15.016Z"
   },
   {
    "duration": 19,
    "start_time": "2022-01-19T12:40:16.598Z"
   },
   {
    "duration": 5,
    "start_time": "2022-01-19T12:40:16.619Z"
   },
   {
    "duration": 1413,
    "start_time": "2022-01-19T12:40:16.626Z"
   },
   {
    "duration": 5856,
    "start_time": "2022-01-19T12:40:44.557Z"
   },
   {
    "duration": 25,
    "start_time": "2022-01-19T12:42:31.227Z"
   },
   {
    "duration": 652,
    "start_time": "2022-01-19T17:27:40.451Z"
   },
   {
    "duration": 77,
    "start_time": "2022-01-19T17:27:41.105Z"
   },
   {
    "duration": 32,
    "start_time": "2022-01-19T17:27:41.184Z"
   },
   {
    "duration": 11,
    "start_time": "2022-01-19T17:27:41.217Z"
   },
   {
    "duration": 9,
    "start_time": "2022-01-19T17:27:41.229Z"
   },
   {
    "duration": 32,
    "start_time": "2022-01-19T17:27:41.240Z"
   },
   {
    "duration": 5,
    "start_time": "2022-01-19T17:27:41.274Z"
   },
   {
    "duration": 11,
    "start_time": "2022-01-19T17:27:41.282Z"
   },
   {
    "duration": 21,
    "start_time": "2022-01-19T17:27:41.295Z"
   },
   {
    "duration": 5,
    "start_time": "2022-01-19T17:27:41.318Z"
   },
   {
    "duration": 41,
    "start_time": "2022-01-19T17:27:41.324Z"
   },
   {
    "duration": 25,
    "start_time": "2022-01-19T17:27:41.369Z"
   },
   {
    "duration": 12,
    "start_time": "2022-01-19T17:27:41.396Z"
   },
   {
    "duration": 55,
    "start_time": "2022-01-19T17:27:41.410Z"
   },
   {
    "duration": 13,
    "start_time": "2022-01-19T17:27:41.466Z"
   },
   {
    "duration": 26,
    "start_time": "2022-01-19T17:27:41.481Z"
   },
   {
    "duration": 26,
    "start_time": "2022-01-19T17:27:41.509Z"
   },
   {
    "duration": 22,
    "start_time": "2022-01-19T17:27:41.560Z"
   },
   {
    "duration": 1927,
    "start_time": "2022-01-19T17:27:41.584Z"
   },
   {
    "duration": 20,
    "start_time": "2022-01-19T17:27:43.513Z"
   },
   {
    "duration": 14,
    "start_time": "2022-01-19T17:27:43.535Z"
   },
   {
    "duration": 6983,
    "start_time": "2022-01-19T17:27:43.550Z"
   },
   {
    "duration": 40,
    "start_time": "2022-01-19T17:27:50.536Z"
   },
   {
    "duration": 10,
    "start_time": "2022-01-19T17:27:53.295Z"
   },
   {
    "duration": 27,
    "start_time": "2022-01-19T17:28:08.438Z"
   },
   {
    "duration": 12,
    "start_time": "2022-01-19T17:29:52.676Z"
   },
   {
    "duration": 29,
    "start_time": "2022-01-19T17:29:55.050Z"
   },
   {
    "duration": 13,
    "start_time": "2022-01-19T17:30:23.531Z"
   },
   {
    "duration": 27,
    "start_time": "2022-01-19T17:30:24.372Z"
   },
   {
    "duration": 18,
    "start_time": "2022-01-19T17:31:02.758Z"
   },
   {
    "duration": 23,
    "start_time": "2022-01-19T17:31:03.694Z"
   },
   {
    "duration": 434,
    "start_time": "2022-01-19T17:37:32.505Z"
   },
   {
    "duration": 209,
    "start_time": "2022-01-19T17:37:47.953Z"
   },
   {
    "duration": 20,
    "start_time": "2022-01-19T17:40:46.556Z"
   },
   {
    "duration": 205,
    "start_time": "2022-01-19T17:43:35.728Z"
   },
   {
    "duration": 287,
    "start_time": "2022-01-19T17:45:45.588Z"
   },
   {
    "duration": 3,
    "start_time": "2022-01-19T17:49:51.690Z"
   },
   {
    "duration": 4,
    "start_time": "2022-01-19T17:50:07.251Z"
   },
   {
    "duration": 4,
    "start_time": "2022-01-19T17:50:15.277Z"
   },
   {
    "duration": 246,
    "start_time": "2022-01-19T17:50:38.960Z"
   },
   {
    "duration": 3,
    "start_time": "2022-01-19T17:53:52.703Z"
   },
   {
    "duration": 3,
    "start_time": "2022-01-19T17:54:04.776Z"
   },
   {
    "duration": 534,
    "start_time": "2022-01-19T17:54:48.202Z"
   },
   {
    "duration": 296,
    "start_time": "2022-01-19T17:55:29.450Z"
   },
   {
    "duration": 561,
    "start_time": "2022-01-19T17:56:25.654Z"
   },
   {
    "duration": 206,
    "start_time": "2022-01-19T17:57:38.553Z"
   },
   {
    "duration": 593,
    "start_time": "2022-01-19T17:57:56.102Z"
   },
   {
    "duration": 78,
    "start_time": "2022-01-19T17:57:56.697Z"
   },
   {
    "duration": 33,
    "start_time": "2022-01-19T17:57:56.778Z"
   },
   {
    "duration": 11,
    "start_time": "2022-01-19T17:57:56.813Z"
   },
   {
    "duration": 39,
    "start_time": "2022-01-19T17:57:56.826Z"
   },
   {
    "duration": 16,
    "start_time": "2022-01-19T17:57:56.868Z"
   },
   {
    "duration": 8,
    "start_time": "2022-01-19T17:57:56.886Z"
   },
   {
    "duration": 10,
    "start_time": "2022-01-19T17:57:56.896Z"
   },
   {
    "duration": 23,
    "start_time": "2022-01-19T17:57:56.908Z"
   },
   {
    "duration": 37,
    "start_time": "2022-01-19T17:57:56.932Z"
   },
   {
    "duration": 15,
    "start_time": "2022-01-19T17:57:56.972Z"
   },
   {
    "duration": 20,
    "start_time": "2022-01-19T17:57:56.989Z"
   },
   {
    "duration": 11,
    "start_time": "2022-01-19T17:57:57.011Z"
   },
   {
    "duration": 67,
    "start_time": "2022-01-19T17:57:57.024Z"
   },
   {
    "duration": 9,
    "start_time": "2022-01-19T17:57:57.092Z"
   },
   {
    "duration": 24,
    "start_time": "2022-01-19T17:57:57.103Z"
   },
   {
    "duration": 50,
    "start_time": "2022-01-19T17:57:57.129Z"
   },
   {
    "duration": 12,
    "start_time": "2022-01-19T17:57:57.181Z"
   },
   {
    "duration": 2374,
    "start_time": "2022-01-19T17:57:57.195Z"
   },
   {
    "duration": 24,
    "start_time": "2022-01-19T17:57:59.572Z"
   },
   {
    "duration": 4,
    "start_time": "2022-01-19T17:57:59.598Z"
   },
   {
    "duration": 7292,
    "start_time": "2022-01-19T17:57:59.604Z"
   },
   {
    "duration": 26,
    "start_time": "2022-01-19T17:58:06.900Z"
   },
   {
    "duration": 19,
    "start_time": "2022-01-19T17:58:06.927Z"
   },
   {
    "duration": 48,
    "start_time": "2022-01-19T17:58:06.948Z"
   },
   {
    "duration": 405,
    "start_time": "2022-01-19T17:58:06.999Z"
   },
   {
    "duration": -420,
    "start_time": "2022-01-19T17:58:07.826Z"
   },
   {
    "duration": 214,
    "start_time": "2022-01-19T17:59:43.692Z"
   },
   {
    "duration": 264,
    "start_time": "2022-01-19T18:00:01.717Z"
   },
   {
    "duration": 210,
    "start_time": "2022-01-19T18:00:42.669Z"
   },
   {
    "duration": 68,
    "start_time": "2022-01-19T18:19:48.338Z"
   },
   {
    "duration": 4,
    "start_time": "2022-01-19T18:19:53.284Z"
   },
   {
    "duration": 627,
    "start_time": "2022-01-19T18:19:55.314Z"
   },
   {
    "duration": 3,
    "start_time": "2022-01-19T18:20:41.842Z"
   },
   {
    "duration": 6931,
    "start_time": "2022-01-19T18:20:44.964Z"
   },
   {
    "duration": 90,
    "start_time": "2022-01-19T18:21:32.335Z"
   },
   {
    "duration": 4,
    "start_time": "2022-01-19T18:21:39.927Z"
   },
   {
    "duration": 579,
    "start_time": "2022-01-19T18:21:51.925Z"
   },
   {
    "duration": 23,
    "start_time": "2022-01-19T18:22:10.367Z"
   },
   {
    "duration": 12,
    "start_time": "2022-01-19T18:23:11.721Z"
   },
   {
    "duration": 620,
    "start_time": "2022-01-19T18:33:24.097Z"
   },
   {
    "duration": 93,
    "start_time": "2022-01-19T18:33:24.719Z"
   },
   {
    "duration": 60,
    "start_time": "2022-01-19T18:33:24.815Z"
   },
   {
    "duration": 15,
    "start_time": "2022-01-19T18:33:24.878Z"
   },
   {
    "duration": 12,
    "start_time": "2022-01-19T18:33:24.895Z"
   },
   {
    "duration": 11,
    "start_time": "2022-01-19T18:33:24.909Z"
   },
   {
    "duration": 5,
    "start_time": "2022-01-19T18:33:24.922Z"
   },
   {
    "duration": 43,
    "start_time": "2022-01-19T18:33:24.930Z"
   },
   {
    "duration": 26,
    "start_time": "2022-01-19T18:33:24.975Z"
   },
   {
    "duration": 4,
    "start_time": "2022-01-19T18:33:25.003Z"
   },
   {
    "duration": 13,
    "start_time": "2022-01-19T18:33:25.008Z"
   },
   {
    "duration": 49,
    "start_time": "2022-01-19T18:33:25.022Z"
   },
   {
    "duration": 11,
    "start_time": "2022-01-19T18:33:25.073Z"
   },
   {
    "duration": 28,
    "start_time": "2022-01-19T18:33:25.085Z"
   },
   {
    "duration": 8,
    "start_time": "2022-01-19T18:33:25.114Z"
   },
   {
    "duration": 60,
    "start_time": "2022-01-19T18:33:25.123Z"
   },
   {
    "duration": 25,
    "start_time": "2022-01-19T18:33:25.185Z"
   },
   {
    "duration": 12,
    "start_time": "2022-01-19T18:33:25.212Z"
   },
   {
    "duration": 2028,
    "start_time": "2022-01-19T18:33:25.226Z"
   },
   {
    "duration": 34,
    "start_time": "2022-01-19T18:33:27.256Z"
   },
   {
    "duration": 4,
    "start_time": "2022-01-19T18:33:27.292Z"
   },
   {
    "duration": 6631,
    "start_time": "2022-01-19T18:33:27.298Z"
   },
   {
    "duration": 39,
    "start_time": "2022-01-19T18:33:33.932Z"
   },
   {
    "duration": 16,
    "start_time": "2022-01-19T18:33:33.974Z"
   },
   {
    "duration": 23,
    "start_time": "2022-01-19T18:33:33.992Z"
   },
   {
    "duration": 12,
    "start_time": "2022-01-19T18:33:34.017Z"
   },
   {
    "duration": 1005,
    "start_time": "2022-01-19T18:33:34.031Z"
   },
   {
    "duration": 11,
    "start_time": "2022-01-19T18:33:35.038Z"
   },
   {
    "duration": 20,
    "start_time": "2022-01-19T18:33:43.192Z"
   },
   {
    "duration": 6,
    "start_time": "2022-01-19T18:46:11.615Z"
   },
   {
    "duration": 30,
    "start_time": "2022-01-19T18:46:24.554Z"
   },
   {
    "duration": 37,
    "start_time": "2022-01-19T18:48:00.319Z"
   },
   {
    "duration": 274,
    "start_time": "2022-01-19T19:25:35.784Z"
   },
   {
    "duration": 197,
    "start_time": "2022-01-19T19:26:17.500Z"
   },
   {
    "duration": 227,
    "start_time": "2022-01-19T19:26:32.996Z"
   },
   {
    "duration": 202,
    "start_time": "2022-01-19T19:26:46.701Z"
   },
   {
    "duration": 219,
    "start_time": "2022-01-19T19:27:52.453Z"
   },
   {
    "duration": 187,
    "start_time": "2022-01-19T19:27:59.255Z"
   },
   {
    "duration": 263,
    "start_time": "2022-01-19T19:29:40.739Z"
   },
   {
    "duration": 332,
    "start_time": "2022-01-19T19:29:51.169Z"
   },
   {
    "duration": 213,
    "start_time": "2022-01-19T19:30:28.856Z"
   },
   {
    "duration": 276,
    "start_time": "2022-01-19T19:31:06.096Z"
   },
   {
    "duration": 226,
    "start_time": "2022-01-19T19:31:46.695Z"
   },
   {
    "duration": 5,
    "start_time": "2022-01-19T19:32:27.773Z"
   },
   {
    "duration": 210,
    "start_time": "2022-01-19T19:34:48.740Z"
   },
   {
    "duration": 176,
    "start_time": "2022-01-19T19:35:08.752Z"
   },
   {
    "duration": 216,
    "start_time": "2022-01-19T19:35:21.559Z"
   },
   {
    "duration": 199,
    "start_time": "2022-01-19T19:35:44.850Z"
   },
   {
    "duration": 185,
    "start_time": "2022-01-19T19:38:55.173Z"
   },
   {
    "duration": 660,
    "start_time": "2022-01-19T19:39:12.770Z"
   },
   {
    "duration": 178,
    "start_time": "2022-01-19T19:39:20.484Z"
   },
   {
    "duration": 397,
    "start_time": "2022-01-19T19:39:34.972Z"
   },
   {
    "duration": 584,
    "start_time": "2022-01-19T19:39:49.138Z"
   },
   {
    "duration": 279,
    "start_time": "2022-01-19T19:39:57.503Z"
   },
   {
    "duration": 218,
    "start_time": "2022-01-19T19:40:05.472Z"
   },
   {
    "duration": 199,
    "start_time": "2022-01-19T19:40:10.466Z"
   },
   {
    "duration": 197,
    "start_time": "2022-01-19T19:41:41.726Z"
   },
   {
    "duration": 181,
    "start_time": "2022-01-19T19:42:08.528Z"
   },
   {
    "duration": 196,
    "start_time": "2022-01-19T19:42:24.470Z"
   },
   {
    "duration": 177,
    "start_time": "2022-01-19T19:42:48.191Z"
   },
   {
    "duration": 288,
    "start_time": "2022-01-19T19:42:52.249Z"
   },
   {
    "duration": 195,
    "start_time": "2022-01-19T19:43:06.931Z"
   },
   {
    "duration": 240,
    "start_time": "2022-01-19T19:55:19.596Z"
   },
   {
    "duration": 215,
    "start_time": "2022-01-19T19:55:42.830Z"
   },
   {
    "duration": 189,
    "start_time": "2022-01-19T19:56:54.227Z"
   },
   {
    "duration": 296,
    "start_time": "2022-01-19T19:57:29.223Z"
   },
   {
    "duration": 202,
    "start_time": "2022-01-19T20:04:33.448Z"
   },
   {
    "duration": 208,
    "start_time": "2022-01-19T20:16:20.165Z"
   },
   {
    "duration": 923,
    "start_time": "2022-01-19T20:17:15.330Z"
   },
   {
    "duration": 179,
    "start_time": "2022-01-19T20:17:20.254Z"
   },
   {
    "duration": 202,
    "start_time": "2022-01-19T20:17:32.868Z"
   },
   {
    "duration": 176,
    "start_time": "2022-01-19T20:18:14.954Z"
   },
   {
    "duration": 185,
    "start_time": "2022-01-19T20:18:59.550Z"
   },
   {
    "duration": 179,
    "start_time": "2022-01-19T20:20:14.118Z"
   },
   {
    "duration": 197,
    "start_time": "2022-01-19T20:20:46.335Z"
   },
   {
    "duration": 3,
    "start_time": "2022-01-19T20:21:17.420Z"
   },
   {
    "duration": 366,
    "start_time": "2022-01-19T20:21:28.058Z"
   },
   {
    "duration": 177,
    "start_time": "2022-01-19T20:22:13.959Z"
   },
   {
    "duration": 171,
    "start_time": "2022-01-19T20:22:19.579Z"
   },
   {
    "duration": 181,
    "start_time": "2022-01-19T20:23:31.591Z"
   },
   {
    "duration": 180,
    "start_time": "2022-01-19T20:23:38.508Z"
   },
   {
    "duration": 178,
    "start_time": "2022-01-19T20:23:57.202Z"
   },
   {
    "duration": 183,
    "start_time": "2022-01-19T20:24:03.093Z"
   },
   {
    "duration": 297,
    "start_time": "2022-01-19T20:24:27.180Z"
   },
   {
    "duration": 184,
    "start_time": "2022-01-19T20:24:56.839Z"
   },
   {
    "duration": 210,
    "start_time": "2022-01-19T20:25:01.576Z"
   },
   {
    "duration": 192,
    "start_time": "2022-01-19T20:28:24.357Z"
   },
   {
    "duration": 177,
    "start_time": "2022-01-19T20:28:31.602Z"
   },
   {
    "duration": 178,
    "start_time": "2022-01-19T20:28:39.100Z"
   },
   {
    "duration": 192,
    "start_time": "2022-01-19T20:28:55.322Z"
   },
   {
    "duration": 174,
    "start_time": "2022-01-19T20:29:12.666Z"
   },
   {
    "duration": 177,
    "start_time": "2022-01-19T20:29:18.242Z"
   },
   {
    "duration": 195,
    "start_time": "2022-01-19T20:29:24.917Z"
   },
   {
    "duration": 5,
    "start_time": "2022-01-19T21:01:53.288Z"
   },
   {
    "duration": 72,
    "start_time": "2022-01-19T21:03:22.683Z"
   },
   {
    "duration": 7,
    "start_time": "2022-01-19T21:04:25.883Z"
   },
   {
    "duration": 6,
    "start_time": "2022-01-19T21:04:42.608Z"
   },
   {
    "duration": 5986,
    "start_time": "2022-01-19T21:06:43.657Z"
   },
   {
    "duration": 10,
    "start_time": "2022-01-19T21:07:07.352Z"
   },
   {
    "duration": 36,
    "start_time": "2022-01-19T21:07:18.706Z"
   },
   {
    "duration": 30,
    "start_time": "2022-01-19T21:07:49.383Z"
   },
   {
    "duration": 30,
    "start_time": "2022-01-19T21:08:06.837Z"
   },
   {
    "duration": 6,
    "start_time": "2022-01-19T21:12:36.692Z"
   },
   {
    "duration": 616,
    "start_time": "2022-01-19T21:14:19.067Z"
   },
   {
    "duration": 80,
    "start_time": "2022-01-19T21:14:19.686Z"
   },
   {
    "duration": 36,
    "start_time": "2022-01-19T21:14:19.768Z"
   },
   {
    "duration": 28,
    "start_time": "2022-01-19T21:14:19.806Z"
   },
   {
    "duration": 27,
    "start_time": "2022-01-19T21:14:19.836Z"
   },
   {
    "duration": 20,
    "start_time": "2022-01-19T21:14:19.865Z"
   },
   {
    "duration": 4,
    "start_time": "2022-01-19T21:14:19.887Z"
   },
   {
    "duration": 13,
    "start_time": "2022-01-19T21:14:19.894Z"
   },
   {
    "duration": 28,
    "start_time": "2022-01-19T21:14:19.909Z"
   },
   {
    "duration": 24,
    "start_time": "2022-01-19T21:14:19.938Z"
   },
   {
    "duration": 16,
    "start_time": "2022-01-19T21:14:19.965Z"
   },
   {
    "duration": 23,
    "start_time": "2022-01-19T21:14:19.984Z"
   },
   {
    "duration": 12,
    "start_time": "2022-01-19T21:14:20.009Z"
   },
   {
    "duration": 58,
    "start_time": "2022-01-19T21:14:20.023Z"
   },
   {
    "duration": 11,
    "start_time": "2022-01-19T21:14:20.083Z"
   },
   {
    "duration": 29,
    "start_time": "2022-01-19T21:14:20.096Z"
   },
   {
    "duration": 41,
    "start_time": "2022-01-19T21:14:20.127Z"
   },
   {
    "duration": 13,
    "start_time": "2022-01-19T21:14:20.170Z"
   },
   {
    "duration": 1777,
    "start_time": "2022-01-19T21:14:20.184Z"
   },
   {
    "duration": 21,
    "start_time": "2022-01-19T21:14:21.963Z"
   },
   {
    "duration": 8,
    "start_time": "2022-01-19T21:14:21.986Z"
   },
   {
    "duration": 6766,
    "start_time": "2022-01-19T21:14:21.995Z"
   },
   {
    "duration": 25,
    "start_time": "2022-01-19T21:14:28.765Z"
   },
   {
    "duration": 15,
    "start_time": "2022-01-19T21:14:28.792Z"
   },
   {
    "duration": 21,
    "start_time": "2022-01-19T21:14:28.809Z"
   },
   {
    "duration": 29,
    "start_time": "2022-01-19T21:14:28.832Z"
   },
   {
    "duration": 625,
    "start_time": "2022-01-19T21:14:28.863Z"
   },
   {
    "duration": 21,
    "start_time": "2022-01-19T21:14:29.490Z"
   },
   {
    "duration": 5,
    "start_time": "2022-01-19T21:14:29.513Z"
   },
   {
    "duration": 47,
    "start_time": "2022-01-19T21:14:29.520Z"
   },
   {
    "duration": 347,
    "start_time": "2022-01-19T21:14:29.569Z"
   },
   {
    "duration": 220,
    "start_time": "2022-01-19T21:14:29.917Z"
   },
   {
    "duration": 211,
    "start_time": "2022-01-19T21:14:30.139Z"
   },
   {
    "duration": 198,
    "start_time": "2022-01-19T21:14:30.352Z"
   },
   {
    "duration": 189,
    "start_time": "2022-01-19T21:14:30.552Z"
   },
   {
    "duration": 197,
    "start_time": "2022-01-19T21:14:30.743Z"
   },
   {
    "duration": 230,
    "start_time": "2022-01-19T21:14:30.941Z"
   },
   {
    "duration": 239,
    "start_time": "2022-01-19T21:14:31.173Z"
   },
   {
    "duration": 6,
    "start_time": "2022-01-19T21:14:31.414Z"
   },
   {
    "duration": 25,
    "start_time": "2022-01-19T21:14:31.422Z"
   },
   {
    "duration": 15,
    "start_time": "2022-01-19T21:14:31.449Z"
   },
   {
    "duration": 326,
    "start_time": "2022-01-21T11:33:54.878Z"
   },
   {
    "duration": 597,
    "start_time": "2022-01-21T11:34:02.996Z"
   },
   {
    "duration": 68,
    "start_time": "2022-01-21T11:34:03.595Z"
   },
   {
    "duration": 27,
    "start_time": "2022-01-21T11:34:03.665Z"
   },
   {
    "duration": 10,
    "start_time": "2022-01-21T11:34:03.694Z"
   },
   {
    "duration": 9,
    "start_time": "2022-01-21T11:34:03.706Z"
   },
   {
    "duration": 7,
    "start_time": "2022-01-21T11:34:03.727Z"
   },
   {
    "duration": 3,
    "start_time": "2022-01-21T11:34:03.736Z"
   },
   {
    "duration": 12,
    "start_time": "2022-01-21T11:34:03.741Z"
   },
   {
    "duration": 35,
    "start_time": "2022-01-21T11:34:03.755Z"
   },
   {
    "duration": 5,
    "start_time": "2022-01-21T11:34:03.792Z"
   },
   {
    "duration": 36,
    "start_time": "2022-01-21T11:34:03.799Z"
   },
   {
    "duration": 17,
    "start_time": "2022-01-21T11:34:03.836Z"
   },
   {
    "duration": 10,
    "start_time": "2022-01-21T11:34:03.855Z"
   },
   {
    "duration": 26,
    "start_time": "2022-01-21T11:34:03.867Z"
   },
   {
    "duration": 36,
    "start_time": "2022-01-21T11:34:03.895Z"
   },
   {
    "duration": 17,
    "start_time": "2022-01-21T11:34:03.933Z"
   },
   {
    "duration": 22,
    "start_time": "2022-01-21T11:34:03.951Z"
   },
   {
    "duration": 10,
    "start_time": "2022-01-21T11:34:03.974Z"
   },
   {
    "duration": 1554,
    "start_time": "2022-01-21T11:34:03.986Z"
   },
   {
    "duration": 16,
    "start_time": "2022-01-21T11:34:05.542Z"
   },
   {
    "duration": 8,
    "start_time": "2022-01-21T11:34:05.561Z"
   },
   {
    "duration": 6358,
    "start_time": "2022-01-21T11:34:05.570Z"
   },
   {
    "duration": 22,
    "start_time": "2022-01-21T11:34:11.931Z"
   },
   {
    "duration": 13,
    "start_time": "2022-01-21T11:34:11.955Z"
   },
   {
    "duration": 20,
    "start_time": "2022-01-21T11:34:11.969Z"
   },
   {
    "duration": 2,
    "start_time": "2022-01-21T11:34:11.991Z"
   },
   {
    "duration": 542,
    "start_time": "2022-01-21T11:34:11.995Z"
   },
   {
    "duration": 19,
    "start_time": "2022-01-21T11:34:12.539Z"
   },
   {
    "duration": 4,
    "start_time": "2022-01-21T11:34:12.560Z"
   },
   {
    "duration": 22,
    "start_time": "2022-01-21T11:34:12.566Z"
   },
   {
    "duration": 331,
    "start_time": "2022-01-21T11:34:12.590Z"
   },
   {
    "duration": 192,
    "start_time": "2022-01-21T11:34:12.923Z"
   },
   {
    "duration": 174,
    "start_time": "2022-01-21T11:34:13.116Z"
   },
   {
    "duration": 179,
    "start_time": "2022-01-21T11:34:13.292Z"
   },
   {
    "duration": 166,
    "start_time": "2022-01-21T11:34:13.473Z"
   },
   {
    "duration": 178,
    "start_time": "2022-01-21T11:34:13.641Z"
   },
   {
    "duration": 191,
    "start_time": "2022-01-21T11:34:13.821Z"
   },
   {
    "duration": 162,
    "start_time": "2022-01-21T11:34:14.014Z"
   },
   {
    "duration": 5,
    "start_time": "2022-01-21T11:34:14.177Z"
   },
   {
    "duration": 15,
    "start_time": "2022-01-21T11:34:14.184Z"
   },
   {
    "duration": 5,
    "start_time": "2022-01-21T11:34:14.201Z"
   },
   {
    "duration": 5,
    "start_time": "2022-01-21T11:37:04.803Z"
   },
   {
    "duration": 4,
    "start_time": "2022-01-21T11:37:18.055Z"
   },
   {
    "duration": 5,
    "start_time": "2022-01-21T11:38:23.534Z"
   },
   {
    "duration": 5,
    "start_time": "2022-01-21T11:39:35.960Z"
   },
   {
    "duration": 4,
    "start_time": "2022-01-21T11:39:45.816Z"
   },
   {
    "duration": 164,
    "start_time": "2022-01-21T11:44:04.438Z"
   },
   {
    "duration": 220,
    "start_time": "2022-01-21T11:44:21.437Z"
   },
   {
    "duration": 196,
    "start_time": "2022-01-21T11:46:52.133Z"
   },
   {
    "duration": 207,
    "start_time": "2022-01-21T11:47:07.176Z"
   },
   {
    "duration": 171,
    "start_time": "2022-01-21T11:47:25.325Z"
   },
   {
    "duration": 188,
    "start_time": "2022-01-21T11:47:30.168Z"
   },
   {
    "duration": 180,
    "start_time": "2022-01-21T11:51:31.931Z"
   },
   {
    "duration": 169,
    "start_time": "2022-01-21T11:51:47.187Z"
   },
   {
    "duration": 173,
    "start_time": "2022-01-21T11:52:04.556Z"
   },
   {
    "duration": 162,
    "start_time": "2022-01-21T11:52:36.853Z"
   },
   {
    "duration": 170,
    "start_time": "2022-01-21T11:52:43.492Z"
   },
   {
    "duration": 8,
    "start_time": "2022-01-21T11:56:37.098Z"
   },
   {
    "duration": 146,
    "start_time": "2022-01-21T11:56:38.784Z"
   },
   {
    "duration": 212,
    "start_time": "2022-01-21T11:57:04.868Z"
   },
   {
    "duration": 3,
    "start_time": "2022-01-21T11:57:18.398Z"
   },
   {
    "duration": 592,
    "start_time": "2022-01-21T11:57:29.597Z"
   },
   {
    "duration": 67,
    "start_time": "2022-01-21T11:57:30.191Z"
   },
   {
    "duration": 27,
    "start_time": "2022-01-21T11:57:30.260Z"
   },
   {
    "duration": 9,
    "start_time": "2022-01-21T11:57:30.289Z"
   },
   {
    "duration": 7,
    "start_time": "2022-01-21T11:57:30.300Z"
   },
   {
    "duration": 25,
    "start_time": "2022-01-21T11:57:30.308Z"
   },
   {
    "duration": 7,
    "start_time": "2022-01-21T11:57:30.335Z"
   },
   {
    "duration": 31,
    "start_time": "2022-01-21T11:57:30.344Z"
   },
   {
    "duration": 20,
    "start_time": "2022-01-21T11:57:30.377Z"
   },
   {
    "duration": 3,
    "start_time": "2022-01-21T11:57:30.398Z"
   },
   {
    "duration": 18,
    "start_time": "2022-01-21T11:57:30.403Z"
   },
   {
    "duration": 18,
    "start_time": "2022-01-21T11:57:30.423Z"
   },
   {
    "duration": 10,
    "start_time": "2022-01-21T11:57:30.442Z"
   },
   {
    "duration": 27,
    "start_time": "2022-01-21T11:57:30.453Z"
   },
   {
    "duration": 15,
    "start_time": "2022-01-21T11:57:30.481Z"
   },
   {
    "duration": 33,
    "start_time": "2022-01-21T11:57:30.497Z"
   },
   {
    "duration": 20,
    "start_time": "2022-01-21T11:57:30.532Z"
   },
   {
    "duration": 10,
    "start_time": "2022-01-21T11:57:30.553Z"
   },
   {
    "duration": 1584,
    "start_time": "2022-01-21T11:57:30.565Z"
   },
   {
    "duration": 15,
    "start_time": "2022-01-21T11:57:32.151Z"
   },
   {
    "duration": 7,
    "start_time": "2022-01-21T11:57:32.168Z"
   },
   {
    "duration": 5619,
    "start_time": "2022-01-21T11:57:32.176Z"
   },
   {
    "duration": 34,
    "start_time": "2022-01-21T11:57:37.798Z"
   },
   {
    "duration": 13,
    "start_time": "2022-01-21T11:57:37.834Z"
   },
   {
    "duration": 18,
    "start_time": "2022-01-21T11:57:37.849Z"
   },
   {
    "duration": 3,
    "start_time": "2022-01-21T11:57:37.868Z"
   },
   {
    "duration": 562,
    "start_time": "2022-01-21T11:57:37.873Z"
   },
   {
    "duration": 19,
    "start_time": "2022-01-21T11:57:38.436Z"
   },
   {
    "duration": 6,
    "start_time": "2022-01-21T11:57:38.456Z"
   },
   {
    "duration": 21,
    "start_time": "2022-01-21T11:57:38.463Z"
   },
   {
    "duration": 283,
    "start_time": "2022-01-21T11:57:38.486Z"
   },
   {
    "duration": 4,
    "start_time": "2022-01-21T11:57:38.771Z"
   },
   {
    "duration": 177,
    "start_time": "2022-01-21T11:57:38.776Z"
   },
   {
    "duration": 3,
    "start_time": "2022-01-21T11:57:38.954Z"
   },
   {
    "duration": 195,
    "start_time": "2022-01-21T11:57:38.959Z"
   },
   {
    "duration": 192,
    "start_time": "2022-01-21T11:57:39.156Z"
   },
   {
    "duration": 2,
    "start_time": "2022-01-21T11:57:39.350Z"
   },
   {
    "duration": 173,
    "start_time": "2022-01-21T11:57:39.354Z"
   },
   {
    "duration": 174,
    "start_time": "2022-01-21T11:57:39.529Z"
   },
   {
    "duration": 160,
    "start_time": "2022-01-21T11:57:39.705Z"
   },
   {
    "duration": 175,
    "start_time": "2022-01-21T11:57:39.867Z"
   },
   {
    "duration": 186,
    "start_time": "2022-01-21T11:57:40.044Z"
   },
   {
    "duration": 202,
    "start_time": "2022-01-21T11:57:40.232Z"
   },
   {
    "duration": 5,
    "start_time": "2022-01-21T11:57:40.435Z"
   },
   {
    "duration": 13,
    "start_time": "2022-01-21T11:57:40.441Z"
   },
   {
    "duration": 5,
    "start_time": "2022-01-21T11:57:40.455Z"
   },
   {
    "duration": 9,
    "start_time": "2022-01-21T11:58:30.963Z"
   },
   {
    "duration": 157,
    "start_time": "2022-01-21T11:58:34.735Z"
   },
   {
    "duration": 92,
    "start_time": "2022-01-21T11:59:25.732Z"
   },
   {
    "duration": 7,
    "start_time": "2022-01-21T11:59:36.001Z"
   },
   {
    "duration": 6,
    "start_time": "2022-01-21T11:59:47.059Z"
   },
   {
    "duration": 7,
    "start_time": "2022-01-21T12:01:38.621Z"
   },
   {
    "duration": 155,
    "start_time": "2022-01-21T12:01:44.232Z"
   },
   {
    "duration": 153,
    "start_time": "2022-01-21T12:02:56.560Z"
   },
   {
    "duration": 154,
    "start_time": "2022-01-21T12:03:23.480Z"
   },
   {
    "duration": 8,
    "start_time": "2022-01-21T12:04:18.124Z"
   },
   {
    "duration": 6,
    "start_time": "2022-01-21T12:05:52.099Z"
   },
   {
    "duration": 5,
    "start_time": "2022-01-21T12:12:09.368Z"
   },
   {
    "duration": 9,
    "start_time": "2022-01-21T12:12:10.357Z"
   },
   {
    "duration": 5,
    "start_time": "2022-01-21T12:12:10.843Z"
   },
   {
    "duration": 79,
    "start_time": "2022-01-21T12:43:41.177Z"
   },
   {
    "duration": 5,
    "start_time": "2022-01-21T12:44:10.336Z"
   },
   {
    "duration": 5,
    "start_time": "2022-01-21T12:47:05.992Z"
   },
   {
    "duration": 355,
    "start_time": "2022-01-21T12:51:49.025Z"
   },
   {
    "duration": 324,
    "start_time": "2022-01-21T12:52:07.336Z"
   },
   {
    "duration": 21,
    "start_time": "2022-01-21T12:52:19.865Z"
   },
   {
    "duration": 19,
    "start_time": "2022-01-21T12:53:49.866Z"
   },
   {
    "duration": 20,
    "start_time": "2022-01-21T12:55:04.174Z"
   },
   {
    "duration": 6844,
    "start_time": "2022-01-21T12:58:32.658Z"
   },
   {
    "duration": 10280,
    "start_time": "2022-01-21T12:58:52.808Z"
   },
   {
    "duration": 5,
    "start_time": "2022-01-21T13:00:08.247Z"
   },
   {
    "duration": 28,
    "start_time": "2022-01-21T13:01:32.109Z"
   },
   {
    "duration": 6,
    "start_time": "2022-01-21T13:03:15.479Z"
   },
   {
    "duration": 4,
    "start_time": "2022-01-21T13:03:23.216Z"
   },
   {
    "duration": 4,
    "start_time": "2022-01-21T13:03:48.397Z"
   },
   {
    "duration": 115,
    "start_time": "2022-01-21T13:14:41.161Z"
   },
   {
    "duration": 20,
    "start_time": "2022-01-21T13:15:36.840Z"
   },
   {
    "duration": 7,
    "start_time": "2022-01-21T13:21:01.354Z"
   },
   {
    "duration": 38,
    "start_time": "2022-01-21T13:21:33.482Z"
   },
   {
    "duration": 9,
    "start_time": "2022-01-21T13:21:34.027Z"
   },
   {
    "duration": 39,
    "start_time": "2022-01-21T13:22:54.382Z"
   },
   {
    "duration": 7,
    "start_time": "2022-01-21T13:22:54.805Z"
   },
   {
    "duration": 7657,
    "start_time": "2022-01-21T13:24:56.269Z"
   },
   {
    "duration": 6849,
    "start_time": "2022-01-21T13:25:38.216Z"
   },
   {
    "duration": 1163,
    "start_time": "2022-01-21T13:27:47.521Z"
   },
   {
    "duration": -92,
    "start_time": "2022-01-21T13:27:48.778Z"
   },
   {
    "duration": 38,
    "start_time": "2022-01-21T13:28:03.345Z"
   },
   {
    "duration": 40,
    "start_time": "2022-01-21T13:28:04.943Z"
   },
   {
    "duration": 6,
    "start_time": "2022-01-21T13:28:05.752Z"
   },
   {
    "duration": 7624,
    "start_time": "2022-01-21T13:28:22.782Z"
   },
   {
    "duration": 50,
    "start_time": "2022-01-21T13:29:14.625Z"
   },
   {
    "duration": 7,
    "start_time": "2022-01-21T13:29:15.356Z"
   },
   {
    "duration": 8,
    "start_time": "2022-01-21T13:33:47.452Z"
   },
   {
    "duration": 596,
    "start_time": "2022-01-21T13:35:48.598Z"
   },
   {
    "duration": 7,
    "start_time": "2022-01-21T13:36:00.635Z"
   },
   {
    "duration": 7,
    "start_time": "2022-01-21T13:36:05.955Z"
   },
   {
    "duration": 9,
    "start_time": "2022-01-21T13:37:59.710Z"
   },
   {
    "duration": 7596,
    "start_time": "2022-01-21T13:39:02.285Z"
   },
   {
    "duration": 6989,
    "start_time": "2022-01-21T13:39:46.527Z"
   },
   {
    "duration": 7512,
    "start_time": "2022-01-21T13:40:11.851Z"
   },
   {
    "duration": 93,
    "start_time": "2022-01-21T13:41:11.434Z"
   },
   {
    "duration": 10,
    "start_time": "2022-01-21T13:41:17.644Z"
   },
   {
    "duration": 7391,
    "start_time": "2022-01-21T13:41:23.396Z"
   },
   {
    "duration": 5,
    "start_time": "2022-01-21T13:42:04.617Z"
   },
   {
    "duration": 5,
    "start_time": "2022-01-21T13:42:20.305Z"
   },
   {
    "duration": 8614,
    "start_time": "2022-01-21T13:56:22.702Z"
   },
   {
    "duration": 103,
    "start_time": "2022-01-21T13:56:52.108Z"
   },
   {
    "duration": 7,
    "start_time": "2022-01-21T13:56:56.500Z"
   },
   {
    "duration": 750,
    "start_time": "2022-01-22T08:12:35.219Z"
   },
   {
    "duration": 78,
    "start_time": "2022-01-22T08:12:35.972Z"
   },
   {
    "duration": 42,
    "start_time": "2022-01-22T08:12:36.053Z"
   },
   {
    "duration": 30,
    "start_time": "2022-01-22T08:12:36.097Z"
   },
   {
    "duration": 11,
    "start_time": "2022-01-22T08:12:36.129Z"
   },
   {
    "duration": 15,
    "start_time": "2022-01-22T08:12:36.142Z"
   },
   {
    "duration": 4,
    "start_time": "2022-01-22T08:12:36.159Z"
   },
   {
    "duration": 11,
    "start_time": "2022-01-22T08:12:36.166Z"
   },
   {
    "duration": 63,
    "start_time": "2022-01-22T08:12:36.180Z"
   },
   {
    "duration": 5,
    "start_time": "2022-01-22T08:12:36.245Z"
   },
   {
    "duration": 11,
    "start_time": "2022-01-22T08:12:36.252Z"
   },
   {
    "duration": 20,
    "start_time": "2022-01-22T08:12:36.265Z"
   },
   {
    "duration": 41,
    "start_time": "2022-01-22T08:12:36.287Z"
   },
   {
    "duration": 40,
    "start_time": "2022-01-22T08:12:36.330Z"
   },
   {
    "duration": 14,
    "start_time": "2022-01-22T08:12:36.372Z"
   },
   {
    "duration": 53,
    "start_time": "2022-01-22T08:12:36.388Z"
   },
   {
    "duration": 31,
    "start_time": "2022-01-22T08:12:36.443Z"
   },
   {
    "duration": 15,
    "start_time": "2022-01-22T08:12:36.476Z"
   },
   {
    "duration": 2106,
    "start_time": "2022-01-22T08:12:36.493Z"
   },
   {
    "duration": 31,
    "start_time": "2022-01-22T08:12:38.601Z"
   },
   {
    "duration": 7,
    "start_time": "2022-01-22T08:12:38.634Z"
   },
   {
    "duration": 7663,
    "start_time": "2022-01-22T08:12:38.643Z"
   },
   {
    "duration": 32,
    "start_time": "2022-01-22T08:12:46.326Z"
   },
   {
    "duration": 18,
    "start_time": "2022-01-22T08:12:46.361Z"
   },
   {
    "duration": 54,
    "start_time": "2022-01-22T08:12:46.380Z"
   },
   {
    "duration": 4,
    "start_time": "2022-01-22T08:12:46.436Z"
   },
   {
    "duration": 839,
    "start_time": "2022-01-22T08:12:46.443Z"
   },
   {
    "duration": 41,
    "start_time": "2022-01-22T08:12:47.284Z"
   },
   {
    "duration": 7,
    "start_time": "2022-01-22T08:12:47.327Z"
   },
   {
    "duration": 32,
    "start_time": "2022-01-22T08:12:47.336Z"
   },
   {
    "duration": 429,
    "start_time": "2022-01-22T08:12:47.370Z"
   },
   {
    "duration": 6,
    "start_time": "2022-01-22T08:12:47.801Z"
   },
   {
    "duration": 300,
    "start_time": "2022-01-22T08:12:47.823Z"
   },
   {
    "duration": 5,
    "start_time": "2022-01-22T08:12:48.125Z"
   },
   {
    "duration": 314,
    "start_time": "2022-01-22T08:12:48.132Z"
   },
   {
    "duration": 292,
    "start_time": "2022-01-22T08:12:48.448Z"
   },
   {
    "duration": 16,
    "start_time": "2022-01-22T08:12:48.743Z"
   },
   {
    "duration": 292,
    "start_time": "2022-01-22T08:12:48.762Z"
   },
   {
    "duration": 9,
    "start_time": "2022-01-22T08:12:49.057Z"
   },
   {
    "duration": 13,
    "start_time": "2022-01-22T08:12:49.069Z"
   },
   {
    "duration": 268,
    "start_time": "2022-01-22T08:12:49.084Z"
   },
   {
    "duration": 10,
    "start_time": "2022-01-22T08:12:49.355Z"
   },
   {
    "duration": 12,
    "start_time": "2022-01-22T08:12:49.367Z"
   },
   {
    "duration": 289,
    "start_time": "2022-01-22T08:12:49.381Z"
   },
   {
    "duration": 279,
    "start_time": "2022-01-22T08:12:49.672Z"
   },
   {
    "duration": 323,
    "start_time": "2022-01-22T08:12:49.953Z"
   },
   {
    "duration": 302,
    "start_time": "2022-01-22T08:12:50.278Z"
   },
   {
    "duration": 7,
    "start_time": "2022-01-22T08:12:50.583Z"
   },
   {
    "duration": 31,
    "start_time": "2022-01-22T08:12:50.592Z"
   },
   {
    "duration": 5,
    "start_time": "2022-01-22T08:12:50.625Z"
   },
   {
    "duration": 6,
    "start_time": "2022-01-22T08:12:50.633Z"
   },
   {
    "duration": 7,
    "start_time": "2022-01-22T08:12:50.641Z"
   },
   {
    "duration": 30,
    "start_time": "2022-01-22T08:12:50.650Z"
   },
   {
    "duration": 44,
    "start_time": "2022-01-22T08:12:50.683Z"
   },
   {
    "duration": 96,
    "start_time": "2022-01-22T08:12:50.729Z"
   },
   {
    "duration": 10,
    "start_time": "2022-01-22T08:12:50.828Z"
   },
   {
    "duration": 12,
    "start_time": "2022-01-22T08:12:50.840Z"
   },
   {
    "duration": 9,
    "start_time": "2022-01-22T08:12:50.854Z"
   },
   {
    "duration": 11,
    "start_time": "2022-01-22T08:12:50.865Z"
   },
   {
    "duration": 8148,
    "start_time": "2022-01-22T08:12:50.878Z"
   },
   {
    "duration": 309,
    "start_time": "2022-01-22T08:17:08.175Z"
   },
   {
    "duration": 10,
    "start_time": "2022-01-22T08:17:34.342Z"
   },
   {
    "duration": 311,
    "start_time": "2022-01-22T08:17:40.796Z"
   },
   {
    "duration": 342,
    "start_time": "2022-01-22T08:17:52.001Z"
   },
   {
    "duration": 314,
    "start_time": "2022-01-22T08:18:11.246Z"
   },
   {
    "duration": 11,
    "start_time": "2022-01-22T08:18:23.596Z"
   },
   {
    "duration": 5,
    "start_time": "2022-01-22T08:18:34.282Z"
   },
   {
    "duration": 5,
    "start_time": "2022-01-22T08:18:47.719Z"
   },
   {
    "duration": 11,
    "start_time": "2022-01-22T08:36:39.717Z"
   },
   {
    "duration": 314,
    "start_time": "2022-01-22T08:37:22.216Z"
   },
   {
    "duration": 10,
    "start_time": "2022-01-22T08:37:45.134Z"
   },
   {
    "duration": 11,
    "start_time": "2022-01-22T08:38:01.287Z"
   },
   {
    "duration": 11,
    "start_time": "2022-01-22T08:38:10.929Z"
   },
   {
    "duration": 10,
    "start_time": "2022-01-22T08:38:17.343Z"
   },
   {
    "duration": 7,
    "start_time": "2022-01-22T08:40:15.456Z"
   },
   {
    "duration": 10,
    "start_time": "2022-01-22T08:40:23.095Z"
   },
   {
    "duration": 8557,
    "start_time": "2022-01-22T08:40:42.482Z"
   },
   {
    "duration": 9,
    "start_time": "2022-01-22T08:41:12.197Z"
   },
   {
    "duration": 9,
    "start_time": "2022-01-22T08:41:19.262Z"
   },
   {
    "duration": 328,
    "start_time": "2022-01-22T08:44:46.862Z"
   },
   {
    "duration": 350,
    "start_time": "2022-01-22T08:45:21.167Z"
   },
   {
    "duration": 16,
    "start_time": "2022-01-22T08:45:52.879Z"
   },
   {
    "duration": 313,
    "start_time": "2022-01-22T08:46:34.804Z"
   },
   {
    "duration": 14,
    "start_time": "2022-01-22T08:47:03.907Z"
   },
   {
    "duration": 360,
    "start_time": "2022-01-22T08:47:04.928Z"
   },
   {
    "duration": 6,
    "start_time": "2022-01-22T08:47:13.097Z"
   },
   {
    "duration": 316,
    "start_time": "2022-01-22T08:47:54.456Z"
   },
   {
    "duration": 17,
    "start_time": "2022-01-22T08:48:06.927Z"
   },
   {
    "duration": 7,
    "start_time": "2022-01-22T08:48:09.933Z"
   },
   {
    "duration": 9,
    "start_time": "2022-01-22T08:48:18.516Z"
   },
   {
    "duration": 548,
    "start_time": "2022-01-22T08:50:01.001Z"
   },
   {
    "duration": 5,
    "start_time": "2022-01-22T08:51:28.478Z"
   },
   {
    "duration": 9,
    "start_time": "2022-01-22T08:52:59.584Z"
   },
   {
    "duration": 23,
    "start_time": "2022-01-22T08:53:04.206Z"
   },
   {
    "duration": 6,
    "start_time": "2022-01-22T08:53:04.595Z"
   },
   {
    "duration": 9,
    "start_time": "2022-01-22T08:53:05.199Z"
   },
   {
    "duration": -474,
    "start_time": "2022-01-22T08:53:41.827Z"
   },
   {
    "duration": -477,
    "start_time": "2022-01-22T08:53:41.832Z"
   },
   {
    "duration": 8680,
    "start_time": "2022-01-22T08:53:46.652Z"
   },
   {
    "duration": 23,
    "start_time": "2022-01-22T08:54:15.549Z"
   },
   {
    "duration": 24,
    "start_time": "2022-01-22T08:54:20.049Z"
   },
   {
    "duration": 6,
    "start_time": "2022-01-22T08:54:21.007Z"
   },
   {
    "duration": 10,
    "start_time": "2022-01-22T08:54:22.851Z"
   },
   {
    "duration": 4,
    "start_time": "2022-01-22T08:54:54.867Z"
   },
   {
    "duration": 349,
    "start_time": "2022-01-22T08:55:03.331Z"
   },
   {
    "duration": 338,
    "start_time": "2022-01-22T08:55:07.587Z"
   },
   {
    "duration": 11,
    "start_time": "2022-01-22T08:55:23.457Z"
   },
   {
    "duration": 416,
    "start_time": "2022-01-22T09:00:35.243Z"
   },
   {
    "duration": 399,
    "start_time": "2022-01-22T09:00:42.241Z"
   },
   {
    "duration": 8,
    "start_time": "2022-01-22T09:00:51.393Z"
   },
   {
    "duration": 325,
    "start_time": "2022-01-22T09:01:00.190Z"
   },
   {
    "duration": 320,
    "start_time": "2022-01-22T09:01:04.251Z"
   },
   {
    "duration": 8,
    "start_time": "2022-01-22T09:01:13.223Z"
   },
   {
    "duration": 317,
    "start_time": "2022-01-22T09:01:13.783Z"
   },
   {
    "duration": 809,
    "start_time": "2022-01-22T09:01:25.810Z"
   },
   {
    "duration": 8,
    "start_time": "2022-01-22T09:01:34.785Z"
   },
   {
    "duration": 31,
    "start_time": "2022-01-22T09:01:42.066Z"
   },
   {
    "duration": 24,
    "start_time": "2022-01-22T09:07:21.876Z"
   },
   {
    "duration": 6,
    "start_time": "2022-01-22T09:07:22.559Z"
   },
   {
    "duration": 11,
    "start_time": "2022-01-22T09:07:23.243Z"
   },
   {
    "duration": 8195,
    "start_time": "2022-01-22T09:10:19.809Z"
   },
   {
    "duration": 6,
    "start_time": "2022-01-22T09:10:46.605Z"
   },
   {
    "duration": 322,
    "start_time": "2022-01-22T09:11:07.984Z"
   },
   {
    "duration": 334,
    "start_time": "2022-01-22T09:11:31.076Z"
   },
   {
    "duration": 5,
    "start_time": "2022-01-22T09:11:41.732Z"
   },
   {
    "duration": 6031,
    "start_time": "2022-01-22T09:17:13.764Z"
   },
   {
    "duration": 6149,
    "start_time": "2022-01-22T09:39:10.224Z"
   },
   {
    "duration": 5,
    "start_time": "2022-01-22T09:41:44.772Z"
   },
   {
    "duration": 5,
    "start_time": "2022-01-22T09:41:58.757Z"
   },
   {
    "duration": 4,
    "start_time": "2022-01-22T09:42:16.277Z"
   },
   {
    "duration": 8,
    "start_time": "2022-01-22T09:42:23.987Z"
   },
   {
    "duration": 5,
    "start_time": "2022-01-22T09:42:24.594Z"
   },
   {
    "duration": 683,
    "start_time": "2022-01-22T09:42:39.072Z"
   },
   {
    "duration": 94,
    "start_time": "2022-01-22T09:42:39.758Z"
   },
   {
    "duration": 46,
    "start_time": "2022-01-22T09:42:39.856Z"
   },
   {
    "duration": 36,
    "start_time": "2022-01-22T09:42:39.904Z"
   },
   {
    "duration": 17,
    "start_time": "2022-01-22T09:42:39.943Z"
   },
   {
    "duration": 16,
    "start_time": "2022-01-22T09:42:39.962Z"
   },
   {
    "duration": 4,
    "start_time": "2022-01-22T09:42:39.980Z"
   },
   {
    "duration": 43,
    "start_time": "2022-01-22T09:42:39.987Z"
   },
   {
    "duration": 31,
    "start_time": "2022-01-22T09:42:40.034Z"
   },
   {
    "duration": 5,
    "start_time": "2022-01-22T09:42:40.068Z"
   },
   {
    "duration": 15,
    "start_time": "2022-01-22T09:42:40.075Z"
   },
   {
    "duration": 48,
    "start_time": "2022-01-22T09:42:40.092Z"
   },
   {
    "duration": 14,
    "start_time": "2022-01-22T09:42:40.142Z"
   },
   {
    "duration": 67,
    "start_time": "2022-01-22T09:42:40.158Z"
   },
   {
    "duration": 15,
    "start_time": "2022-01-22T09:42:40.228Z"
   },
   {
    "duration": 28,
    "start_time": "2022-01-22T09:42:40.245Z"
   },
   {
    "duration": 63,
    "start_time": "2022-01-22T09:42:40.275Z"
   },
   {
    "duration": 19,
    "start_time": "2022-01-22T09:42:40.340Z"
   },
   {
    "duration": 2153,
    "start_time": "2022-01-22T09:42:40.361Z"
   },
   {
    "duration": 24,
    "start_time": "2022-01-22T09:42:42.517Z"
   },
   {
    "duration": 5,
    "start_time": "2022-01-22T09:42:42.543Z"
   },
   {
    "duration": 7917,
    "start_time": "2022-01-22T09:42:42.550Z"
   },
   {
    "duration": 33,
    "start_time": "2022-01-22T09:42:50.469Z"
   },
   {
    "duration": 20,
    "start_time": "2022-01-22T09:42:50.523Z"
   },
   {
    "duration": 31,
    "start_time": "2022-01-22T09:42:50.545Z"
   },
   {
    "duration": 4,
    "start_time": "2022-01-22T09:42:50.578Z"
   },
   {
    "duration": 897,
    "start_time": "2022-01-22T09:42:50.588Z"
   },
   {
    "duration": 39,
    "start_time": "2022-01-22T09:42:51.489Z"
   },
   {
    "duration": 6,
    "start_time": "2022-01-22T09:42:51.530Z"
   },
   {
    "duration": 39,
    "start_time": "2022-01-22T09:42:51.539Z"
   },
   {
    "duration": 449,
    "start_time": "2022-01-22T09:42:51.581Z"
   },
   {
    "duration": 7,
    "start_time": "2022-01-22T09:42:52.038Z"
   },
   {
    "duration": 310,
    "start_time": "2022-01-22T09:42:52.047Z"
   },
   {
    "duration": 6,
    "start_time": "2022-01-22T09:42:52.359Z"
   },
   {
    "duration": 316,
    "start_time": "2022-01-22T09:42:52.367Z"
   },
   {
    "duration": 292,
    "start_time": "2022-01-22T09:42:52.686Z"
   },
   {
    "duration": 14,
    "start_time": "2022-01-22T09:42:52.981Z"
   },
   {
    "duration": 288,
    "start_time": "2022-01-22T09:42:52.998Z"
   },
   {
    "duration": 8,
    "start_time": "2022-01-22T09:42:53.289Z"
   },
   {
    "duration": 27,
    "start_time": "2022-01-22T09:42:53.299Z"
   },
   {
    "duration": 243,
    "start_time": "2022-01-22T09:42:53.328Z"
   },
   {
    "duration": 10,
    "start_time": "2022-01-22T09:42:53.574Z"
   },
   {
    "duration": 8,
    "start_time": "2022-01-22T09:42:53.586Z"
   },
   {
    "duration": 288,
    "start_time": "2022-01-22T09:42:53.596Z"
   },
   {
    "duration": 292,
    "start_time": "2022-01-22T09:42:53.886Z"
   },
   {
    "duration": 315,
    "start_time": "2022-01-22T09:42:54.180Z"
   },
   {
    "duration": 326,
    "start_time": "2022-01-22T09:42:54.497Z"
   },
   {
    "duration": 7,
    "start_time": "2022-01-22T09:42:54.825Z"
   },
   {
    "duration": 12,
    "start_time": "2022-01-22T09:42:54.835Z"
   },
   {
    "duration": 16,
    "start_time": "2022-01-22T09:42:54.849Z"
   },
   {
    "duration": 20,
    "start_time": "2022-01-22T09:42:54.867Z"
   },
   {
    "duration": 8,
    "start_time": "2022-01-22T09:42:54.889Z"
   },
   {
    "duration": 53,
    "start_time": "2022-01-22T09:42:54.899Z"
   },
   {
    "duration": 6,
    "start_time": "2022-01-22T09:42:54.955Z"
   },
   {
    "duration": 116,
    "start_time": "2022-01-22T09:42:54.964Z"
   },
   {
    "duration": 10,
    "start_time": "2022-01-22T09:42:55.082Z"
   },
   {
    "duration": 35,
    "start_time": "2022-01-22T09:42:55.095Z"
   },
   {
    "duration": 8,
    "start_time": "2022-01-22T09:42:55.133Z"
   },
   {
    "duration": 11,
    "start_time": "2022-01-22T09:42:55.143Z"
   },
   {
    "duration": 5,
    "start_time": "2022-01-22T09:42:55.157Z"
   },
   {
    "duration": 8,
    "start_time": "2022-01-22T09:42:55.165Z"
   },
   {
    "duration": 54,
    "start_time": "2022-01-22T09:42:55.176Z"
   },
   {
    "duration": 24,
    "start_time": "2022-01-22T09:42:55.233Z"
   },
   {
    "duration": 7,
    "start_time": "2022-01-22T09:42:55.260Z"
   },
   {
    "duration": 11,
    "start_time": "2022-01-22T09:42:55.270Z"
   },
   {
    "duration": 48,
    "start_time": "2022-01-22T09:42:55.284Z"
   },
   {
    "duration": 6,
    "start_time": "2022-01-22T09:42:55.334Z"
   },
   {
    "duration": 407,
    "start_time": "2022-01-22T09:43:55.639Z"
   },
   {
    "duration": 46,
    "start_time": "2022-01-22T09:44:00.156Z"
   },
   {
    "duration": 6,
    "start_time": "2022-01-22T09:44:47.598Z"
   },
   {
    "duration": 32,
    "start_time": "2022-01-22T09:44:58.785Z"
   },
   {
    "duration": 33,
    "start_time": "2022-01-22T09:45:12.940Z"
   },
   {
    "duration": 36,
    "start_time": "2022-01-22T09:45:48.394Z"
   },
   {
    "duration": 34,
    "start_time": "2022-01-22T09:47:01.950Z"
   },
   {
    "duration": 33,
    "start_time": "2022-01-22T09:48:08.102Z"
   },
   {
    "duration": 36,
    "start_time": "2022-01-22T09:48:33.242Z"
   },
   {
    "duration": 5,
    "start_time": "2022-01-22T09:49:01.088Z"
   },
   {
    "duration": 17,
    "start_time": "2022-01-22T09:50:53.104Z"
   },
   {
    "duration": 11,
    "start_time": "2022-01-22T09:51:19.506Z"
   },
   {
    "duration": 7986,
    "start_time": "2022-01-22T09:53:01.927Z"
   },
   {
    "duration": 276,
    "start_time": "2022-01-22T09:53:22.700Z"
   },
   {
    "duration": 261,
    "start_time": "2022-01-22T09:54:22.467Z"
   },
   {
    "duration": 629,
    "start_time": "2022-01-22T09:54:56.611Z"
   },
   {
    "duration": 274,
    "start_time": "2022-01-22T09:55:37.038Z"
   },
   {
    "duration": 556,
    "start_time": "2022-01-22T09:57:01.605Z"
   },
   {
    "duration": 559,
    "start_time": "2022-01-22T09:57:48.499Z"
   },
   {
    "duration": 266,
    "start_time": "2022-01-22T09:58:06.398Z"
   },
   {
    "duration": 10,
    "start_time": "2022-01-22T09:58:33.354Z"
   },
   {
    "duration": 350,
    "start_time": "2022-01-22T09:59:07.353Z"
   },
   {
    "duration": 11,
    "start_time": "2022-01-22T09:59:30.789Z"
   },
   {
    "duration": 298,
    "start_time": "2022-01-22T10:00:12.365Z"
   },
   {
    "duration": 263,
    "start_time": "2022-01-22T10:00:20.441Z"
   },
   {
    "duration": 11,
    "start_time": "2022-01-22T10:27:39.308Z"
   },
   {
    "duration": -764,
    "start_time": "2022-01-22T10:28:01.253Z"
   },
   {
    "duration": 8450,
    "start_time": "2022-01-22T10:28:07.646Z"
   },
   {
    "duration": 12,
    "start_time": "2022-01-22T10:28:20.514Z"
   },
   {
    "duration": 15,
    "start_time": "2022-01-22T10:28:25.239Z"
   },
   {
    "duration": 270,
    "start_time": "2022-01-22T10:28:30.440Z"
   },
   {
    "duration": 293,
    "start_time": "2022-01-22T10:28:38.271Z"
   },
   {
    "duration": 1087,
    "start_time": "2022-01-22T10:29:02.669Z"
   },
   {
    "duration": 343,
    "start_time": "2022-01-22T10:29:11.426Z"
   },
   {
    "duration": 256,
    "start_time": "2022-01-22T10:29:18.454Z"
   },
   {
    "duration": 283,
    "start_time": "2022-01-22T10:29:24.875Z"
   },
   {
    "duration": 351,
    "start_time": "2022-01-22T10:47:51.767Z"
   },
   {
    "duration": 15,
    "start_time": "2022-01-22T10:48:45.235Z"
   },
   {
    "duration": 269,
    "start_time": "2022-01-22T10:48:45.768Z"
   },
   {
    "duration": 392,
    "start_time": "2022-01-22T10:48:49.930Z"
   },
   {
    "duration": 405,
    "start_time": "2022-01-22T10:55:13.831Z"
   },
   {
    "duration": 35,
    "start_time": "2022-01-22T10:57:10.417Z"
   },
   {
    "duration": 71,
    "start_time": "2022-01-22T10:57:45.568Z"
   },
   {
    "duration": 8,
    "start_time": "2022-01-22T10:59:05.091Z"
   },
   {
    "duration": 115,
    "start_time": "2022-01-22T11:09:59.336Z"
   },
   {
    "duration": 28,
    "start_time": "2022-01-22T11:10:10.331Z"
   },
   {
    "duration": 340,
    "start_time": "2022-01-22T11:10:32.754Z"
   },
   {
    "duration": 329,
    "start_time": "2022-01-22T11:10:38.255Z"
   },
   {
    "duration": 29,
    "start_time": "2022-01-22T11:10:44.391Z"
   },
   {
    "duration": 748,
    "start_time": "2022-01-22T15:36:38.856Z"
   },
   {
    "duration": 85,
    "start_time": "2022-01-22T15:36:39.607Z"
   },
   {
    "duration": 64,
    "start_time": "2022-01-22T15:36:39.694Z"
   },
   {
    "duration": 14,
    "start_time": "2022-01-22T15:36:39.761Z"
   },
   {
    "duration": 11,
    "start_time": "2022-01-22T15:36:39.777Z"
   },
   {
    "duration": 52,
    "start_time": "2022-01-22T15:36:39.791Z"
   },
   {
    "duration": 7,
    "start_time": "2022-01-22T15:36:39.845Z"
   },
   {
    "duration": 12,
    "start_time": "2022-01-22T15:36:39.856Z"
   },
   {
    "duration": 59,
    "start_time": "2022-01-22T15:36:39.870Z"
   },
   {
    "duration": 9,
    "start_time": "2022-01-22T15:36:39.934Z"
   },
   {
    "duration": 15,
    "start_time": "2022-01-22T15:36:39.945Z"
   },
   {
    "duration": 26,
    "start_time": "2022-01-22T15:36:39.962Z"
   },
   {
    "duration": 42,
    "start_time": "2022-01-22T15:36:39.991Z"
   },
   {
    "duration": 45,
    "start_time": "2022-01-22T15:36:40.036Z"
   },
   {
    "duration": 10,
    "start_time": "2022-01-22T15:36:40.084Z"
   },
   {
    "duration": 39,
    "start_time": "2022-01-22T15:36:40.123Z"
   },
   {
    "duration": 64,
    "start_time": "2022-01-22T15:36:40.165Z"
   },
   {
    "duration": 21,
    "start_time": "2022-01-22T15:36:40.231Z"
   },
   {
    "duration": 2125,
    "start_time": "2022-01-22T15:36:40.254Z"
   },
   {
    "duration": 24,
    "start_time": "2022-01-22T15:36:42.381Z"
   },
   {
    "duration": 24,
    "start_time": "2022-01-22T15:36:42.407Z"
   },
   {
    "duration": 9455,
    "start_time": "2022-01-22T15:36:42.434Z"
   },
   {
    "duration": 60,
    "start_time": "2022-01-22T15:36:51.895Z"
   },
   {
    "duration": 23,
    "start_time": "2022-01-22T15:36:51.959Z"
   },
   {
    "duration": 51,
    "start_time": "2022-01-22T15:36:51.984Z"
   },
   {
    "duration": 4,
    "start_time": "2022-01-22T15:36:52.038Z"
   },
   {
    "duration": 1184,
    "start_time": "2022-01-22T15:36:52.045Z"
   },
   {
    "duration": 35,
    "start_time": "2022-01-22T15:36:53.231Z"
   },
   {
    "duration": 6,
    "start_time": "2022-01-22T15:36:53.269Z"
   },
   {
    "duration": 69,
    "start_time": "2022-01-22T15:36:53.278Z"
   },
   {
    "duration": 474,
    "start_time": "2022-01-22T15:36:53.349Z"
   },
   {
    "duration": 6,
    "start_time": "2022-01-22T15:36:53.826Z"
   },
   {
    "duration": 330,
    "start_time": "2022-01-22T15:36:53.835Z"
   },
   {
    "duration": 5,
    "start_time": "2022-01-22T15:36:54.167Z"
   },
   {
    "duration": 323,
    "start_time": "2022-01-22T15:36:54.174Z"
   },
   {
    "duration": 328,
    "start_time": "2022-01-22T15:36:54.500Z"
   },
   {
    "duration": 19,
    "start_time": "2022-01-22T15:36:54.830Z"
   },
   {
    "duration": 422,
    "start_time": "2022-01-22T15:36:54.852Z"
   },
   {
    "duration": 8,
    "start_time": "2022-01-22T15:36:55.277Z"
   },
   {
    "duration": 12,
    "start_time": "2022-01-22T15:36:55.287Z"
   },
   {
    "duration": 292,
    "start_time": "2022-01-22T15:36:55.301Z"
   },
   {
    "duration": 10,
    "start_time": "2022-01-22T15:36:55.595Z"
   },
   {
    "duration": 17,
    "start_time": "2022-01-22T15:36:55.607Z"
   },
   {
    "duration": 321,
    "start_time": "2022-01-22T15:36:55.627Z"
   },
   {
    "duration": 334,
    "start_time": "2022-01-22T15:36:55.950Z"
   },
   {
    "duration": 380,
    "start_time": "2022-01-22T15:36:56.287Z"
   },
   {
    "duration": 363,
    "start_time": "2022-01-22T15:36:56.670Z"
   },
   {
    "duration": 11,
    "start_time": "2022-01-22T15:36:57.035Z"
   },
   {
    "duration": 18,
    "start_time": "2022-01-22T15:36:57.049Z"
   },
   {
    "duration": 7,
    "start_time": "2022-01-22T15:36:57.070Z"
   },
   {
    "duration": 10,
    "start_time": "2022-01-22T15:36:57.079Z"
   },
   {
    "duration": 38,
    "start_time": "2022-01-22T15:36:57.091Z"
   },
   {
    "duration": 50,
    "start_time": "2022-01-22T15:36:57.132Z"
   },
   {
    "duration": 6,
    "start_time": "2022-01-22T15:36:57.185Z"
   },
   {
    "duration": 115,
    "start_time": "2022-01-22T15:36:57.194Z"
   },
   {
    "duration": 15,
    "start_time": "2022-01-22T15:36:57.311Z"
   },
   {
    "duration": 28,
    "start_time": "2022-01-22T15:36:57.329Z"
   },
   {
    "duration": 10,
    "start_time": "2022-01-22T15:36:57.359Z"
   },
   {
    "duration": 19,
    "start_time": "2022-01-22T15:36:57.372Z"
   },
   {
    "duration": 30,
    "start_time": "2022-01-22T15:36:57.394Z"
   },
   {
    "duration": 22,
    "start_time": "2022-01-22T15:36:57.428Z"
   },
   {
    "duration": 16,
    "start_time": "2022-01-22T15:36:57.452Z"
   },
   {
    "duration": 26,
    "start_time": "2022-01-22T15:36:57.470Z"
   },
   {
    "duration": 7,
    "start_time": "2022-01-22T15:36:57.498Z"
   },
   {
    "duration": 18,
    "start_time": "2022-01-22T15:36:57.522Z"
   },
   {
    "duration": 17,
    "start_time": "2022-01-22T15:36:57.546Z"
   },
   {
    "duration": 20,
    "start_time": "2022-01-22T15:36:57.566Z"
   },
   {
    "duration": 449,
    "start_time": "2022-01-22T15:36:57.597Z"
   },
   {
    "duration": 85,
    "start_time": "2022-01-22T15:36:58.049Z"
   },
   {
    "duration": 10,
    "start_time": "2022-01-22T15:36:58.137Z"
   },
   {
    "duration": 73,
    "start_time": "2022-01-22T15:36:58.152Z"
   },
   {
    "duration": 6,
    "start_time": "2022-01-22T15:44:54.686Z"
   },
   {
    "duration": 9359,
    "start_time": "2022-01-22T15:51:28.301Z"
   },
   {
    "duration": 9,
    "start_time": "2022-01-22T15:51:38.405Z"
   },
   {
    "duration": 569,
    "start_time": "2022-01-22T15:54:33.249Z"
   },
   {
    "duration": 583,
    "start_time": "2022-01-22T15:55:22.240Z"
   },
   {
    "duration": 405,
    "start_time": "2022-01-22T15:55:33.263Z"
   },
   {
    "duration": 435,
    "start_time": "2022-01-22T15:55:58.917Z"
   },
   {
    "duration": 530,
    "start_time": "2022-01-22T15:56:45.658Z"
   },
   {
    "duration": 618,
    "start_time": "2022-01-22T15:57:58.308Z"
   },
   {
    "duration": 450,
    "start_time": "2022-01-22T16:05:48.133Z"
   },
   {
    "duration": 24,
    "start_time": "2022-01-22T16:05:52.092Z"
   },
   {
    "duration": 15,
    "start_time": "2022-01-22T16:06:05.316Z"
   },
   {
    "duration": 25,
    "start_time": "2022-01-22T16:06:50.980Z"
   },
   {
    "duration": 6,
    "start_time": "2022-01-22T16:06:51.646Z"
   },
   {
    "duration": 11,
    "start_time": "2022-01-22T16:06:53.594Z"
   },
   {
    "duration": 35,
    "start_time": "2022-01-22T16:07:56.582Z"
   },
   {
    "duration": 9122,
    "start_time": "2022-01-22T16:07:57.582Z"
   },
   {
    "duration": 293,
    "start_time": "2022-01-22T16:08:24.814Z"
   },
   {
    "duration": 646,
    "start_time": "2022-01-22T16:08:55.781Z"
   },
   {
    "duration": 102,
    "start_time": "2022-01-22T16:09:29.667Z"
   },
   {
    "duration": 552,
    "start_time": "2022-01-22T16:09:34.500Z"
   },
   {
    "duration": 424,
    "start_time": "2022-01-22T16:09:39.523Z"
   },
   {
    "duration": 28,
    "start_time": "2022-01-22T16:13:25.290Z"
   },
   {
    "duration": 9,
    "start_time": "2022-01-22T16:14:02.267Z"
   },
   {
    "duration": 7,
    "start_time": "2022-01-22T16:15:48.375Z"
   },
   {
    "duration": 10,
    "start_time": "2022-01-22T16:37:23.999Z"
   },
   {
    "duration": 9,
    "start_time": "2022-01-22T16:46:49.118Z"
   },
   {
    "duration": 8222,
    "start_time": "2022-01-22T16:48:39.042Z"
   },
   {
    "duration": 8,
    "start_time": "2022-01-22T16:48:52.046Z"
   },
   {
    "duration": 8,
    "start_time": "2022-01-22T16:49:47.116Z"
   },
   {
    "duration": 8,
    "start_time": "2022-01-22T16:49:49.163Z"
   },
   {
    "duration": 717,
    "start_time": "2022-01-22T16:50:04.355Z"
   },
   {
    "duration": 326,
    "start_time": "2022-01-22T16:50:05.074Z"
   },
   {
    "duration": 46,
    "start_time": "2022-01-22T16:50:05.403Z"
   },
   {
    "duration": 15,
    "start_time": "2022-01-22T16:50:05.452Z"
   },
   {
    "duration": 13,
    "start_time": "2022-01-22T16:50:05.469Z"
   },
   {
    "duration": 40,
    "start_time": "2022-01-22T16:50:05.485Z"
   },
   {
    "duration": 4,
    "start_time": "2022-01-22T16:50:05.527Z"
   },
   {
    "duration": 14,
    "start_time": "2022-01-22T16:50:05.535Z"
   },
   {
    "duration": 33,
    "start_time": "2022-01-22T16:50:05.552Z"
   },
   {
    "duration": 37,
    "start_time": "2022-01-22T16:50:05.588Z"
   },
   {
    "duration": 16,
    "start_time": "2022-01-22T16:50:05.627Z"
   },
   {
    "duration": 24,
    "start_time": "2022-01-22T16:50:05.645Z"
   },
   {
    "duration": 15,
    "start_time": "2022-01-22T16:50:05.671Z"
   },
   {
    "duration": 77,
    "start_time": "2022-01-22T16:50:05.688Z"
   },
   {
    "duration": 15,
    "start_time": "2022-01-22T16:50:05.768Z"
   },
   {
    "duration": 52,
    "start_time": "2022-01-22T16:50:05.785Z"
   },
   {
    "duration": 38,
    "start_time": "2022-01-22T16:50:05.840Z"
   },
   {
    "duration": 18,
    "start_time": "2022-01-22T16:50:05.880Z"
   },
   {
    "duration": 2120,
    "start_time": "2022-01-22T16:50:05.924Z"
   },
   {
    "duration": 26,
    "start_time": "2022-01-22T16:50:08.046Z"
   },
   {
    "duration": 6,
    "start_time": "2022-01-22T16:50:08.075Z"
   },
   {
    "duration": 8902,
    "start_time": "2022-01-22T16:50:08.083Z"
   },
   {
    "duration": 51,
    "start_time": "2022-01-22T16:50:16.992Z"
   },
   {
    "duration": 19,
    "start_time": "2022-01-22T16:50:17.047Z"
   },
   {
    "duration": 32,
    "start_time": "2022-01-22T16:50:17.068Z"
   },
   {
    "duration": 4,
    "start_time": "2022-01-22T16:50:17.123Z"
   },
   {
    "duration": 901,
    "start_time": "2022-01-22T16:50:17.129Z"
   },
   {
    "duration": 32,
    "start_time": "2022-01-22T16:50:18.032Z"
   },
   {
    "duration": 6,
    "start_time": "2022-01-22T16:50:18.067Z"
   },
   {
    "duration": 69,
    "start_time": "2022-01-22T16:50:18.075Z"
   },
   {
    "duration": 479,
    "start_time": "2022-01-22T16:50:18.146Z"
   },
   {
    "duration": 7,
    "start_time": "2022-01-22T16:50:18.628Z"
   },
   {
    "duration": 350,
    "start_time": "2022-01-22T16:50:18.637Z"
   },
   {
    "duration": 6,
    "start_time": "2022-01-22T16:50:18.990Z"
   },
   {
    "duration": 357,
    "start_time": "2022-01-22T16:50:18.999Z"
   },
   {
    "duration": 317,
    "start_time": "2022-01-22T16:50:19.359Z"
   },
   {
    "duration": 16,
    "start_time": "2022-01-22T16:50:19.678Z"
   },
   {
    "duration": 308,
    "start_time": "2022-01-22T16:50:19.696Z"
   },
   {
    "duration": 19,
    "start_time": "2022-01-22T16:50:20.007Z"
   },
   {
    "duration": 15,
    "start_time": "2022-01-22T16:50:20.029Z"
   },
   {
    "duration": 292,
    "start_time": "2022-01-22T16:50:20.046Z"
   },
   {
    "duration": 11,
    "start_time": "2022-01-22T16:50:20.340Z"
   },
   {
    "duration": 11,
    "start_time": "2022-01-22T16:50:20.353Z"
   },
   {
    "duration": 310,
    "start_time": "2022-01-22T16:50:20.366Z"
   },
   {
    "duration": 293,
    "start_time": "2022-01-22T16:50:20.679Z"
   },
   {
    "duration": 344,
    "start_time": "2022-01-22T16:50:20.975Z"
   },
   {
    "duration": 337,
    "start_time": "2022-01-22T16:50:21.324Z"
   },
   {
    "duration": 6,
    "start_time": "2022-01-22T16:50:21.664Z"
   },
   {
    "duration": 13,
    "start_time": "2022-01-22T16:50:21.673Z"
   },
   {
    "duration": 9,
    "start_time": "2022-01-22T16:50:21.688Z"
   },
   {
    "duration": 6,
    "start_time": "2022-01-22T16:50:21.724Z"
   },
   {
    "duration": 6,
    "start_time": "2022-01-22T16:50:21.733Z"
   },
   {
    "duration": 29,
    "start_time": "2022-01-22T16:50:21.741Z"
   },
   {
    "duration": 51,
    "start_time": "2022-01-22T16:50:21.773Z"
   },
   {
    "duration": 6,
    "start_time": "2022-01-22T16:50:21.827Z"
   },
   {
    "duration": 103,
    "start_time": "2022-01-22T16:50:21.835Z"
   },
   {
    "duration": 11,
    "start_time": "2022-01-22T16:50:21.940Z"
   },
   {
    "duration": 22,
    "start_time": "2022-01-22T16:50:21.953Z"
   },
   {
    "duration": 16,
    "start_time": "2022-01-22T16:50:21.980Z"
   },
   {
    "duration": 12,
    "start_time": "2022-01-22T16:50:22.023Z"
   },
   {
    "duration": 10,
    "start_time": "2022-01-22T16:50:22.038Z"
   },
   {
    "duration": 10,
    "start_time": "2022-01-22T16:50:22.050Z"
   },
   {
    "duration": 17,
    "start_time": "2022-01-22T16:50:22.063Z"
   },
   {
    "duration": 51,
    "start_time": "2022-01-22T16:50:22.082Z"
   },
   {
    "duration": 7,
    "start_time": "2022-01-22T16:50:22.136Z"
   },
   {
    "duration": 14,
    "start_time": "2022-01-22T16:50:22.145Z"
   },
   {
    "duration": 14,
    "start_time": "2022-01-22T16:50:22.161Z"
   },
   {
    "duration": 45,
    "start_time": "2022-01-22T16:50:22.183Z"
   },
   {
    "duration": 315,
    "start_time": "2022-01-22T16:50:22.232Z"
   },
   {
    "duration": 86,
    "start_time": "2022-01-22T16:50:22.550Z"
   },
   {
    "duration": 9,
    "start_time": "2022-01-22T16:50:22.638Z"
   },
   {
    "duration": 35,
    "start_time": "2022-01-22T16:50:22.649Z"
   },
   {
    "duration": 38,
    "start_time": "2022-01-22T16:50:22.687Z"
   },
   {
    "duration": 431,
    "start_time": "2022-01-22T16:50:22.728Z"
   },
   {
    "duration": 9,
    "start_time": "2022-01-22T16:50:23.162Z"
   },
   {
    "duration": 54,
    "start_time": "2022-01-22T16:50:23.174Z"
   },
   {
    "duration": 312,
    "start_time": "2022-01-22T16:50:23.231Z"
   },
   {
    "duration": 10,
    "start_time": "2022-01-22T16:50:23.545Z"
   },
   {
    "duration": 28,
    "start_time": "2022-01-22T16:50:23.557Z"
   },
   {
    "duration": 37,
    "start_time": "2022-01-22T16:50:23.587Z"
   },
   {
    "duration": 7,
    "start_time": "2022-01-22T16:50:23.626Z"
   },
   {
    "duration": 6,
    "start_time": "2022-01-22T16:50:23.635Z"
   },
   {
    "duration": 6,
    "start_time": "2022-01-22T16:50:23.644Z"
   },
   {
    "duration": 855,
    "start_time": "2022-01-28T11:12:48.864Z"
   },
   {
    "duration": 90,
    "start_time": "2022-01-28T11:12:49.721Z"
   },
   {
    "duration": 53,
    "start_time": "2022-01-28T11:12:49.815Z"
   },
   {
    "duration": 18,
    "start_time": "2022-01-28T11:12:49.871Z"
   },
   {
    "duration": 41,
    "start_time": "2022-01-28T11:12:49.892Z"
   },
   {
    "duration": 13,
    "start_time": "2022-01-28T11:12:49.936Z"
   },
   {
    "duration": 4,
    "start_time": "2022-01-28T11:12:49.952Z"
   },
   {
    "duration": 12,
    "start_time": "2022-01-28T11:12:49.959Z"
   },
   {
    "duration": 82,
    "start_time": "2022-01-28T11:12:49.977Z"
   },
   {
    "duration": 7,
    "start_time": "2022-01-28T11:12:50.063Z"
   },
   {
    "duration": 15,
    "start_time": "2022-01-28T11:12:50.073Z"
   },
   {
    "duration": 37,
    "start_time": "2022-01-28T11:12:50.123Z"
   },
   {
    "duration": 14,
    "start_time": "2022-01-28T11:12:50.162Z"
   },
   {
    "duration": 65,
    "start_time": "2022-01-28T11:12:50.179Z"
   },
   {
    "duration": 11,
    "start_time": "2022-01-28T11:12:50.247Z"
   },
   {
    "duration": 28,
    "start_time": "2022-01-28T11:12:50.261Z"
   },
   {
    "duration": 68,
    "start_time": "2022-01-28T11:12:50.291Z"
   },
   {
    "duration": 16,
    "start_time": "2022-01-28T11:12:50.362Z"
   },
   {
    "duration": 2397,
    "start_time": "2022-01-28T11:12:50.380Z"
   },
   {
    "duration": 26,
    "start_time": "2022-01-28T11:12:52.779Z"
   },
   {
    "duration": 21,
    "start_time": "2022-01-28T11:12:52.808Z"
   },
   {
    "duration": 10680,
    "start_time": "2022-01-28T11:12:52.831Z"
   },
   {
    "duration": 38,
    "start_time": "2022-01-28T11:13:03.522Z"
   },
   {
    "duration": 23,
    "start_time": "2022-01-28T11:13:03.562Z"
   },
   {
    "duration": 69,
    "start_time": "2022-01-28T11:13:03.587Z"
   },
   {
    "duration": 12,
    "start_time": "2022-01-28T11:13:03.659Z"
   },
   {
    "duration": 1535,
    "start_time": "2022-01-28T11:13:03.677Z"
   },
   {
    "duration": 107,
    "start_time": "2022-01-28T11:13:05.223Z"
   },
   {
    "duration": 41,
    "start_time": "2022-01-28T11:13:05.333Z"
   },
   {
    "duration": 187,
    "start_time": "2022-01-28T11:13:05.380Z"
   },
   {
    "duration": 518,
    "start_time": "2022-01-28T11:13:05.570Z"
   },
   {
    "duration": 9,
    "start_time": "2022-01-28T11:13:06.092Z"
   },
   {
    "duration": 505,
    "start_time": "2022-01-28T11:13:06.105Z"
   },
   {
    "duration": 13,
    "start_time": "2022-01-28T11:13:06.613Z"
   },
   {
    "duration": 505,
    "start_time": "2022-01-28T11:13:06.629Z"
   },
   {
    "duration": 420,
    "start_time": "2022-01-28T11:13:07.138Z"
   },
   {
    "duration": 17,
    "start_time": "2022-01-28T11:13:07.561Z"
   },
   {
    "duration": 327,
    "start_time": "2022-01-28T11:13:07.580Z"
   },
   {
    "duration": 15,
    "start_time": "2022-01-28T11:13:07.910Z"
   },
   {
    "duration": 16,
    "start_time": "2022-01-28T11:13:07.928Z"
   },
   {
    "duration": 305,
    "start_time": "2022-01-28T11:13:07.947Z"
   },
   {
    "duration": 13,
    "start_time": "2022-01-28T11:13:08.255Z"
   },
   {
    "duration": 12,
    "start_time": "2022-01-28T11:13:08.271Z"
   },
   {
    "duration": 343,
    "start_time": "2022-01-28T11:13:08.285Z"
   },
   {
    "duration": 318,
    "start_time": "2022-01-28T11:13:08.631Z"
   },
   {
    "duration": 507,
    "start_time": "2022-01-28T11:13:08.955Z"
   },
   {
    "duration": 505,
    "start_time": "2022-01-28T11:13:09.465Z"
   },
   {
    "duration": 10,
    "start_time": "2022-01-28T11:13:09.973Z"
   },
   {
    "duration": 39,
    "start_time": "2022-01-28T11:13:09.986Z"
   },
   {
    "duration": 10,
    "start_time": "2022-01-28T11:13:10.028Z"
   },
   {
    "duration": 8,
    "start_time": "2022-01-28T11:13:10.041Z"
   },
   {
    "duration": 23,
    "start_time": "2022-01-28T11:13:10.051Z"
   },
   {
    "duration": 69,
    "start_time": "2022-01-28T11:13:10.077Z"
   },
   {
    "duration": 8,
    "start_time": "2022-01-28T11:13:10.149Z"
   },
   {
    "duration": 16,
    "start_time": "2022-01-28T11:13:10.159Z"
   },
   {
    "duration": 163,
    "start_time": "2022-01-28T11:13:10.178Z"
   },
   {
    "duration": 15,
    "start_time": "2022-01-28T11:13:10.344Z"
   },
   {
    "duration": 19,
    "start_time": "2022-01-28T11:13:10.363Z"
   },
   {
    "duration": 41,
    "start_time": "2022-01-28T11:13:10.385Z"
   },
   {
    "duration": 17,
    "start_time": "2022-01-28T11:13:10.430Z"
   },
   {
    "duration": 16,
    "start_time": "2022-01-28T11:13:10.450Z"
   },
   {
    "duration": 10,
    "start_time": "2022-01-28T11:13:10.469Z"
   },
   {
    "duration": 17,
    "start_time": "2022-01-28T11:13:10.482Z"
   },
   {
    "duration": 29,
    "start_time": "2022-01-28T11:13:10.524Z"
   },
   {
    "duration": 7,
    "start_time": "2022-01-28T11:13:10.556Z"
   },
   {
    "duration": 20,
    "start_time": "2022-01-28T11:13:10.566Z"
   },
   {
    "duration": 39,
    "start_time": "2022-01-28T11:13:10.589Z"
   },
   {
    "duration": 15,
    "start_time": "2022-01-28T11:13:10.631Z"
   },
   {
    "duration": 382,
    "start_time": "2022-01-28T11:13:10.648Z"
   },
   {
    "duration": 100,
    "start_time": "2022-01-28T11:13:11.033Z"
   },
   {
    "duration": 10,
    "start_time": "2022-01-28T11:13:11.136Z"
   },
   {
    "duration": 40,
    "start_time": "2022-01-28T11:13:11.148Z"
   },
   {
    "duration": 36,
    "start_time": "2022-01-28T11:13:11.191Z"
   },
   {
    "duration": 482,
    "start_time": "2022-01-28T11:13:11.230Z"
   },
   {
    "duration": 14,
    "start_time": "2022-01-28T11:13:11.715Z"
   },
   {
    "duration": 33,
    "start_time": "2022-01-28T11:13:11.732Z"
   },
   {
    "duration": 330,
    "start_time": "2022-01-28T11:13:11.767Z"
   },
   {
    "duration": 27,
    "start_time": "2022-01-28T11:13:12.101Z"
   },
   {
    "duration": 33,
    "start_time": "2022-01-28T11:13:12.130Z"
   },
   {
    "duration": 9,
    "start_time": "2022-01-28T11:13:12.167Z"
   },
   {
    "duration": 41,
    "start_time": "2022-01-28T11:13:12.184Z"
   },
   {
    "duration": 9,
    "start_time": "2022-01-28T11:13:12.228Z"
   },
   {
    "duration": 14,
    "start_time": "2022-01-28T11:13:12.240Z"
   },
   {
    "duration": 16,
    "start_time": "2022-01-28T11:13:18.735Z"
   },
   {
    "duration": 12,
    "start_time": "2022-01-28T11:13:25.836Z"
   },
   {
    "duration": 1106,
    "start_time": "2022-01-28T11:13:36.762Z"
   },
   {
    "duration": 116,
    "start_time": "2022-01-28T11:13:37.872Z"
   },
   {
    "duration": 79,
    "start_time": "2022-01-28T11:13:37.992Z"
   },
   {
    "duration": 24,
    "start_time": "2022-01-28T11:13:38.075Z"
   },
   {
    "duration": 39,
    "start_time": "2022-01-28T11:13:38.101Z"
   },
   {
    "duration": 29,
    "start_time": "2022-01-28T11:13:38.143Z"
   },
   {
    "duration": 6,
    "start_time": "2022-01-28T11:13:38.176Z"
   },
   {
    "duration": 55,
    "start_time": "2022-01-28T11:13:38.185Z"
   },
   {
    "duration": 56,
    "start_time": "2022-01-28T11:13:38.246Z"
   },
   {
    "duration": 7,
    "start_time": "2022-01-28T11:13:38.326Z"
   },
   {
    "duration": 19,
    "start_time": "2022-01-28T11:13:38.335Z"
   },
   {
    "duration": 28,
    "start_time": "2022-01-28T11:13:38.357Z"
   },
   {
    "duration": 47,
    "start_time": "2022-01-28T11:13:38.387Z"
   },
   {
    "duration": 47,
    "start_time": "2022-01-28T11:13:38.436Z"
   },
   {
    "duration": 39,
    "start_time": "2022-01-28T11:13:38.486Z"
   },
   {
    "duration": 31,
    "start_time": "2022-01-28T11:13:38.528Z"
   },
   {
    "duration": 65,
    "start_time": "2022-01-28T11:13:38.563Z"
   },
   {
    "duration": 23,
    "start_time": "2022-01-28T11:13:38.631Z"
   },
   {
    "duration": 2785,
    "start_time": "2022-01-28T11:13:38.657Z"
   },
   {
    "duration": 35,
    "start_time": "2022-01-28T11:13:41.446Z"
   },
   {
    "duration": 5,
    "start_time": "2022-01-28T11:13:41.484Z"
   },
   {
    "duration": 11284,
    "start_time": "2022-01-28T11:13:41.492Z"
   },
   {
    "duration": 51,
    "start_time": "2022-01-28T11:13:52.779Z"
   },
   {
    "duration": 24,
    "start_time": "2022-01-28T11:13:52.833Z"
   },
   {
    "duration": 64,
    "start_time": "2022-01-28T11:13:52.861Z"
   },
   {
    "duration": 4,
    "start_time": "2022-01-28T11:13:52.928Z"
   },
   {
    "duration": 1088,
    "start_time": "2022-01-28T11:13:52.942Z"
   },
   {
    "duration": 36,
    "start_time": "2022-01-28T11:13:54.034Z"
   },
   {
    "duration": 8,
    "start_time": "2022-01-28T11:13:54.072Z"
   },
   {
    "duration": 73,
    "start_time": "2022-01-28T11:13:54.082Z"
   },
   {
    "duration": 604,
    "start_time": "2022-01-28T11:13:54.158Z"
   },
   {
    "duration": 8,
    "start_time": "2022-01-28T11:13:54.765Z"
   },
   {
    "duration": 369,
    "start_time": "2022-01-28T11:13:54.775Z"
   },
   {
    "duration": 10,
    "start_time": "2022-01-28T11:13:55.147Z"
   },
   {
    "duration": 385,
    "start_time": "2022-01-28T11:13:55.161Z"
   },
   {
    "duration": 478,
    "start_time": "2022-01-28T11:13:55.549Z"
   },
   {
    "duration": 19,
    "start_time": "2022-01-28T11:13:56.030Z"
   },
   {
    "duration": 322,
    "start_time": "2022-01-28T11:13:56.053Z"
   },
   {
    "duration": 9,
    "start_time": "2022-01-28T11:13:56.378Z"
   },
   {
    "duration": 41,
    "start_time": "2022-01-28T11:13:56.390Z"
   },
   {
    "duration": 306,
    "start_time": "2022-01-28T11:13:56.434Z"
   },
   {
    "duration": 13,
    "start_time": "2022-01-28T11:13:56.743Z"
   },
   {
    "duration": 10,
    "start_time": "2022-01-28T11:13:56.758Z"
   },
   {
    "duration": 334,
    "start_time": "2022-01-28T11:13:56.771Z"
   },
   {
    "duration": 325,
    "start_time": "2022-01-28T11:13:57.108Z"
   },
   {
    "duration": 378,
    "start_time": "2022-01-28T11:13:57.435Z"
   },
   {
    "duration": 363,
    "start_time": "2022-01-28T11:13:57.816Z"
   },
   {
    "duration": 8,
    "start_time": "2022-01-28T11:13:58.183Z"
   },
   {
    "duration": 32,
    "start_time": "2022-01-28T11:13:58.194Z"
   },
   {
    "duration": 11,
    "start_time": "2022-01-28T11:13:58.230Z"
   },
   {
    "duration": 7,
    "start_time": "2022-01-28T11:13:58.245Z"
   },
   {
    "duration": 13,
    "start_time": "2022-01-28T11:13:58.255Z"
   },
   {
    "duration": 82,
    "start_time": "2022-01-28T11:13:58.273Z"
   },
   {
    "duration": 9,
    "start_time": "2022-01-28T11:13:58.359Z"
   },
   {
    "duration": 8,
    "start_time": "2022-01-28T11:13:58.371Z"
   },
   {
    "duration": 129,
    "start_time": "2022-01-28T11:13:58.382Z"
   },
   {
    "duration": 16,
    "start_time": "2022-01-28T11:13:58.514Z"
   },
   {
    "duration": 20,
    "start_time": "2022-01-28T11:13:58.533Z"
   },
   {
    "duration": 11,
    "start_time": "2022-01-28T11:13:58.556Z"
   },
   {
    "duration": 16,
    "start_time": "2022-01-28T11:13:58.570Z"
   },
   {
    "duration": 42,
    "start_time": "2022-01-28T11:13:58.589Z"
   },
   {
    "duration": 12,
    "start_time": "2022-01-28T11:13:58.633Z"
   },
   {
    "duration": 11,
    "start_time": "2022-01-28T11:13:58.648Z"
   },
   {
    "duration": 26,
    "start_time": "2022-01-28T11:13:58.661Z"
   },
   {
    "duration": 46,
    "start_time": "2022-01-28T11:13:58.689Z"
   },
   {
    "duration": 14,
    "start_time": "2022-01-28T11:13:58.738Z"
   },
   {
    "duration": 15,
    "start_time": "2022-01-28T11:13:58.755Z"
   },
   {
    "duration": 16,
    "start_time": "2022-01-28T11:13:58.773Z"
   },
   {
    "duration": 367,
    "start_time": "2022-01-28T11:13:58.791Z"
   },
   {
    "duration": 98,
    "start_time": "2022-01-28T11:13:59.161Z"
   },
   {
    "duration": 10,
    "start_time": "2022-01-28T11:13:59.262Z"
   },
   {
    "duration": 69,
    "start_time": "2022-01-28T11:13:59.275Z"
   },
   {
    "duration": 9,
    "start_time": "2022-01-28T11:13:59.347Z"
   },
   {
    "duration": 485,
    "start_time": "2022-01-28T11:13:59.359Z"
   },
   {
    "duration": 8,
    "start_time": "2022-01-28T11:13:59.847Z"
   },
   {
    "duration": 31,
    "start_time": "2022-01-28T11:13:59.858Z"
   },
   {
    "duration": 342,
    "start_time": "2022-01-28T11:13:59.892Z"
   },
   {
    "duration": 12,
    "start_time": "2022-01-28T11:14:00.237Z"
   },
   {
    "duration": 48,
    "start_time": "2022-01-28T11:14:00.252Z"
   },
   {
    "duration": 27,
    "start_time": "2022-01-28T11:14:00.303Z"
   },
   {
    "duration": 9,
    "start_time": "2022-01-28T11:14:00.343Z"
   },
   {
    "duration": 12,
    "start_time": "2022-01-28T11:14:00.355Z"
   },
   {
    "duration": 19,
    "start_time": "2022-01-28T11:14:00.369Z"
   },
   {
    "duration": 239,
    "start_time": "2022-01-28T13:28:37.353Z"
   },
   {
    "duration": 674,
    "start_time": "2022-01-28T13:28:45.703Z"
   },
   {
    "duration": 85,
    "start_time": "2022-01-28T13:28:46.380Z"
   },
   {
    "duration": 40,
    "start_time": "2022-01-28T13:28:46.468Z"
   },
   {
    "duration": 12,
    "start_time": "2022-01-28T13:28:46.511Z"
   },
   {
    "duration": 95,
    "start_time": "2022-01-28T13:28:46.525Z"
   },
   {
    "duration": 11,
    "start_time": "2022-01-28T13:28:46.621Z"
   },
   {
    "duration": 12,
    "start_time": "2022-01-28T13:28:46.633Z"
   },
   {
    "duration": 5,
    "start_time": "2022-01-28T13:28:46.648Z"
   },
   {
    "duration": 14,
    "start_time": "2022-01-28T13:28:46.656Z"
   },
   {
    "duration": 57,
    "start_time": "2022-01-28T13:28:46.672Z"
   },
   {
    "duration": 5,
    "start_time": "2022-01-28T13:28:46.731Z"
   },
   {
    "duration": 14,
    "start_time": "2022-01-28T13:28:46.738Z"
   },
   {
    "duration": 19,
    "start_time": "2022-01-28T13:28:46.754Z"
   },
   {
    "duration": 41,
    "start_time": "2022-01-28T13:28:46.774Z"
   },
   {
    "duration": 32,
    "start_time": "2022-01-28T13:28:46.817Z"
   },
   {
    "duration": 10,
    "start_time": "2022-01-28T13:28:46.851Z"
   },
   {
    "duration": 52,
    "start_time": "2022-01-28T13:28:46.862Z"
   },
   {
    "duration": 36,
    "start_time": "2022-01-28T13:28:46.915Z"
   },
   {
    "duration": 14,
    "start_time": "2022-01-28T13:28:46.953Z"
   },
   {
    "duration": 2157,
    "start_time": "2022-01-28T13:28:46.969Z"
   },
   {
    "duration": 20,
    "start_time": "2022-01-28T13:28:49.128Z"
   },
   {
    "duration": 8,
    "start_time": "2022-01-28T13:28:49.150Z"
   },
   {
    "duration": 7014,
    "start_time": "2022-01-28T13:28:49.165Z"
   },
   {
    "duration": 40,
    "start_time": "2022-01-28T13:28:56.182Z"
   },
   {
    "duration": 17,
    "start_time": "2022-01-28T13:28:56.223Z"
   },
   {
    "duration": 24,
    "start_time": "2022-01-28T13:28:56.241Z"
   },
   {
    "duration": 3,
    "start_time": "2022-01-28T13:28:56.267Z"
   },
   {
    "duration": 653,
    "start_time": "2022-01-28T13:28:56.272Z"
   },
   {
    "duration": 23,
    "start_time": "2022-01-28T13:28:56.927Z"
   },
   {
    "duration": 6,
    "start_time": "2022-01-28T13:28:56.951Z"
   },
   {
    "duration": 32,
    "start_time": "2022-01-28T13:28:56.958Z"
   },
   {
    "duration": 342,
    "start_time": "2022-01-28T13:28:57.008Z"
   },
   {
    "duration": 5,
    "start_time": "2022-01-28T13:28:57.352Z"
   },
   {
    "duration": 235,
    "start_time": "2022-01-28T13:28:57.359Z"
   },
   {
    "duration": 5,
    "start_time": "2022-01-28T13:28:57.596Z"
   },
   {
    "duration": 231,
    "start_time": "2022-01-28T13:28:57.607Z"
   },
   {
    "duration": 240,
    "start_time": "2022-01-28T13:28:57.840Z"
   },
   {
    "duration": 25,
    "start_time": "2022-01-28T13:28:58.082Z"
   },
   {
    "duration": 208,
    "start_time": "2022-01-28T13:28:58.109Z"
   },
   {
    "duration": 6,
    "start_time": "2022-01-28T13:28:58.319Z"
   },
   {
    "duration": 10,
    "start_time": "2022-01-28T13:28:58.327Z"
   },
   {
    "duration": 205,
    "start_time": "2022-01-28T13:28:58.339Z"
   },
   {
    "duration": 8,
    "start_time": "2022-01-28T13:28:58.546Z"
   },
   {
    "duration": 22,
    "start_time": "2022-01-28T13:28:58.556Z"
   },
   {
    "duration": 216,
    "start_time": "2022-01-28T13:28:58.580Z"
   },
   {
    "duration": 215,
    "start_time": "2022-01-28T13:28:58.798Z"
   },
   {
    "duration": 248,
    "start_time": "2022-01-28T13:28:59.014Z"
   },
   {
    "duration": 273,
    "start_time": "2022-01-28T13:28:59.264Z"
   },
   {
    "duration": 6,
    "start_time": "2022-01-28T13:28:59.539Z"
   },
   {
    "duration": 11,
    "start_time": "2022-01-28T13:28:59.547Z"
   },
   {
    "duration": 6,
    "start_time": "2022-01-28T13:28:59.561Z"
   },
   {
    "duration": 7,
    "start_time": "2022-01-28T13:28:59.569Z"
   },
   {
    "duration": 7,
    "start_time": "2022-01-28T13:28:59.609Z"
   },
   {
    "duration": 28,
    "start_time": "2022-01-28T13:28:59.618Z"
   },
   {
    "duration": 7,
    "start_time": "2022-01-28T13:28:59.649Z"
   },
   {
    "duration": 10,
    "start_time": "2022-01-28T13:28:59.658Z"
   },
   {
    "duration": 103,
    "start_time": "2022-01-28T13:28:59.670Z"
   },
   {
    "duration": 8,
    "start_time": "2022-01-28T13:28:59.775Z"
   },
   {
    "duration": 31,
    "start_time": "2022-01-28T13:28:59.785Z"
   },
   {
    "duration": 7,
    "start_time": "2022-01-28T13:28:59.819Z"
   },
   {
    "duration": 11,
    "start_time": "2022-01-28T13:28:59.828Z"
   },
   {
    "duration": 10,
    "start_time": "2022-01-28T13:28:59.842Z"
   },
   {
    "duration": 12,
    "start_time": "2022-01-28T13:28:59.854Z"
   },
   {
    "duration": 14,
    "start_time": "2022-01-28T13:28:59.868Z"
   },
   {
    "duration": 42,
    "start_time": "2022-01-28T13:28:59.884Z"
   },
   {
    "duration": 6,
    "start_time": "2022-01-28T13:28:59.928Z"
   },
   {
    "duration": 16,
    "start_time": "2022-01-28T13:28:59.936Z"
   },
   {
    "duration": 11,
    "start_time": "2022-01-28T13:28:59.959Z"
   },
   {
    "duration": 45,
    "start_time": "2022-01-28T13:28:59.973Z"
   },
   {
    "duration": 235,
    "start_time": "2022-01-28T13:29:00.020Z"
   },
   {
    "duration": 72,
    "start_time": "2022-01-28T13:29:00.257Z"
   },
   {
    "duration": 7,
    "start_time": "2022-01-28T13:29:00.330Z"
   },
   {
    "duration": 57,
    "start_time": "2022-01-28T13:29:00.339Z"
   },
   {
    "duration": 6,
    "start_time": "2022-01-28T13:29:00.398Z"
   },
   {
    "duration": 317,
    "start_time": "2022-01-28T13:29:00.405Z"
   },
   {
    "duration": 8,
    "start_time": "2022-01-28T13:29:00.725Z"
   },
   {
    "duration": 37,
    "start_time": "2022-01-28T13:29:00.736Z"
   },
   {
    "duration": 235,
    "start_time": "2022-01-28T13:29:00.775Z"
   },
   {
    "duration": 10,
    "start_time": "2022-01-28T13:29:01.012Z"
   },
   {
    "duration": 35,
    "start_time": "2022-01-28T13:29:01.024Z"
   },
   {
    "duration": 10,
    "start_time": "2022-01-28T13:29:01.062Z"
   },
   {
    "duration": 35,
    "start_time": "2022-01-28T13:29:01.074Z"
   },
   {
    "duration": 6,
    "start_time": "2022-01-28T13:29:01.112Z"
   },
   {
    "duration": 25,
    "start_time": "2022-01-28T13:29:01.121Z"
   },
   {
    "duration": 338,
    "start_time": "2022-01-28T15:22:58.709Z"
   },
   {
    "duration": 206,
    "start_time": "2022-01-28T15:23:22.240Z"
   },
   {
    "duration": 9,
    "start_time": "2022-01-28T15:23:33.674Z"
   },
   {
    "duration": 9,
    "start_time": "2022-01-28T15:24:37.738Z"
   },
   {
    "duration": 14,
    "start_time": "2022-01-28T15:30:42.196Z"
   },
   {
    "duration": 14,
    "start_time": "2022-01-28T15:30:44.025Z"
   },
   {
    "duration": 426,
    "start_time": "2022-01-28T15:32:38.450Z"
   },
   {
    "duration": 85,
    "start_time": "2022-01-28T15:33:17.277Z"
   },
   {
    "duration": 443,
    "start_time": "2022-01-28T15:33:30.903Z"
   },
   {
    "duration": 5,
    "start_time": "2022-01-28T15:35:27.150Z"
   },
   {
    "duration": 3,
    "start_time": "2022-01-28T15:36:53.919Z"
   },
   {
    "duration": 212,
    "start_time": "2022-01-28T15:37:02.424Z"
   },
   {
    "duration": 188,
    "start_time": "2022-01-28T15:38:45.359Z"
   },
   {
    "duration": 407,
    "start_time": "2022-01-28T15:39:51.206Z"
   },
   {
    "duration": 213,
    "start_time": "2022-01-28T15:40:43.327Z"
   },
   {
    "duration": 422,
    "start_time": "2022-01-28T15:40:59.714Z"
   },
   {
    "duration": 454,
    "start_time": "2022-01-28T15:41:48.355Z"
   },
   {
    "duration": 61,
    "start_time": "2022-01-28T15:42:07.268Z"
   },
   {
    "duration": 378,
    "start_time": "2022-01-28T15:42:14.505Z"
   },
   {
    "duration": 407,
    "start_time": "2022-01-28T15:44:36.895Z"
   },
   {
    "duration": 197,
    "start_time": "2022-01-28T15:44:51.827Z"
   },
   {
    "duration": 394,
    "start_time": "2022-01-28T15:45:27.303Z"
   },
   {
    "duration": 197,
    "start_time": "2022-01-28T15:45:57.507Z"
   },
   {
    "duration": 205,
    "start_time": "2022-01-28T15:46:11.012Z"
   },
   {
    "duration": 229,
    "start_time": "2022-01-28T15:46:32.911Z"
   },
   {
    "duration": 208,
    "start_time": "2022-01-28T15:47:35.988Z"
   },
   {
    "duration": 221,
    "start_time": "2022-01-28T15:48:37.239Z"
   },
   {
    "duration": 331,
    "start_time": "2022-01-28T15:49:31.385Z"
   },
   {
    "duration": 433,
    "start_time": "2022-01-28T15:49:56.063Z"
   },
   {
    "duration": 499,
    "start_time": "2022-01-28T15:50:04.479Z"
   },
   {
    "duration": 68,
    "start_time": "2022-01-28T15:50:34.644Z"
   },
   {
    "duration": 374,
    "start_time": "2022-01-28T15:50:44.388Z"
   },
   {
    "duration": 409,
    "start_time": "2022-01-28T15:50:52.991Z"
   },
   {
    "duration": 187,
    "start_time": "2022-01-28T15:51:08.955Z"
   },
   {
    "duration": 383,
    "start_time": "2022-01-28T15:52:10.996Z"
   },
   {
    "duration": 190,
    "start_time": "2022-01-28T15:52:30.072Z"
   },
   {
    "duration": 393,
    "start_time": "2022-01-28T15:53:22.540Z"
   },
   {
    "duration": 182,
    "start_time": "2022-01-28T15:53:33.308Z"
   },
   {
    "duration": 518,
    "start_time": "2022-01-28T16:05:08.032Z"
   },
   {
    "duration": 3,
    "start_time": "2022-01-28T16:05:09.985Z"
   },
   {
    "duration": 2436,
    "start_time": "2022-01-28T16:07:11.636Z"
   },
   {
    "duration": 2783,
    "start_time": "2022-01-28T16:07:55.528Z"
   },
   {
    "duration": 2652,
    "start_time": "2022-01-28T16:08:07.768Z"
   },
   {
    "duration": 734,
    "start_time": "2022-01-28T16:08:28.595Z"
   },
   {
    "duration": 905,
    "start_time": "2022-01-28T16:08:48.166Z"
   },
   {
    "duration": 572,
    "start_time": "2022-01-28T16:08:57.028Z"
   },
   {
    "duration": 69,
    "start_time": "2022-01-28T16:14:44.716Z"
   },
   {
    "duration": 3,
    "start_time": "2022-01-28T16:14:50.285Z"
   },
   {
    "duration": 11,
    "start_time": "2022-01-28T16:15:06.640Z"
   },
   {
    "duration": 56,
    "start_time": "2022-01-28T16:15:23.922Z"
   },
   {
    "duration": 1285,
    "start_time": "2022-01-28T16:15:41.010Z"
   },
   {
    "duration": 86,
    "start_time": "2022-01-28T16:15:42.297Z"
   },
   {
    "duration": 41,
    "start_time": "2022-01-28T16:15:42.386Z"
   },
   {
    "duration": 13,
    "start_time": "2022-01-28T16:15:42.429Z"
   },
   {
    "duration": 98,
    "start_time": "2022-01-28T16:15:42.444Z"
   },
   {
    "duration": 10,
    "start_time": "2022-01-28T16:15:42.544Z"
   },
   {
    "duration": 12,
    "start_time": "2022-01-28T16:15:42.556Z"
   },
   {
    "duration": 9,
    "start_time": "2022-01-28T16:15:42.570Z"
   },
   {
    "duration": 4,
    "start_time": "2022-01-28T16:15:42.609Z"
   },
   {
    "duration": 12,
    "start_time": "2022-01-28T16:15:42.614Z"
   },
   {
    "duration": 24,
    "start_time": "2022-01-28T16:15:42.628Z"
   },
   {
    "duration": 4,
    "start_time": "2022-01-28T16:15:42.655Z"
   },
   {
    "duration": 13,
    "start_time": "2022-01-28T16:15:42.661Z"
   },
   {
    "duration": 19,
    "start_time": "2022-01-28T16:15:42.708Z"
   },
   {
    "duration": 11,
    "start_time": "2022-01-28T16:15:42.729Z"
   },
   {
    "duration": 33,
    "start_time": "2022-01-28T16:15:42.742Z"
   },
   {
    "duration": 37,
    "start_time": "2022-01-28T16:15:42.777Z"
   },
   {
    "duration": 24,
    "start_time": "2022-01-28T16:15:42.816Z"
   },
   {
    "duration": 28,
    "start_time": "2022-01-28T16:15:42.842Z"
   },
   {
    "duration": 37,
    "start_time": "2022-01-28T16:15:42.872Z"
   },
   {
    "duration": 1849,
    "start_time": "2022-01-28T16:15:42.911Z"
   },
   {
    "duration": 20,
    "start_time": "2022-01-28T16:15:44.762Z"
   },
   {
    "duration": 22,
    "start_time": "2022-01-28T16:15:44.787Z"
   },
   {
    "duration": 7336,
    "start_time": "2022-01-28T16:15:44.813Z"
   },
   {
    "duration": 27,
    "start_time": "2022-01-28T16:15:52.151Z"
   },
   {
    "duration": 37,
    "start_time": "2022-01-28T16:15:52.180Z"
   },
   {
    "duration": 23,
    "start_time": "2022-01-28T16:15:52.219Z"
   },
   {
    "duration": 4,
    "start_time": "2022-01-28T16:15:52.244Z"
   },
   {
    "duration": 614,
    "start_time": "2022-01-28T16:15:52.250Z"
   },
   {
    "duration": 23,
    "start_time": "2022-01-28T16:15:52.866Z"
   },
   {
    "duration": 16,
    "start_time": "2022-01-28T16:15:52.891Z"
   },
   {
    "duration": 39,
    "start_time": "2022-01-28T16:15:52.910Z"
   },
   {
    "duration": 207,
    "start_time": "2022-01-28T16:15:52.951Z"
   },
   {
    "duration": 5,
    "start_time": "2022-01-28T16:15:53.160Z"
   },
   {
    "duration": 314,
    "start_time": "2022-01-28T16:15:53.166Z"
   },
   {
    "duration": 5,
    "start_time": "2022-01-28T16:15:53.482Z"
   },
   {
    "duration": 221,
    "start_time": "2022-01-28T16:15:53.489Z"
   },
   {
    "duration": 216,
    "start_time": "2022-01-28T16:15:53.712Z"
   },
   {
    "duration": 11,
    "start_time": "2022-01-28T16:15:53.931Z"
   },
   {
    "duration": 206,
    "start_time": "2022-01-28T16:15:53.943Z"
   },
   {
    "duration": 6,
    "start_time": "2022-01-28T16:15:54.151Z"
   },
   {
    "duration": 16,
    "start_time": "2022-01-28T16:15:54.159Z"
   },
   {
    "duration": 206,
    "start_time": "2022-01-28T16:15:54.177Z"
   },
   {
    "duration": 8,
    "start_time": "2022-01-28T16:15:54.385Z"
   },
   {
    "duration": 8,
    "start_time": "2022-01-28T16:15:54.407Z"
   },
   {
    "duration": 216,
    "start_time": "2022-01-28T16:15:54.417Z"
   },
   {
    "duration": 215,
    "start_time": "2022-01-28T16:15:54.635Z"
   },
   {
    "duration": 222,
    "start_time": "2022-01-28T16:15:54.852Z"
   },
   {
    "duration": 184,
    "start_time": "2022-01-28T16:15:55.076Z"
   },
   {
    "duration": 5,
    "start_time": "2022-01-28T16:15:55.262Z"
   },
   {
    "duration": 13,
    "start_time": "2022-01-28T16:15:55.269Z"
   },
   {
    "duration": 5,
    "start_time": "2022-01-28T16:15:55.284Z"
   },
   {
    "duration": 530,
    "start_time": "2022-01-28T16:15:55.307Z"
   },
   {
    "duration": 6,
    "start_time": "2022-01-28T16:15:55.839Z"
   },
   {
    "duration": 9,
    "start_time": "2022-01-28T16:15:55.846Z"
   },
   {
    "duration": 24,
    "start_time": "2022-01-28T16:15:55.857Z"
   },
   {
    "duration": 28,
    "start_time": "2022-01-28T16:15:55.883Z"
   },
   {
    "duration": 6,
    "start_time": "2022-01-28T16:15:55.912Z"
   },
   {
    "duration": 97,
    "start_time": "2022-01-28T16:15:55.920Z"
   },
   {
    "duration": 10,
    "start_time": "2022-01-28T16:15:56.020Z"
   },
   {
    "duration": 15,
    "start_time": "2022-01-28T16:15:56.032Z"
   },
   {
    "duration": 7,
    "start_time": "2022-01-28T16:15:56.050Z"
   },
   {
    "duration": 13,
    "start_time": "2022-01-28T16:15:56.059Z"
   },
   {
    "duration": 34,
    "start_time": "2022-01-28T16:15:56.074Z"
   },
   {
    "duration": 9,
    "start_time": "2022-01-28T16:15:56.110Z"
   },
   {
    "duration": 10,
    "start_time": "2022-01-28T16:15:56.121Z"
   },
   {
    "duration": 21,
    "start_time": "2022-01-28T16:15:56.133Z"
   },
   {
    "duration": 5,
    "start_time": "2022-01-28T16:15:56.160Z"
   },
   {
    "duration": 42,
    "start_time": "2022-01-28T16:15:56.167Z"
   },
   {
    "duration": 10,
    "start_time": "2022-01-28T16:15:56.211Z"
   },
   {
    "duration": 12,
    "start_time": "2022-01-28T16:15:56.223Z"
   },
   {
    "duration": 233,
    "start_time": "2022-01-28T16:15:56.237Z"
   },
   {
    "duration": 155,
    "start_time": "2022-01-28T16:15:56.472Z"
   },
   {
    "duration": 8,
    "start_time": "2022-01-28T16:15:56.629Z"
   },
   {
    "duration": 29,
    "start_time": "2022-01-28T16:15:56.639Z"
   },
   {
    "duration": 39,
    "start_time": "2022-01-28T16:15:56.670Z"
   },
   {
    "duration": 503,
    "start_time": "2022-01-28T16:15:56.711Z"
   },
   {
    "duration": 8,
    "start_time": "2022-01-28T16:15:57.217Z"
   },
   {
    "duration": 82,
    "start_time": "2022-01-28T16:15:57.227Z"
   },
   {
    "duration": 435,
    "start_time": "2022-01-28T16:15:57.311Z"
   },
   {
    "duration": 7,
    "start_time": "2022-01-28T16:15:57.748Z"
   },
   {
    "duration": 23,
    "start_time": "2022-01-28T16:15:57.757Z"
   },
   {
    "duration": 27,
    "start_time": "2022-01-28T16:15:57.782Z"
   },
   {
    "duration": 6,
    "start_time": "2022-01-28T16:15:57.811Z"
   },
   {
    "duration": 5,
    "start_time": "2022-01-28T16:15:57.819Z"
   },
   {
    "duration": 7,
    "start_time": "2022-01-28T16:15:57.826Z"
   }
  ],
  "kernelspec": {
   "display_name": "Python 3 (ipykernel)",
   "language": "python",
   "name": "python3"
  },
  "language_info": {
   "codemirror_mode": {
    "name": "ipython",
    "version": 3
   },
   "file_extension": ".py",
   "mimetype": "text/x-python",
   "name": "python",
   "nbconvert_exporter": "python",
   "pygments_lexer": "ipython3",
   "version": "3.9.7"
  },
  "toc": {
   "base_numbering": 1,
   "nav_menu": {},
   "number_sections": true,
   "sideBar": true,
   "skip_h1_title": true,
   "title_cell": "Содержание",
   "title_sidebar": "Contents",
   "toc_cell": true,
   "toc_position": {
    "height": "calc(100% - 180px)",
    "left": "10px",
    "top": "150px",
    "width": "166px"
   },
   "toc_section_display": true,
   "toc_window_display": true
  }
 },
 "nbformat": 4,
 "nbformat_minor": 2
}
